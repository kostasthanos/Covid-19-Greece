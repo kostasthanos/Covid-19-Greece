{
 "cells": [
  {
   "cell_type": "markdown",
   "metadata": {},
   "source": [
    "# Covid-19 Data with plots from Greece"
   ]
  },
  {
   "cell_type": "markdown",
   "metadata": {},
   "source": [
    "## Libraries"
   ]
  },
  {
   "cell_type": "code",
   "execution_count": 1,
   "metadata": {},
   "outputs": [
    {
     "data": {
      "text/html": [
       "        <script type=\"text/javascript\">\n",
       "        window.PlotlyConfig = {MathJaxConfig: 'local'};\n",
       "        if (window.MathJax) {MathJax.Hub.Config({SVG: {font: \"STIX-Web\"}});}\n",
       "        if (typeof require !== 'undefined') {\n",
       "        require.undef(\"plotly\");\n",
       "        requirejs.config({\n",
       "            paths: {\n",
       "                'plotly': ['https://cdn.plot.ly/plotly-latest.min']\n",
       "            }\n",
       "        });\n",
       "        require(['plotly'], function(Plotly) {\n",
       "            window._Plotly = Plotly;\n",
       "        });\n",
       "        }\n",
       "        </script>\n",
       "        "
      ]
     },
     "metadata": {},
     "output_type": "display_data"
    }
   ],
   "source": [
    "import calendar\n",
    "import datetime\n",
    "import pandas as pd\n",
    "\n",
    "import urllib \n",
    "import requests\n",
    "import re\n",
    "\n",
    "import pdfminer\n",
    "\n",
    "import io\n",
    "\n",
    "from bs4 import BeautifulSoup\n",
    "\n",
    "from plotly.subplots import make_subplots\n",
    "import plotly.graph_objects as go\n",
    "import cufflinks as cf\n",
    "\n",
    "cf.go_offline()"
   ]
  },
  {
   "cell_type": "markdown",
   "metadata": {},
   "source": [
    "## Dates & Date Manipulation"
   ]
  },
  {
   "cell_type": "markdown",
   "metadata": {},
   "source": [
    "### Set date format as : day/month (DD/MM). e.g. 20/05"
   ]
  },
  {
   "cell_type": "code",
   "execution_count": 2,
   "metadata": {},
   "outputs": [],
   "source": [
    "# Current date, month, year and time in string format\n",
    "current_date = datetime.datetime.now()\n",
    "current_month = str(current_date.month)\n",
    "current_year = str(current_date.year)\n",
    "current_time = str(current_date.time())[:5]\n",
    "\n",
    "# Check if time is before 21:00 to be sure about cases report\n",
    "if int(current_time.replace(':','')) < 2100: \n",
    "    dd = 1\n",
    "else:\n",
    "    dd = 0\n",
    "    \n",
    "# Add (dd=)-1 for yesterday's results in case today's results are not ready yet\n",
    "temp_day = current_date.day-dd\n",
    "\n",
    "#------------------\n",
    "# Procedure to add 0 in front of month's number if number < 10 (e.g. June : 6 => 06)\n",
    "if int(current_month)<10:\n",
    "    month = '0' + current_month\n",
    "else:\n",
    "    month = current_month\n",
    "    \n",
    "# Procedure to add 0 in front of day's number if number < 10 (e.g. 7 of June => 07)\n",
    "if temp_day<10:\n",
    "    day = '0' + str(temp_day)\n",
    "else:\n",
    "    day = str(temp_day)\n",
    "#------------------\n",
    "\n",
    "# Check if (dd=)-1 gives wrong number of day like 00\n",
    "# Use monthrange(year, month)\n",
    "# monthrange() : returns weekday of first day of month and number of days in month\n",
    "if day=='00':\n",
    "    month = '0' + str(int(month)-1)\n",
    "    day = str(calendar.monthrange(int(current_year), int(current_month)-1)[-1]) # Get number of days in previous month\n",
    "    \n",
    "# Current date\n",
    "date = day + '/' + month"
   ]
  },
  {
   "cell_type": "markdown",
   "metadata": {},
   "source": [
    "## Read local csv with pandas"
   ]
  },
  {
   "cell_type": "code",
   "execution_count": 3,
   "metadata": {},
   "outputs": [],
   "source": [
    "filename = 'covid-19_greece_data.csv'\n",
    "# Pandas DataFrame\n",
    "# Read csv file with all cases before today's report\n",
    "df_init = pd.read_csv(filename)"
   ]
  },
  {
   "cell_type": "markdown",
   "metadata": {},
   "source": [
    "## Weather Data - Max temperature per day\n",
    "### Source : Acharnes Weather Station (http://www.meteoacharnes.gr/statistika/datasummary.htm)\n",
    "### If new data are not available yet then fill dataframe with the mean of max temperatures of the last two days"
   ]
  },
  {
   "cell_type": "code",
   "execution_count": 4,
   "metadata": {
    "scrolled": true
   },
   "outputs": [],
   "source": [
    "# URL of current month data about temperatures\n",
    "meteoach_url = 'http://www.meteoacharnes.gr/Reports/NOAAMO' + month + current_year[-2:] + '.txt'\n",
    "\n",
    "# Read .txt file from url and save only the max temperature of the current day\n",
    "max_temp_file = urllib.request.urlopen(meteoach_url)\n",
    "\n",
    "# Save values of Max Temperatures column as floating point numbers\n",
    "df_init['Max Temperatures'] = df_init['Max Temperatures'].astype(float)\n",
    "\n",
    "# Check if number of day is < 10\n",
    "# For example if day='05' then set tday to ' 5' to find the corresponding data\n",
    "if int(temp_day)<10:\n",
    "    tday = ' ' + str(temp_day)\n",
    "    num = 5\n",
    "else:\n",
    "    tday = str(temp_day)\n",
    "    num = 4\n",
    "\n",
    "key1 = False\n",
    "for init_line in max_temp_file:\n",
    "    line = init_line.decode(\"utf-8\")\n",
    "    if line[:2] == tday:\n",
    "        yt = line.split(' ')[num].replace(',','.')\n",
    "        key1 = True\n",
    "    else:\n",
    "        tt = df_init['Max Temperatures'][-2:].mean() # mean of max temperatures of last two days\n",
    "        \n",
    "if key1:\n",
    "    max_temp = float(yt)\n",
    "else:\n",
    "    max_temp = tt"
   ]
  },
  {
   "cell_type": "markdown",
   "metadata": {},
   "source": [
    "## Current data from Hellenic National Public Health Organization (EODY)\n",
    "### Source : EODY reports (https://eody.gov.gr/epidimiologika-statistika-dedomena/ektheseis-covid-19/) "
   ]
  },
  {
   "cell_type": "code",
   "execution_count": 5,
   "metadata": {},
   "outputs": [],
   "source": [
    "# Set curret pdf url\n",
    "eody_url = 'https://eody.gov.gr/wp-content/uploads/' + current_year + '/' + month + '/covid-gr-daily-report-' + current_year + month + day + '.pdf'\n",
    "pdf_file = requests.get(eody_url)\n",
    "\n",
    "# Save daily report pdf\n",
    "open('daily_report.pdf', 'wb').write(pdf_file.content)\n",
    "\n",
    "# Save daily_report.pdf content to text file using pdminer and pdf2txt.py\n",
    "# pdf2txt.py [-o output_file] initial_pdf_file\n",
    "!pdf2txt.py -o pdf_to_txt daily_report.pdf\n",
    "\n",
    "# Set name of text file\n",
    "newpath = 'pdf_to_txt' # Or pdf_to_txt.txt\n",
    "\n",
    "data = []\n",
    "\n",
    "with open(newpath, 'r') as report:\n",
    "    report_content = report.read()\n",
    "    temp_content = report_content.split('\\n\\n')\n",
    "    needed_content = temp_content[3]\n",
    "    \n",
    "    # Use of regular expressions to find needed data\n",
    "    init_data_a = re.findall(r'Τα νέα εργαστηριακά επιβεβαιωμένα κρούσματα της νόσου είναι (\\d+)',  needed_content)\n",
    "    init_data_b = re.findall(r'Ο συνολικός αριθμός των κρουσμάτων ανέρχεται σε (\\d+)' ,  needed_content)\n",
    "    init_data_c = re.findall(r'(\\d+) θάνατοι', needed_content)\n",
    "    data.append(int(init_data_a[0]))\n",
    "    data.append(int(init_data_b[0]))\n",
    "    data.append(int(init_data_c[0]))\n",
    "    \n",
    "    report.close()"
   ]
  },
  {
   "cell_type": "markdown",
   "metadata": {},
   "source": [
    "## Check for number of total recovered until today"
   ]
  },
  {
   "cell_type": "code",
   "execution_count": 6,
   "metadata": {},
   "outputs": [],
   "source": [
    "recovered = 1374"
   ]
  },
  {
   "cell_type": "markdown",
   "metadata": {},
   "source": [
    "## Construct a dictionairy of the daily instance"
   ]
  },
  {
   "cell_type": "code",
   "execution_count": 7,
   "metadata": {},
   "outputs": [],
   "source": [
    "# Save all the above daily data into a dictionairy\n",
    "diction = {'Dates': date,\n",
    "           'Total Cases': data[1],\n",
    "           'Daily Cases': data[0],\n",
    "           'Total Recovered': recovered,\n",
    "           'Active Cases': data[1]-recovered-data[-1],\n",
    "           'Max Temperatures': max_temp}"
   ]
  },
  {
   "cell_type": "markdown",
   "metadata": {},
   "source": [
    "## Add new data on the dataframe\n",
    "### Local file : covid-19_greece_data.csv"
   ]
  },
  {
   "cell_type": "code",
   "execution_count": 8,
   "metadata": {},
   "outputs": [],
   "source": [
    "# New Dataframe with concatination\n",
    "df = pd.concat([df_init, pd.DataFrame([pd.Series(diction)], index = [len(df_init)])])\n",
    "last_row = df.iloc[[-1]].to_string(header=False, index=False, index_names=False).split('\\n')\n",
    "\n",
    "values = [','.join(value.split()) for value in last_row]\n",
    "\n",
    "start_row = ''\n",
    "# Save daily data into csv file with ',' seperated\n",
    "for i in last_row[0].split():\n",
    "    start_row += i + ','\n",
    "    \n",
    "with open(filename, 'r') as fr:\n",
    "    if df['Dates'][len(df.Dates)-1] in fr.read():\n",
    "        key4 = True\n",
    "    else:\n",
    "        key4 = False\n",
    "\n",
    "if not key4:\n",
    "    with open(filename, 'a') as fd:\n",
    "        fd.write(start_row[:-1])"
   ]
  },
  {
   "cell_type": "code",
   "execution_count": 9,
   "metadata": {},
   "outputs": [
    {
     "data": {
      "text/html": [
       "<div>\n",
       "<style scoped>\n",
       "    .dataframe tbody tr th:only-of-type {\n",
       "        vertical-align: middle;\n",
       "    }\n",
       "\n",
       "    .dataframe tbody tr th {\n",
       "        vertical-align: top;\n",
       "    }\n",
       "\n",
       "    .dataframe thead th {\n",
       "        text-align: right;\n",
       "    }\n",
       "</style>\n",
       "<table border=\"1\" class=\"dataframe\">\n",
       "  <thead>\n",
       "    <tr style=\"text-align: right;\">\n",
       "      <th></th>\n",
       "      <th>Dates</th>\n",
       "      <th>Total Cases</th>\n",
       "      <th>Daily Cases</th>\n",
       "      <th>Total Recovered</th>\n",
       "      <th>Active Cases</th>\n",
       "      <th>Max Temperatures</th>\n",
       "    </tr>\n",
       "  </thead>\n",
       "  <tbody>\n",
       "    <tr>\n",
       "      <th>0</th>\n",
       "      <td>26/02</td>\n",
       "      <td>1</td>\n",
       "      <td>1</td>\n",
       "      <td>0</td>\n",
       "      <td>1</td>\n",
       "      <td>18.8</td>\n",
       "    </tr>\n",
       "    <tr>\n",
       "      <th>1</th>\n",
       "      <td>27/02</td>\n",
       "      <td>3</td>\n",
       "      <td>2</td>\n",
       "      <td>0</td>\n",
       "      <td>3</td>\n",
       "      <td>18.8</td>\n",
       "    </tr>\n",
       "    <tr>\n",
       "      <th>2</th>\n",
       "      <td>28/02</td>\n",
       "      <td>4</td>\n",
       "      <td>1</td>\n",
       "      <td>0</td>\n",
       "      <td>4</td>\n",
       "      <td>14.9</td>\n",
       "    </tr>\n",
       "    <tr>\n",
       "      <th>3</th>\n",
       "      <td>29/02</td>\n",
       "      <td>7</td>\n",
       "      <td>3</td>\n",
       "      <td>0</td>\n",
       "      <td>4</td>\n",
       "      <td>12.5</td>\n",
       "    </tr>\n",
       "    <tr>\n",
       "      <th>4</th>\n",
       "      <td>01/03</td>\n",
       "      <td>7</td>\n",
       "      <td>0</td>\n",
       "      <td>0</td>\n",
       "      <td>7</td>\n",
       "      <td>15.5</td>\n",
       "    </tr>\n",
       "    <tr>\n",
       "      <th>...</th>\n",
       "      <td>...</td>\n",
       "      <td>...</td>\n",
       "      <td>...</td>\n",
       "      <td>...</td>\n",
       "      <td>...</td>\n",
       "      <td>...</td>\n",
       "    </tr>\n",
       "    <tr>\n",
       "      <th>134</th>\n",
       "      <td>09/07</td>\n",
       "      <td>3672</td>\n",
       "      <td>50</td>\n",
       "      <td>1374</td>\n",
       "      <td>2105</td>\n",
       "      <td>29.7</td>\n",
       "    </tr>\n",
       "    <tr>\n",
       "      <th>135</th>\n",
       "      <td>10/07</td>\n",
       "      <td>3732</td>\n",
       "      <td>60</td>\n",
       "      <td>1374</td>\n",
       "      <td>2165</td>\n",
       "      <td>31.6</td>\n",
       "    </tr>\n",
       "    <tr>\n",
       "      <th>136</th>\n",
       "      <td>11/07</td>\n",
       "      <td>3772</td>\n",
       "      <td>41</td>\n",
       "      <td>1374</td>\n",
       "      <td>2205</td>\n",
       "      <td>32.9</td>\n",
       "    </tr>\n",
       "    <tr>\n",
       "      <th>137</th>\n",
       "      <td>12/07</td>\n",
       "      <td>3803</td>\n",
       "      <td>31</td>\n",
       "      <td>1374</td>\n",
       "      <td>2236</td>\n",
       "      <td>33.0</td>\n",
       "    </tr>\n",
       "    <tr>\n",
       "      <th>138</th>\n",
       "      <td>13/07</td>\n",
       "      <td>3826</td>\n",
       "      <td>24</td>\n",
       "      <td>1374</td>\n",
       "      <td>2259</td>\n",
       "      <td>30.9</td>\n",
       "    </tr>\n",
       "  </tbody>\n",
       "</table>\n",
       "<p>139 rows × 6 columns</p>\n",
       "</div>"
      ],
      "text/plain": [
       "     Dates  Total Cases  Daily Cases  Total Recovered  Active Cases  \\\n",
       "0    26/02            1            1                0             1   \n",
       "1    27/02            3            2                0             3   \n",
       "2    28/02            4            1                0             4   \n",
       "3    29/02            7            3                0             4   \n",
       "4    01/03            7            0                0             7   \n",
       "..     ...          ...          ...              ...           ...   \n",
       "134  09/07         3672           50             1374          2105   \n",
       "135  10/07         3732           60             1374          2165   \n",
       "136  11/07         3772           41             1374          2205   \n",
       "137  12/07         3803           31             1374          2236   \n",
       "138  13/07         3826           24             1374          2259   \n",
       "\n",
       "     Max Temperatures  \n",
       "0                18.8  \n",
       "1                18.8  \n",
       "2                14.9  \n",
       "3                12.5  \n",
       "4                15.5  \n",
       "..                ...  \n",
       "134              29.7  \n",
       "135              31.6  \n",
       "136              32.9  \n",
       "137              33.0  \n",
       "138              30.9  \n",
       "\n",
       "[139 rows x 6 columns]"
      ]
     },
     "execution_count": 9,
     "metadata": {},
     "output_type": "execute_result"
    }
   ],
   "source": [
    "df"
   ]
  },
  {
   "cell_type": "code",
   "execution_count": 10,
   "metadata": {},
   "outputs": [
    {
     "data": {
      "text/html": [
       "<div>\n",
       "<style scoped>\n",
       "    .dataframe tbody tr th:only-of-type {\n",
       "        vertical-align: middle;\n",
       "    }\n",
       "\n",
       "    .dataframe tbody tr th {\n",
       "        vertical-align: top;\n",
       "    }\n",
       "\n",
       "    .dataframe thead th {\n",
       "        text-align: right;\n",
       "    }\n",
       "</style>\n",
       "<table border=\"1\" class=\"dataframe\">\n",
       "  <thead>\n",
       "    <tr style=\"text-align: right;\">\n",
       "      <th></th>\n",
       "      <th>Dates</th>\n",
       "      <th>Total Cases</th>\n",
       "      <th>Daily Cases</th>\n",
       "      <th>Total Recovered</th>\n",
       "      <th>Active Cases</th>\n",
       "      <th>Max Temperatures</th>\n",
       "    </tr>\n",
       "  </thead>\n",
       "  <tbody>\n",
       "    <tr>\n",
       "      <th>134</th>\n",
       "      <td>09/07</td>\n",
       "      <td>3672</td>\n",
       "      <td>50</td>\n",
       "      <td>1374</td>\n",
       "      <td>2105</td>\n",
       "      <td>29.7</td>\n",
       "    </tr>\n",
       "    <tr>\n",
       "      <th>135</th>\n",
       "      <td>10/07</td>\n",
       "      <td>3732</td>\n",
       "      <td>60</td>\n",
       "      <td>1374</td>\n",
       "      <td>2165</td>\n",
       "      <td>31.6</td>\n",
       "    </tr>\n",
       "    <tr>\n",
       "      <th>136</th>\n",
       "      <td>11/07</td>\n",
       "      <td>3772</td>\n",
       "      <td>41</td>\n",
       "      <td>1374</td>\n",
       "      <td>2205</td>\n",
       "      <td>32.9</td>\n",
       "    </tr>\n",
       "    <tr>\n",
       "      <th>137</th>\n",
       "      <td>12/07</td>\n",
       "      <td>3803</td>\n",
       "      <td>31</td>\n",
       "      <td>1374</td>\n",
       "      <td>2236</td>\n",
       "      <td>33.0</td>\n",
       "    </tr>\n",
       "    <tr>\n",
       "      <th>138</th>\n",
       "      <td>13/07</td>\n",
       "      <td>3826</td>\n",
       "      <td>24</td>\n",
       "      <td>1374</td>\n",
       "      <td>2259</td>\n",
       "      <td>30.9</td>\n",
       "    </tr>\n",
       "  </tbody>\n",
       "</table>\n",
       "</div>"
      ],
      "text/plain": [
       "     Dates  Total Cases  Daily Cases  Total Recovered  Active Cases  \\\n",
       "134  09/07         3672           50             1374          2105   \n",
       "135  10/07         3732           60             1374          2165   \n",
       "136  11/07         3772           41             1374          2205   \n",
       "137  12/07         3803           31             1374          2236   \n",
       "138  13/07         3826           24             1374          2259   \n",
       "\n",
       "     Max Temperatures  \n",
       "134              29.7  \n",
       "135              31.6  \n",
       "136              32.9  \n",
       "137              33.0  \n",
       "138              30.9  "
      ]
     },
     "execution_count": 10,
     "metadata": {},
     "output_type": "execute_result"
    }
   ],
   "source": [
    "# Last 5 days of data\n",
    "df.tail()"
   ]
  },
  {
   "cell_type": "code",
   "execution_count": 11,
   "metadata": {},
   "outputs": [
    {
     "data": {
      "text/html": [
       "<div>\n",
       "<style scoped>\n",
       "    .dataframe tbody tr th:only-of-type {\n",
       "        vertical-align: middle;\n",
       "    }\n",
       "\n",
       "    .dataframe tbody tr th {\n",
       "        vertical-align: top;\n",
       "    }\n",
       "\n",
       "    .dataframe thead th {\n",
       "        text-align: right;\n",
       "    }\n",
       "</style>\n",
       "<table border=\"1\" class=\"dataframe\">\n",
       "  <thead>\n",
       "    <tr style=\"text-align: right;\">\n",
       "      <th></th>\n",
       "      <th>Total Cases</th>\n",
       "      <th>Daily Cases</th>\n",
       "      <th>Total Recovered</th>\n",
       "      <th>Active Cases</th>\n",
       "      <th>Max Temperatures</th>\n",
       "    </tr>\n",
       "    <tr>\n",
       "      <th>Dates</th>\n",
       "      <th></th>\n",
       "      <th></th>\n",
       "      <th></th>\n",
       "      <th></th>\n",
       "      <th></th>\n",
       "    </tr>\n",
       "  </thead>\n",
       "  <tbody>\n",
       "    <tr>\n",
       "      <th>09/07</th>\n",
       "      <td>3672</td>\n",
       "      <td>50</td>\n",
       "      <td>1374</td>\n",
       "      <td>2105</td>\n",
       "      <td>29.7</td>\n",
       "    </tr>\n",
       "    <tr>\n",
       "      <th>10/07</th>\n",
       "      <td>3732</td>\n",
       "      <td>60</td>\n",
       "      <td>1374</td>\n",
       "      <td>2165</td>\n",
       "      <td>31.6</td>\n",
       "    </tr>\n",
       "    <tr>\n",
       "      <th>11/07</th>\n",
       "      <td>3772</td>\n",
       "      <td>41</td>\n",
       "      <td>1374</td>\n",
       "      <td>2205</td>\n",
       "      <td>32.9</td>\n",
       "    </tr>\n",
       "    <tr>\n",
       "      <th>12/07</th>\n",
       "      <td>3803</td>\n",
       "      <td>31</td>\n",
       "      <td>1374</td>\n",
       "      <td>2236</td>\n",
       "      <td>33.0</td>\n",
       "    </tr>\n",
       "    <tr>\n",
       "      <th>13/07</th>\n",
       "      <td>3826</td>\n",
       "      <td>24</td>\n",
       "      <td>1374</td>\n",
       "      <td>2259</td>\n",
       "      <td>30.9</td>\n",
       "    </tr>\n",
       "  </tbody>\n",
       "</table>\n",
       "</div>"
      ],
      "text/plain": [
       "       Total Cases  Daily Cases  Total Recovered  Active Cases  \\\n",
       "Dates                                                            \n",
       "09/07         3672           50             1374          2105   \n",
       "10/07         3732           60             1374          2165   \n",
       "11/07         3772           41             1374          2205   \n",
       "12/07         3803           31             1374          2236   \n",
       "13/07         3826           24             1374          2259   \n",
       "\n",
       "       Max Temperatures  \n",
       "Dates                    \n",
       "09/07              29.7  \n",
       "10/07              31.6  \n",
       "11/07              32.9  \n",
       "12/07              33.0  \n",
       "13/07              30.9  "
      ]
     },
     "execution_count": 11,
     "metadata": {},
     "output_type": "execute_result"
    }
   ],
   "source": [
    "# Set dates column as index\n",
    "df.set_index('Dates', inplace=True)\n",
    "df.tail()"
   ]
  },
  {
   "cell_type": "markdown",
   "metadata": {},
   "source": [
    "## Data in Plots\n",
    "### Click and drag mouse to select specific area of plot to zoom in.  Move mouse over bars to see data"
   ]
  },
  {
   "cell_type": "markdown",
   "metadata": {},
   "source": [
    "## Total Cases per Day"
   ]
  },
  {
   "cell_type": "code",
   "execution_count": 12,
   "metadata": {},
   "outputs": [
    {
     "data": {
      "application/vnd.plotly.v1+json": {
       "config": {
        "linkText": "Export to plot.ly",
        "plotlyServerURL": "https://plot.ly",
        "showLink": true
       },
       "data": [
        {
         "line": {
          "color": "rgba(55, 128, 191, 1.0)",
          "dash": "solid",
          "shape": "linear",
          "width": 1.3
         },
         "marker": {
          "size": 7,
          "symbol": "circle"
         },
         "mode": "lines+markers",
         "name": "Total Cases",
         "text": "",
         "type": "scatter",
         "x": [
          "26/02",
          "27/02",
          "28/02",
          "29/02",
          "01/03",
          "02/03",
          "03/03",
          "04/03",
          "05/03",
          "06/03",
          "07/03",
          "08/03",
          "09/03",
          "10/03",
          "11/03",
          "12/03",
          "13/03",
          "14/03",
          "15/03",
          "16/03",
          "17/03",
          "18/03",
          "19/03",
          "20/03",
          "21/03",
          "22/03",
          "23/03",
          "24/03",
          "25/03",
          "26/03",
          "27/03",
          "28/03",
          "29/03",
          "30/03",
          "31/03",
          "01/04",
          "02/04",
          "03/04",
          "04/04",
          "05/04",
          "06/04",
          "07/04",
          "08/04",
          "09/04",
          "10/04",
          "11/04",
          "12/04",
          "13/04",
          "14/04",
          "15/04",
          "16/04",
          "17/04",
          "18/04",
          "19/04",
          "20/04",
          "21/04",
          "22/04",
          "23/04",
          "24/04",
          "25/04",
          "26/04",
          "27/04",
          "28/04",
          "29/04",
          "30/04",
          "01/05",
          "02/05",
          "03/05",
          "04/05",
          "05/05",
          "06/05",
          "07/05",
          "08/05",
          "09/05",
          "10/05",
          "11/05",
          "12/05",
          "13/05",
          "14/05",
          "15/05",
          "16/05",
          "17/05",
          "18/05",
          "19/05",
          "20/05",
          "21/05",
          "22/05",
          "23/05",
          "24/05",
          "25/05",
          "26/05",
          "27/05",
          "28/05",
          "29/05",
          "30/05",
          "31/05",
          "01/06",
          "02/06",
          "03/06",
          "04/06",
          "05/06",
          "06/06",
          "07/06",
          "08/06",
          "09/06",
          "10/06",
          "11/06",
          "12/06",
          "13/06",
          "14/06",
          "15/06",
          "16/06",
          "17/06",
          "18/06",
          "19/06",
          "20/06",
          "21/06",
          "22/06",
          "23/06",
          "24/06",
          "25/06",
          "26/06",
          "27/06",
          "28/06",
          "29/06",
          "30/06",
          "01/07",
          "02/07",
          "03/07",
          "04/07",
          "05/07",
          "06/07",
          "07/07",
          "08/07",
          "09/07",
          "10/07",
          "11/07",
          "12/07",
          "13/07"
         ],
         "y": [
          1,
          3,
          4,
          7,
          7,
          7,
          7,
          9,
          31,
          45,
          66,
          73,
          84,
          89,
          99,
          117,
          190,
          228,
          331,
          352,
          387,
          418,
          464,
          495,
          530,
          624,
          695,
          743,
          821,
          892,
          966,
          1061,
          1156,
          1212,
          1314,
          1415,
          1544,
          1613,
          1673,
          1735,
          1755,
          1832,
          1884,
          1955,
          2009,
          2081,
          2114,
          2145,
          2170,
          2192,
          2207,
          2224,
          2235,
          2235,
          2245,
          2401,
          2408,
          2463,
          2490,
          2506,
          2517,
          2534,
          2566,
          2576,
          2591,
          2612,
          2620,
          2626,
          2632,
          2642,
          2663,
          2678,
          2691,
          2710,
          2716,
          2726,
          2744,
          2760,
          2770,
          2810,
          2819,
          2834,
          2836,
          2840,
          2850,
          2853,
          2873,
          2876,
          2878,
          2882,
          2889,
          2903,
          2906,
          2909,
          2915,
          2917,
          2918,
          2937,
          2937,
          2952,
          2967,
          2980,
          2997,
          3049,
          3058,
          3068,
          3088,
          3108,
          3112,
          3121,
          3134,
          3148,
          3203,
          3227,
          3237,
          3256,
          3266,
          3287,
          3302,
          3310,
          3321,
          3343,
          3366,
          3376,
          3390,
          3409,
          3432,
          3458,
          3486,
          3511,
          3519,
          3562,
          3589,
          3622,
          3672,
          3732,
          3772,
          3803,
          3826
         ]
        }
       ],
       "layout": {
        "legend": {
         "bgcolor": "#F5F6F9",
         "font": {
          "color": "#4D5663"
         }
        },
        "paper_bgcolor": "#F5F6F9",
        "plot_bgcolor": "#F5F6F9",
        "template": {
         "data": {
          "bar": [
           {
            "error_x": {
             "color": "#2a3f5f"
            },
            "error_y": {
             "color": "#2a3f5f"
            },
            "marker": {
             "line": {
              "color": "#E5ECF6",
              "width": 0.5
             }
            },
            "type": "bar"
           }
          ],
          "barpolar": [
           {
            "marker": {
             "line": {
              "color": "#E5ECF6",
              "width": 0.5
             }
            },
            "type": "barpolar"
           }
          ],
          "carpet": [
           {
            "aaxis": {
             "endlinecolor": "#2a3f5f",
             "gridcolor": "white",
             "linecolor": "white",
             "minorgridcolor": "white",
             "startlinecolor": "#2a3f5f"
            },
            "baxis": {
             "endlinecolor": "#2a3f5f",
             "gridcolor": "white",
             "linecolor": "white",
             "minorgridcolor": "white",
             "startlinecolor": "#2a3f5f"
            },
            "type": "carpet"
           }
          ],
          "choropleth": [
           {
            "colorbar": {
             "outlinewidth": 0,
             "ticks": ""
            },
            "type": "choropleth"
           }
          ],
          "contour": [
           {
            "colorbar": {
             "outlinewidth": 0,
             "ticks": ""
            },
            "colorscale": [
             [
              0,
              "#0d0887"
             ],
             [
              0.1111111111111111,
              "#46039f"
             ],
             [
              0.2222222222222222,
              "#7201a8"
             ],
             [
              0.3333333333333333,
              "#9c179e"
             ],
             [
              0.4444444444444444,
              "#bd3786"
             ],
             [
              0.5555555555555556,
              "#d8576b"
             ],
             [
              0.6666666666666666,
              "#ed7953"
             ],
             [
              0.7777777777777778,
              "#fb9f3a"
             ],
             [
              0.8888888888888888,
              "#fdca26"
             ],
             [
              1,
              "#f0f921"
             ]
            ],
            "type": "contour"
           }
          ],
          "contourcarpet": [
           {
            "colorbar": {
             "outlinewidth": 0,
             "ticks": ""
            },
            "type": "contourcarpet"
           }
          ],
          "heatmap": [
           {
            "colorbar": {
             "outlinewidth": 0,
             "ticks": ""
            },
            "colorscale": [
             [
              0,
              "#0d0887"
             ],
             [
              0.1111111111111111,
              "#46039f"
             ],
             [
              0.2222222222222222,
              "#7201a8"
             ],
             [
              0.3333333333333333,
              "#9c179e"
             ],
             [
              0.4444444444444444,
              "#bd3786"
             ],
             [
              0.5555555555555556,
              "#d8576b"
             ],
             [
              0.6666666666666666,
              "#ed7953"
             ],
             [
              0.7777777777777778,
              "#fb9f3a"
             ],
             [
              0.8888888888888888,
              "#fdca26"
             ],
             [
              1,
              "#f0f921"
             ]
            ],
            "type": "heatmap"
           }
          ],
          "heatmapgl": [
           {
            "colorbar": {
             "outlinewidth": 0,
             "ticks": ""
            },
            "colorscale": [
             [
              0,
              "#0d0887"
             ],
             [
              0.1111111111111111,
              "#46039f"
             ],
             [
              0.2222222222222222,
              "#7201a8"
             ],
             [
              0.3333333333333333,
              "#9c179e"
             ],
             [
              0.4444444444444444,
              "#bd3786"
             ],
             [
              0.5555555555555556,
              "#d8576b"
             ],
             [
              0.6666666666666666,
              "#ed7953"
             ],
             [
              0.7777777777777778,
              "#fb9f3a"
             ],
             [
              0.8888888888888888,
              "#fdca26"
             ],
             [
              1,
              "#f0f921"
             ]
            ],
            "type": "heatmapgl"
           }
          ],
          "histogram": [
           {
            "marker": {
             "colorbar": {
              "outlinewidth": 0,
              "ticks": ""
             }
            },
            "type": "histogram"
           }
          ],
          "histogram2d": [
           {
            "colorbar": {
             "outlinewidth": 0,
             "ticks": ""
            },
            "colorscale": [
             [
              0,
              "#0d0887"
             ],
             [
              0.1111111111111111,
              "#46039f"
             ],
             [
              0.2222222222222222,
              "#7201a8"
             ],
             [
              0.3333333333333333,
              "#9c179e"
             ],
             [
              0.4444444444444444,
              "#bd3786"
             ],
             [
              0.5555555555555556,
              "#d8576b"
             ],
             [
              0.6666666666666666,
              "#ed7953"
             ],
             [
              0.7777777777777778,
              "#fb9f3a"
             ],
             [
              0.8888888888888888,
              "#fdca26"
             ],
             [
              1,
              "#f0f921"
             ]
            ],
            "type": "histogram2d"
           }
          ],
          "histogram2dcontour": [
           {
            "colorbar": {
             "outlinewidth": 0,
             "ticks": ""
            },
            "colorscale": [
             [
              0,
              "#0d0887"
             ],
             [
              0.1111111111111111,
              "#46039f"
             ],
             [
              0.2222222222222222,
              "#7201a8"
             ],
             [
              0.3333333333333333,
              "#9c179e"
             ],
             [
              0.4444444444444444,
              "#bd3786"
             ],
             [
              0.5555555555555556,
              "#d8576b"
             ],
             [
              0.6666666666666666,
              "#ed7953"
             ],
             [
              0.7777777777777778,
              "#fb9f3a"
             ],
             [
              0.8888888888888888,
              "#fdca26"
             ],
             [
              1,
              "#f0f921"
             ]
            ],
            "type": "histogram2dcontour"
           }
          ],
          "mesh3d": [
           {
            "colorbar": {
             "outlinewidth": 0,
             "ticks": ""
            },
            "type": "mesh3d"
           }
          ],
          "parcoords": [
           {
            "line": {
             "colorbar": {
              "outlinewidth": 0,
              "ticks": ""
             }
            },
            "type": "parcoords"
           }
          ],
          "pie": [
           {
            "automargin": true,
            "type": "pie"
           }
          ],
          "scatter": [
           {
            "marker": {
             "colorbar": {
              "outlinewidth": 0,
              "ticks": ""
             }
            },
            "type": "scatter"
           }
          ],
          "scatter3d": [
           {
            "line": {
             "colorbar": {
              "outlinewidth": 0,
              "ticks": ""
             }
            },
            "marker": {
             "colorbar": {
              "outlinewidth": 0,
              "ticks": ""
             }
            },
            "type": "scatter3d"
           }
          ],
          "scattercarpet": [
           {
            "marker": {
             "colorbar": {
              "outlinewidth": 0,
              "ticks": ""
             }
            },
            "type": "scattercarpet"
           }
          ],
          "scattergeo": [
           {
            "marker": {
             "colorbar": {
              "outlinewidth": 0,
              "ticks": ""
             }
            },
            "type": "scattergeo"
           }
          ],
          "scattergl": [
           {
            "marker": {
             "colorbar": {
              "outlinewidth": 0,
              "ticks": ""
             }
            },
            "type": "scattergl"
           }
          ],
          "scattermapbox": [
           {
            "marker": {
             "colorbar": {
              "outlinewidth": 0,
              "ticks": ""
             }
            },
            "type": "scattermapbox"
           }
          ],
          "scatterpolar": [
           {
            "marker": {
             "colorbar": {
              "outlinewidth": 0,
              "ticks": ""
             }
            },
            "type": "scatterpolar"
           }
          ],
          "scatterpolargl": [
           {
            "marker": {
             "colorbar": {
              "outlinewidth": 0,
              "ticks": ""
             }
            },
            "type": "scatterpolargl"
           }
          ],
          "scatterternary": [
           {
            "marker": {
             "colorbar": {
              "outlinewidth": 0,
              "ticks": ""
             }
            },
            "type": "scatterternary"
           }
          ],
          "surface": [
           {
            "colorbar": {
             "outlinewidth": 0,
             "ticks": ""
            },
            "colorscale": [
             [
              0,
              "#0d0887"
             ],
             [
              0.1111111111111111,
              "#46039f"
             ],
             [
              0.2222222222222222,
              "#7201a8"
             ],
             [
              0.3333333333333333,
              "#9c179e"
             ],
             [
              0.4444444444444444,
              "#bd3786"
             ],
             [
              0.5555555555555556,
              "#d8576b"
             ],
             [
              0.6666666666666666,
              "#ed7953"
             ],
             [
              0.7777777777777778,
              "#fb9f3a"
             ],
             [
              0.8888888888888888,
              "#fdca26"
             ],
             [
              1,
              "#f0f921"
             ]
            ],
            "type": "surface"
           }
          ],
          "table": [
           {
            "cells": {
             "fill": {
              "color": "#EBF0F8"
             },
             "line": {
              "color": "white"
             }
            },
            "header": {
             "fill": {
              "color": "#C8D4E3"
             },
             "line": {
              "color": "white"
             }
            },
            "type": "table"
           }
          ]
         },
         "layout": {
          "annotationdefaults": {
           "arrowcolor": "#2a3f5f",
           "arrowhead": 0,
           "arrowwidth": 1
          },
          "coloraxis": {
           "colorbar": {
            "outlinewidth": 0,
            "ticks": ""
           }
          },
          "colorscale": {
           "diverging": [
            [
             0,
             "#8e0152"
            ],
            [
             0.1,
             "#c51b7d"
            ],
            [
             0.2,
             "#de77ae"
            ],
            [
             0.3,
             "#f1b6da"
            ],
            [
             0.4,
             "#fde0ef"
            ],
            [
             0.5,
             "#f7f7f7"
            ],
            [
             0.6,
             "#e6f5d0"
            ],
            [
             0.7,
             "#b8e186"
            ],
            [
             0.8,
             "#7fbc41"
            ],
            [
             0.9,
             "#4d9221"
            ],
            [
             1,
             "#276419"
            ]
           ],
           "sequential": [
            [
             0,
             "#0d0887"
            ],
            [
             0.1111111111111111,
             "#46039f"
            ],
            [
             0.2222222222222222,
             "#7201a8"
            ],
            [
             0.3333333333333333,
             "#9c179e"
            ],
            [
             0.4444444444444444,
             "#bd3786"
            ],
            [
             0.5555555555555556,
             "#d8576b"
            ],
            [
             0.6666666666666666,
             "#ed7953"
            ],
            [
             0.7777777777777778,
             "#fb9f3a"
            ],
            [
             0.8888888888888888,
             "#fdca26"
            ],
            [
             1,
             "#f0f921"
            ]
           ],
           "sequentialminus": [
            [
             0,
             "#0d0887"
            ],
            [
             0.1111111111111111,
             "#46039f"
            ],
            [
             0.2222222222222222,
             "#7201a8"
            ],
            [
             0.3333333333333333,
             "#9c179e"
            ],
            [
             0.4444444444444444,
             "#bd3786"
            ],
            [
             0.5555555555555556,
             "#d8576b"
            ],
            [
             0.6666666666666666,
             "#ed7953"
            ],
            [
             0.7777777777777778,
             "#fb9f3a"
            ],
            [
             0.8888888888888888,
             "#fdca26"
            ],
            [
             1,
             "#f0f921"
            ]
           ]
          },
          "colorway": [
           "#636efa",
           "#EF553B",
           "#00cc96",
           "#ab63fa",
           "#FFA15A",
           "#19d3f3",
           "#FF6692",
           "#B6E880",
           "#FF97FF",
           "#FECB52"
          ],
          "font": {
           "color": "#2a3f5f"
          },
          "geo": {
           "bgcolor": "white",
           "lakecolor": "white",
           "landcolor": "#E5ECF6",
           "showlakes": true,
           "showland": true,
           "subunitcolor": "white"
          },
          "hoverlabel": {
           "align": "left"
          },
          "hovermode": "closest",
          "mapbox": {
           "style": "light"
          },
          "paper_bgcolor": "white",
          "plot_bgcolor": "#E5ECF6",
          "polar": {
           "angularaxis": {
            "gridcolor": "white",
            "linecolor": "white",
            "ticks": ""
           },
           "bgcolor": "#E5ECF6",
           "radialaxis": {
            "gridcolor": "white",
            "linecolor": "white",
            "ticks": ""
           }
          },
          "scene": {
           "xaxis": {
            "backgroundcolor": "#E5ECF6",
            "gridcolor": "white",
            "gridwidth": 2,
            "linecolor": "white",
            "showbackground": true,
            "ticks": "",
            "zerolinecolor": "white"
           },
           "yaxis": {
            "backgroundcolor": "#E5ECF6",
            "gridcolor": "white",
            "gridwidth": 2,
            "linecolor": "white",
            "showbackground": true,
            "ticks": "",
            "zerolinecolor": "white"
           },
           "zaxis": {
            "backgroundcolor": "#E5ECF6",
            "gridcolor": "white",
            "gridwidth": 2,
            "linecolor": "white",
            "showbackground": true,
            "ticks": "",
            "zerolinecolor": "white"
           }
          },
          "shapedefaults": {
           "line": {
            "color": "#2a3f5f"
           }
          },
          "ternary": {
           "aaxis": {
            "gridcolor": "white",
            "linecolor": "white",
            "ticks": ""
           },
           "baxis": {
            "gridcolor": "white",
            "linecolor": "white",
            "ticks": ""
           },
           "bgcolor": "#E5ECF6",
           "caxis": {
            "gridcolor": "white",
            "linecolor": "white",
            "ticks": ""
           }
          },
          "title": {
           "x": 0.05
          },
          "xaxis": {
           "automargin": true,
           "gridcolor": "white",
           "linecolor": "white",
           "ticks": "",
           "title": {
            "standoff": 15
           },
           "zerolinecolor": "white",
           "zerolinewidth": 2
          },
          "yaxis": {
           "automargin": true,
           "gridcolor": "white",
           "linecolor": "white",
           "ticks": "",
           "title": {
            "standoff": 15
           },
           "zerolinecolor": "white",
           "zerolinewidth": 2
          }
         }
        },
        "title": {
         "font": {
          "color": "#4D5663"
         },
         "text": "<b>Total Cases of Covid_19 in Greece (139 days)</b>"
        },
        "xaxis": {
         "gridcolor": "#E1E5ED",
         "showgrid": true,
         "tickfont": {
          "color": "#4D5663"
         },
         "title": {
          "font": {
           "color": "#4D5663"
          },
          "text": "Dates"
         },
         "zerolinecolor": "#E1E5ED"
        },
        "yaxis": {
         "gridcolor": "#E1E5ED",
         "showgrid": true,
         "tickfont": {
          "color": "#4D5663"
         },
         "title": {
          "font": {
           "color": "#4D5663"
          },
          "text": "Number of Cases"
         },
         "zerolinecolor": "#E1E5ED"
        }
       }
      },
      "text/html": [
       "<div>\n",
       "        \n",
       "        \n",
       "            <div id=\"a12fd30a-5dcd-45a4-9cab-374d311a8b33\" class=\"plotly-graph-div\" style=\"height:525px; width:100%;\"></div>\n",
       "            <script type=\"text/javascript\">\n",
       "                require([\"plotly\"], function(Plotly) {\n",
       "                    window.PLOTLYENV=window.PLOTLYENV || {};\n",
       "                    window.PLOTLYENV.BASE_URL='https://plot.ly';\n",
       "                    \n",
       "                if (document.getElementById(\"a12fd30a-5dcd-45a4-9cab-374d311a8b33\")) {\n",
       "                    Plotly.newPlot(\n",
       "                        'a12fd30a-5dcd-45a4-9cab-374d311a8b33',\n",
       "                        [{\"line\": {\"color\": \"rgba(55, 128, 191, 1.0)\", \"dash\": \"solid\", \"shape\": \"linear\", \"width\": 1.3}, \"marker\": {\"size\": 7, \"symbol\": \"circle\"}, \"mode\": \"lines+markers\", \"name\": \"Total Cases\", \"text\": \"\", \"type\": \"scatter\", \"x\": [\"26/02\", \"27/02\", \"28/02\", \"29/02\", \"01/03\", \"02/03\", \"03/03\", \"04/03\", \"05/03\", \"06/03\", \"07/03\", \"08/03\", \"09/03\", \"10/03\", \"11/03\", \"12/03\", \"13/03\", \"14/03\", \"15/03\", \"16/03\", \"17/03\", \"18/03\", \"19/03\", \"20/03\", \"21/03\", \"22/03\", \"23/03\", \"24/03\", \"25/03\", \"26/03\", \"27/03\", \"28/03\", \"29/03\", \"30/03\", \"31/03\", \"01/04\", \"02/04\", \"03/04\", \"04/04\", \"05/04\", \"06/04\", \"07/04\", \"08/04\", \"09/04\", \"10/04\", \"11/04\", \"12/04\", \"13/04\", \"14/04\", \"15/04\", \"16/04\", \"17/04\", \"18/04\", \"19/04\", \"20/04\", \"21/04\", \"22/04\", \"23/04\", \"24/04\", \"25/04\", \"26/04\", \"27/04\", \"28/04\", \"29/04\", \"30/04\", \"01/05\", \"02/05\", \"03/05\", \"04/05\", \"05/05\", \"06/05\", \"07/05\", \"08/05\", \"09/05\", \"10/05\", \"11/05\", \"12/05\", \"13/05\", \"14/05\", \"15/05\", \"16/05\", \"17/05\", \"18/05\", \"19/05\", \"20/05\", \"21/05\", \"22/05\", \"23/05\", \"24/05\", \"25/05\", \"26/05\", \"27/05\", \"28/05\", \"29/05\", \"30/05\", \"31/05\", \"01/06\", \"02/06\", \"03/06\", \"04/06\", \"05/06\", \"06/06\", \"07/06\", \"08/06\", \"09/06\", \"10/06\", \"11/06\", \"12/06\", \"13/06\", \"14/06\", \"15/06\", \"16/06\", \"17/06\", \"18/06\", \"19/06\", \"20/06\", \"21/06\", \"22/06\", \"23/06\", \"24/06\", \"25/06\", \"26/06\", \"27/06\", \"28/06\", \"29/06\", \"30/06\", \"01/07\", \"02/07\", \"03/07\", \"04/07\", \"05/07\", \"06/07\", \"07/07\", \"08/07\", \"09/07\", \"10/07\", \"11/07\", \"12/07\", \"13/07\"], \"y\": [1, 3, 4, 7, 7, 7, 7, 9, 31, 45, 66, 73, 84, 89, 99, 117, 190, 228, 331, 352, 387, 418, 464, 495, 530, 624, 695, 743, 821, 892, 966, 1061, 1156, 1212, 1314, 1415, 1544, 1613, 1673, 1735, 1755, 1832, 1884, 1955, 2009, 2081, 2114, 2145, 2170, 2192, 2207, 2224, 2235, 2235, 2245, 2401, 2408, 2463, 2490, 2506, 2517, 2534, 2566, 2576, 2591, 2612, 2620, 2626, 2632, 2642, 2663, 2678, 2691, 2710, 2716, 2726, 2744, 2760, 2770, 2810, 2819, 2834, 2836, 2840, 2850, 2853, 2873, 2876, 2878, 2882, 2889, 2903, 2906, 2909, 2915, 2917, 2918, 2937, 2937, 2952, 2967, 2980, 2997, 3049, 3058, 3068, 3088, 3108, 3112, 3121, 3134, 3148, 3203, 3227, 3237, 3256, 3266, 3287, 3302, 3310, 3321, 3343, 3366, 3376, 3390, 3409, 3432, 3458, 3486, 3511, 3519, 3562, 3589, 3622, 3672, 3732, 3772, 3803, 3826]}],\n",
       "                        {\"legend\": {\"bgcolor\": \"#F5F6F9\", \"font\": {\"color\": \"#4D5663\"}}, \"paper_bgcolor\": \"#F5F6F9\", \"plot_bgcolor\": \"#F5F6F9\", \"template\": {\"data\": {\"bar\": [{\"error_x\": {\"color\": \"#2a3f5f\"}, \"error_y\": {\"color\": \"#2a3f5f\"}, \"marker\": {\"line\": {\"color\": \"#E5ECF6\", \"width\": 0.5}}, \"type\": \"bar\"}], \"barpolar\": [{\"marker\": {\"line\": {\"color\": \"#E5ECF6\", \"width\": 0.5}}, \"type\": \"barpolar\"}], \"carpet\": [{\"aaxis\": {\"endlinecolor\": \"#2a3f5f\", \"gridcolor\": \"white\", \"linecolor\": \"white\", \"minorgridcolor\": \"white\", \"startlinecolor\": \"#2a3f5f\"}, \"baxis\": {\"endlinecolor\": \"#2a3f5f\", \"gridcolor\": \"white\", \"linecolor\": \"white\", \"minorgridcolor\": \"white\", \"startlinecolor\": \"#2a3f5f\"}, \"type\": \"carpet\"}], \"choropleth\": [{\"colorbar\": {\"outlinewidth\": 0, \"ticks\": \"\"}, \"type\": \"choropleth\"}], \"contour\": [{\"colorbar\": {\"outlinewidth\": 0, \"ticks\": \"\"}, \"colorscale\": [[0.0, \"#0d0887\"], [0.1111111111111111, \"#46039f\"], [0.2222222222222222, \"#7201a8\"], [0.3333333333333333, \"#9c179e\"], [0.4444444444444444, \"#bd3786\"], [0.5555555555555556, \"#d8576b\"], [0.6666666666666666, \"#ed7953\"], [0.7777777777777778, \"#fb9f3a\"], [0.8888888888888888, \"#fdca26\"], [1.0, \"#f0f921\"]], \"type\": \"contour\"}], \"contourcarpet\": [{\"colorbar\": {\"outlinewidth\": 0, \"ticks\": \"\"}, \"type\": \"contourcarpet\"}], \"heatmap\": [{\"colorbar\": {\"outlinewidth\": 0, \"ticks\": \"\"}, \"colorscale\": [[0.0, \"#0d0887\"], [0.1111111111111111, \"#46039f\"], [0.2222222222222222, \"#7201a8\"], [0.3333333333333333, \"#9c179e\"], [0.4444444444444444, \"#bd3786\"], [0.5555555555555556, \"#d8576b\"], [0.6666666666666666, \"#ed7953\"], [0.7777777777777778, \"#fb9f3a\"], [0.8888888888888888, \"#fdca26\"], [1.0, \"#f0f921\"]], \"type\": \"heatmap\"}], \"heatmapgl\": [{\"colorbar\": {\"outlinewidth\": 0, \"ticks\": \"\"}, \"colorscale\": [[0.0, \"#0d0887\"], [0.1111111111111111, \"#46039f\"], [0.2222222222222222, \"#7201a8\"], [0.3333333333333333, \"#9c179e\"], [0.4444444444444444, \"#bd3786\"], [0.5555555555555556, \"#d8576b\"], [0.6666666666666666, \"#ed7953\"], [0.7777777777777778, \"#fb9f3a\"], [0.8888888888888888, \"#fdca26\"], [1.0, \"#f0f921\"]], \"type\": \"heatmapgl\"}], \"histogram\": [{\"marker\": {\"colorbar\": {\"outlinewidth\": 0, \"ticks\": \"\"}}, \"type\": \"histogram\"}], \"histogram2d\": [{\"colorbar\": {\"outlinewidth\": 0, \"ticks\": \"\"}, \"colorscale\": [[0.0, \"#0d0887\"], [0.1111111111111111, \"#46039f\"], [0.2222222222222222, \"#7201a8\"], [0.3333333333333333, \"#9c179e\"], [0.4444444444444444, \"#bd3786\"], [0.5555555555555556, \"#d8576b\"], [0.6666666666666666, \"#ed7953\"], [0.7777777777777778, \"#fb9f3a\"], [0.8888888888888888, \"#fdca26\"], [1.0, \"#f0f921\"]], \"type\": \"histogram2d\"}], \"histogram2dcontour\": [{\"colorbar\": {\"outlinewidth\": 0, \"ticks\": \"\"}, \"colorscale\": [[0.0, \"#0d0887\"], [0.1111111111111111, \"#46039f\"], [0.2222222222222222, \"#7201a8\"], [0.3333333333333333, \"#9c179e\"], [0.4444444444444444, \"#bd3786\"], [0.5555555555555556, \"#d8576b\"], [0.6666666666666666, \"#ed7953\"], [0.7777777777777778, \"#fb9f3a\"], [0.8888888888888888, \"#fdca26\"], [1.0, \"#f0f921\"]], \"type\": \"histogram2dcontour\"}], \"mesh3d\": [{\"colorbar\": {\"outlinewidth\": 0, \"ticks\": \"\"}, \"type\": \"mesh3d\"}], \"parcoords\": [{\"line\": {\"colorbar\": {\"outlinewidth\": 0, \"ticks\": \"\"}}, \"type\": \"parcoords\"}], \"pie\": [{\"automargin\": true, \"type\": \"pie\"}], \"scatter\": [{\"marker\": {\"colorbar\": {\"outlinewidth\": 0, \"ticks\": \"\"}}, \"type\": \"scatter\"}], \"scatter3d\": [{\"line\": {\"colorbar\": {\"outlinewidth\": 0, \"ticks\": \"\"}}, \"marker\": {\"colorbar\": {\"outlinewidth\": 0, \"ticks\": \"\"}}, \"type\": \"scatter3d\"}], \"scattercarpet\": [{\"marker\": {\"colorbar\": {\"outlinewidth\": 0, \"ticks\": \"\"}}, \"type\": \"scattercarpet\"}], \"scattergeo\": [{\"marker\": {\"colorbar\": {\"outlinewidth\": 0, \"ticks\": \"\"}}, \"type\": \"scattergeo\"}], \"scattergl\": [{\"marker\": {\"colorbar\": {\"outlinewidth\": 0, \"ticks\": \"\"}}, \"type\": \"scattergl\"}], \"scattermapbox\": [{\"marker\": {\"colorbar\": {\"outlinewidth\": 0, \"ticks\": \"\"}}, \"type\": \"scattermapbox\"}], \"scatterpolar\": [{\"marker\": {\"colorbar\": {\"outlinewidth\": 0, \"ticks\": \"\"}}, \"type\": \"scatterpolar\"}], \"scatterpolargl\": [{\"marker\": {\"colorbar\": {\"outlinewidth\": 0, \"ticks\": \"\"}}, \"type\": \"scatterpolargl\"}], \"scatterternary\": [{\"marker\": {\"colorbar\": {\"outlinewidth\": 0, \"ticks\": \"\"}}, \"type\": \"scatterternary\"}], \"surface\": [{\"colorbar\": {\"outlinewidth\": 0, \"ticks\": \"\"}, \"colorscale\": [[0.0, \"#0d0887\"], [0.1111111111111111, \"#46039f\"], [0.2222222222222222, \"#7201a8\"], [0.3333333333333333, \"#9c179e\"], [0.4444444444444444, \"#bd3786\"], [0.5555555555555556, \"#d8576b\"], [0.6666666666666666, \"#ed7953\"], [0.7777777777777778, \"#fb9f3a\"], [0.8888888888888888, \"#fdca26\"], [1.0, \"#f0f921\"]], \"type\": \"surface\"}], \"table\": [{\"cells\": {\"fill\": {\"color\": \"#EBF0F8\"}, \"line\": {\"color\": \"white\"}}, \"header\": {\"fill\": {\"color\": \"#C8D4E3\"}, \"line\": {\"color\": \"white\"}}, \"type\": \"table\"}]}, \"layout\": {\"annotationdefaults\": {\"arrowcolor\": \"#2a3f5f\", \"arrowhead\": 0, \"arrowwidth\": 1}, \"coloraxis\": {\"colorbar\": {\"outlinewidth\": 0, \"ticks\": \"\"}}, \"colorscale\": {\"diverging\": [[0, \"#8e0152\"], [0.1, \"#c51b7d\"], [0.2, \"#de77ae\"], [0.3, \"#f1b6da\"], [0.4, \"#fde0ef\"], [0.5, \"#f7f7f7\"], [0.6, \"#e6f5d0\"], [0.7, \"#b8e186\"], [0.8, \"#7fbc41\"], [0.9, \"#4d9221\"], [1, \"#276419\"]], \"sequential\": [[0.0, \"#0d0887\"], [0.1111111111111111, \"#46039f\"], [0.2222222222222222, \"#7201a8\"], [0.3333333333333333, \"#9c179e\"], [0.4444444444444444, \"#bd3786\"], [0.5555555555555556, \"#d8576b\"], [0.6666666666666666, \"#ed7953\"], [0.7777777777777778, \"#fb9f3a\"], [0.8888888888888888, \"#fdca26\"], [1.0, \"#f0f921\"]], \"sequentialminus\": [[0.0, \"#0d0887\"], [0.1111111111111111, \"#46039f\"], [0.2222222222222222, \"#7201a8\"], [0.3333333333333333, \"#9c179e\"], [0.4444444444444444, \"#bd3786\"], [0.5555555555555556, \"#d8576b\"], [0.6666666666666666, \"#ed7953\"], [0.7777777777777778, \"#fb9f3a\"], [0.8888888888888888, \"#fdca26\"], [1.0, \"#f0f921\"]]}, \"colorway\": [\"#636efa\", \"#EF553B\", \"#00cc96\", \"#ab63fa\", \"#FFA15A\", \"#19d3f3\", \"#FF6692\", \"#B6E880\", \"#FF97FF\", \"#FECB52\"], \"font\": {\"color\": \"#2a3f5f\"}, \"geo\": {\"bgcolor\": \"white\", \"lakecolor\": \"white\", \"landcolor\": \"#E5ECF6\", \"showlakes\": true, \"showland\": true, \"subunitcolor\": \"white\"}, \"hoverlabel\": {\"align\": \"left\"}, \"hovermode\": \"closest\", \"mapbox\": {\"style\": \"light\"}, \"paper_bgcolor\": \"white\", \"plot_bgcolor\": \"#E5ECF6\", \"polar\": {\"angularaxis\": {\"gridcolor\": \"white\", \"linecolor\": \"white\", \"ticks\": \"\"}, \"bgcolor\": \"#E5ECF6\", \"radialaxis\": {\"gridcolor\": \"white\", \"linecolor\": \"white\", \"ticks\": \"\"}}, \"scene\": {\"xaxis\": {\"backgroundcolor\": \"#E5ECF6\", \"gridcolor\": \"white\", \"gridwidth\": 2, \"linecolor\": \"white\", \"showbackground\": true, \"ticks\": \"\", \"zerolinecolor\": \"white\"}, \"yaxis\": {\"backgroundcolor\": \"#E5ECF6\", \"gridcolor\": \"white\", \"gridwidth\": 2, \"linecolor\": \"white\", \"showbackground\": true, \"ticks\": \"\", \"zerolinecolor\": \"white\"}, \"zaxis\": {\"backgroundcolor\": \"#E5ECF6\", \"gridcolor\": \"white\", \"gridwidth\": 2, \"linecolor\": \"white\", \"showbackground\": true, \"ticks\": \"\", \"zerolinecolor\": \"white\"}}, \"shapedefaults\": {\"line\": {\"color\": \"#2a3f5f\"}}, \"ternary\": {\"aaxis\": {\"gridcolor\": \"white\", \"linecolor\": \"white\", \"ticks\": \"\"}, \"baxis\": {\"gridcolor\": \"white\", \"linecolor\": \"white\", \"ticks\": \"\"}, \"bgcolor\": \"#E5ECF6\", \"caxis\": {\"gridcolor\": \"white\", \"linecolor\": \"white\", \"ticks\": \"\"}}, \"title\": {\"x\": 0.05}, \"xaxis\": {\"automargin\": true, \"gridcolor\": \"white\", \"linecolor\": \"white\", \"ticks\": \"\", \"title\": {\"standoff\": 15}, \"zerolinecolor\": \"white\", \"zerolinewidth\": 2}, \"yaxis\": {\"automargin\": true, \"gridcolor\": \"white\", \"linecolor\": \"white\", \"ticks\": \"\", \"title\": {\"standoff\": 15}, \"zerolinecolor\": \"white\", \"zerolinewidth\": 2}}}, \"title\": {\"font\": {\"color\": \"#4D5663\"}, \"text\": \"<b>Total Cases of Covid_19 in Greece (139 days)</b>\"}, \"xaxis\": {\"gridcolor\": \"#E1E5ED\", \"showgrid\": true, \"tickfont\": {\"color\": \"#4D5663\"}, \"title\": {\"font\": {\"color\": \"#4D5663\"}, \"text\": \"Dates\"}, \"zerolinecolor\": \"#E1E5ED\"}, \"yaxis\": {\"gridcolor\": \"#E1E5ED\", \"showgrid\": true, \"tickfont\": {\"color\": \"#4D5663\"}, \"title\": {\"font\": {\"color\": \"#4D5663\"}, \"text\": \"Number of Cases\"}, \"zerolinecolor\": \"#E1E5ED\"}},\n",
       "                        {\"showLink\": true, \"linkText\": \"Export to plot.ly\", \"plotlyServerURL\": \"https://plot.ly\", \"responsive\": true}\n",
       "                    ).then(function(){\n",
       "                            \n",
       "var gd = document.getElementById('a12fd30a-5dcd-45a4-9cab-374d311a8b33');\n",
       "var x = new MutationObserver(function (mutations, observer) {{\n",
       "        var display = window.getComputedStyle(gd).display;\n",
       "        if (!display || display === 'none') {{\n",
       "            console.log([gd, 'removed!']);\n",
       "            Plotly.purge(gd);\n",
       "            observer.disconnect();\n",
       "        }}\n",
       "}});\n",
       "\n",
       "// Listen for the removal of the full notebook cells\n",
       "var notebookContainer = gd.closest('#notebook-container');\n",
       "if (notebookContainer) {{\n",
       "    x.observe(notebookContainer, {childList: true});\n",
       "}}\n",
       "\n",
       "// Listen for the clearing of the current output cell\n",
       "var outputEl = gd.closest('.output');\n",
       "if (outputEl) {{\n",
       "    x.observe(outputEl, {childList: true});\n",
       "}}\n",
       "\n",
       "                        })\n",
       "                };\n",
       "                });\n",
       "            </script>\n",
       "        </div>"
      ]
     },
     "metadata": {},
     "output_type": "display_data"
    }
   ],
   "source": [
    "df['Total Cases'].iplot(kind='scatter',mode='lines+markers', color='blue', size=7,\n",
    "                        xTitle='Dates', yTitle='Number of Cases',\n",
    "                        title='<b>Total Cases of Covid_19 in Greece ('+str(len(df['Total Cases']))+' days)</b>')"
   ]
  },
  {
   "cell_type": "markdown",
   "metadata": {},
   "source": [
    "## Daily Cases"
   ]
  },
  {
   "cell_type": "code",
   "execution_count": 13,
   "metadata": {},
   "outputs": [
    {
     "data": {
      "application/vnd.plotly.v1+json": {
       "config": {
        "linkText": "Export to plot.ly",
        "plotlyServerURL": "https://plot.ly",
        "showLink": true
       },
       "data": [
        {
         "marker": {
          "color": "rgba(55, 128, 191, 0.6)",
          "line": {
           "color": "rgba(55, 128, 191, 1.0)",
           "width": 1
          }
         },
         "name": "Daily Cases",
         "orientation": "v",
         "text": "",
         "type": "bar",
         "x": [
          "26/02",
          "27/02",
          "28/02",
          "29/02",
          "01/03",
          "02/03",
          "03/03",
          "04/03",
          "05/03",
          "06/03",
          "07/03",
          "08/03",
          "09/03",
          "10/03",
          "11/03",
          "12/03",
          "13/03",
          "14/03",
          "15/03",
          "16/03",
          "17/03",
          "18/03",
          "19/03",
          "20/03",
          "21/03",
          "22/03",
          "23/03",
          "24/03",
          "25/03",
          "26/03",
          "27/03",
          "28/03",
          "29/03",
          "30/03",
          "31/03",
          "01/04",
          "02/04",
          "03/04",
          "04/04",
          "05/04",
          "06/04",
          "07/04",
          "08/04",
          "09/04",
          "10/04",
          "11/04",
          "12/04",
          "13/04",
          "14/04",
          "15/04",
          "16/04",
          "17/04",
          "18/04",
          "19/04",
          "20/04",
          "21/04",
          "22/04",
          "23/04",
          "24/04",
          "25/04",
          "26/04",
          "27/04",
          "28/04",
          "29/04",
          "30/04",
          "01/05",
          "02/05",
          "03/05",
          "04/05",
          "05/05",
          "06/05",
          "07/05",
          "08/05",
          "09/05",
          "10/05",
          "11/05",
          "12/05",
          "13/05",
          "14/05",
          "15/05",
          "16/05",
          "17/05",
          "18/05",
          "19/05",
          "20/05",
          "21/05",
          "22/05",
          "23/05",
          "24/05",
          "25/05",
          "26/05",
          "27/05",
          "28/05",
          "29/05",
          "30/05",
          "31/05",
          "01/06",
          "02/06",
          "03/06",
          "04/06",
          "05/06",
          "06/06",
          "07/06",
          "08/06",
          "09/06",
          "10/06",
          "11/06",
          "12/06",
          "13/06",
          "14/06",
          "15/06",
          "16/06",
          "17/06",
          "18/06",
          "19/06",
          "20/06",
          "21/06",
          "22/06",
          "23/06",
          "24/06",
          "25/06",
          "26/06",
          "27/06",
          "28/06",
          "29/06",
          "30/06",
          "01/07",
          "02/07",
          "03/07",
          "04/07",
          "05/07",
          "06/07",
          "07/07",
          "08/07",
          "09/07",
          "10/07",
          "11/07",
          "12/07",
          "13/07"
         ],
         "y": [
          1,
          2,
          1,
          3,
          0,
          0,
          0,
          2,
          22,
          14,
          21,
          7,
          11,
          5,
          10,
          18,
          73,
          38,
          103,
          21,
          35,
          31,
          46,
          31,
          35,
          94,
          71,
          48,
          78,
          71,
          74,
          95,
          95,
          56,
          102,
          101,
          129,
          69,
          60,
          62,
          20,
          77,
          52,
          71,
          54,
          72,
          33,
          31,
          25,
          22,
          15,
          17,
          11,
          0,
          10,
          156,
          7,
          55,
          27,
          16,
          11,
          17,
          32,
          10,
          15,
          21,
          8,
          6,
          6,
          10,
          21,
          15,
          13,
          19,
          6,
          10,
          18,
          16,
          10,
          40,
          9,
          15,
          2,
          4,
          10,
          3,
          21,
          3,
          2,
          4,
          7,
          18,
          3,
          5,
          7,
          2,
          2,
          19,
          0,
          15,
          15,
          13,
          17,
          52,
          9,
          11,
          20,
          20,
          4,
          9,
          13,
          15,
          55,
          24,
          10,
          19,
          10,
          21,
          16,
          8,
          13,
          22,
          23,
          10,
          15,
          20,
          23,
          28,
          28,
          25,
          9,
          43,
          27,
          33,
          50,
          60,
          41,
          31,
          24
         ]
        }
       ],
       "layout": {
        "legend": {
         "bgcolor": "#F5F6F9",
         "font": {
          "color": "#4D5663"
         }
        },
        "paper_bgcolor": "#F5F6F9",
        "plot_bgcolor": "#F5F6F9",
        "template": {
         "data": {
          "bar": [
           {
            "error_x": {
             "color": "#2a3f5f"
            },
            "error_y": {
             "color": "#2a3f5f"
            },
            "marker": {
             "line": {
              "color": "#E5ECF6",
              "width": 0.5
             }
            },
            "type": "bar"
           }
          ],
          "barpolar": [
           {
            "marker": {
             "line": {
              "color": "#E5ECF6",
              "width": 0.5
             }
            },
            "type": "barpolar"
           }
          ],
          "carpet": [
           {
            "aaxis": {
             "endlinecolor": "#2a3f5f",
             "gridcolor": "white",
             "linecolor": "white",
             "minorgridcolor": "white",
             "startlinecolor": "#2a3f5f"
            },
            "baxis": {
             "endlinecolor": "#2a3f5f",
             "gridcolor": "white",
             "linecolor": "white",
             "minorgridcolor": "white",
             "startlinecolor": "#2a3f5f"
            },
            "type": "carpet"
           }
          ],
          "choropleth": [
           {
            "colorbar": {
             "outlinewidth": 0,
             "ticks": ""
            },
            "type": "choropleth"
           }
          ],
          "contour": [
           {
            "colorbar": {
             "outlinewidth": 0,
             "ticks": ""
            },
            "colorscale": [
             [
              0,
              "#0d0887"
             ],
             [
              0.1111111111111111,
              "#46039f"
             ],
             [
              0.2222222222222222,
              "#7201a8"
             ],
             [
              0.3333333333333333,
              "#9c179e"
             ],
             [
              0.4444444444444444,
              "#bd3786"
             ],
             [
              0.5555555555555556,
              "#d8576b"
             ],
             [
              0.6666666666666666,
              "#ed7953"
             ],
             [
              0.7777777777777778,
              "#fb9f3a"
             ],
             [
              0.8888888888888888,
              "#fdca26"
             ],
             [
              1,
              "#f0f921"
             ]
            ],
            "type": "contour"
           }
          ],
          "contourcarpet": [
           {
            "colorbar": {
             "outlinewidth": 0,
             "ticks": ""
            },
            "type": "contourcarpet"
           }
          ],
          "heatmap": [
           {
            "colorbar": {
             "outlinewidth": 0,
             "ticks": ""
            },
            "colorscale": [
             [
              0,
              "#0d0887"
             ],
             [
              0.1111111111111111,
              "#46039f"
             ],
             [
              0.2222222222222222,
              "#7201a8"
             ],
             [
              0.3333333333333333,
              "#9c179e"
             ],
             [
              0.4444444444444444,
              "#bd3786"
             ],
             [
              0.5555555555555556,
              "#d8576b"
             ],
             [
              0.6666666666666666,
              "#ed7953"
             ],
             [
              0.7777777777777778,
              "#fb9f3a"
             ],
             [
              0.8888888888888888,
              "#fdca26"
             ],
             [
              1,
              "#f0f921"
             ]
            ],
            "type": "heatmap"
           }
          ],
          "heatmapgl": [
           {
            "colorbar": {
             "outlinewidth": 0,
             "ticks": ""
            },
            "colorscale": [
             [
              0,
              "#0d0887"
             ],
             [
              0.1111111111111111,
              "#46039f"
             ],
             [
              0.2222222222222222,
              "#7201a8"
             ],
             [
              0.3333333333333333,
              "#9c179e"
             ],
             [
              0.4444444444444444,
              "#bd3786"
             ],
             [
              0.5555555555555556,
              "#d8576b"
             ],
             [
              0.6666666666666666,
              "#ed7953"
             ],
             [
              0.7777777777777778,
              "#fb9f3a"
             ],
             [
              0.8888888888888888,
              "#fdca26"
             ],
             [
              1,
              "#f0f921"
             ]
            ],
            "type": "heatmapgl"
           }
          ],
          "histogram": [
           {
            "marker": {
             "colorbar": {
              "outlinewidth": 0,
              "ticks": ""
             }
            },
            "type": "histogram"
           }
          ],
          "histogram2d": [
           {
            "colorbar": {
             "outlinewidth": 0,
             "ticks": ""
            },
            "colorscale": [
             [
              0,
              "#0d0887"
             ],
             [
              0.1111111111111111,
              "#46039f"
             ],
             [
              0.2222222222222222,
              "#7201a8"
             ],
             [
              0.3333333333333333,
              "#9c179e"
             ],
             [
              0.4444444444444444,
              "#bd3786"
             ],
             [
              0.5555555555555556,
              "#d8576b"
             ],
             [
              0.6666666666666666,
              "#ed7953"
             ],
             [
              0.7777777777777778,
              "#fb9f3a"
             ],
             [
              0.8888888888888888,
              "#fdca26"
             ],
             [
              1,
              "#f0f921"
             ]
            ],
            "type": "histogram2d"
           }
          ],
          "histogram2dcontour": [
           {
            "colorbar": {
             "outlinewidth": 0,
             "ticks": ""
            },
            "colorscale": [
             [
              0,
              "#0d0887"
             ],
             [
              0.1111111111111111,
              "#46039f"
             ],
             [
              0.2222222222222222,
              "#7201a8"
             ],
             [
              0.3333333333333333,
              "#9c179e"
             ],
             [
              0.4444444444444444,
              "#bd3786"
             ],
             [
              0.5555555555555556,
              "#d8576b"
             ],
             [
              0.6666666666666666,
              "#ed7953"
             ],
             [
              0.7777777777777778,
              "#fb9f3a"
             ],
             [
              0.8888888888888888,
              "#fdca26"
             ],
             [
              1,
              "#f0f921"
             ]
            ],
            "type": "histogram2dcontour"
           }
          ],
          "mesh3d": [
           {
            "colorbar": {
             "outlinewidth": 0,
             "ticks": ""
            },
            "type": "mesh3d"
           }
          ],
          "parcoords": [
           {
            "line": {
             "colorbar": {
              "outlinewidth": 0,
              "ticks": ""
             }
            },
            "type": "parcoords"
           }
          ],
          "pie": [
           {
            "automargin": true,
            "type": "pie"
           }
          ],
          "scatter": [
           {
            "marker": {
             "colorbar": {
              "outlinewidth": 0,
              "ticks": ""
             }
            },
            "type": "scatter"
           }
          ],
          "scatter3d": [
           {
            "line": {
             "colorbar": {
              "outlinewidth": 0,
              "ticks": ""
             }
            },
            "marker": {
             "colorbar": {
              "outlinewidth": 0,
              "ticks": ""
             }
            },
            "type": "scatter3d"
           }
          ],
          "scattercarpet": [
           {
            "marker": {
             "colorbar": {
              "outlinewidth": 0,
              "ticks": ""
             }
            },
            "type": "scattercarpet"
           }
          ],
          "scattergeo": [
           {
            "marker": {
             "colorbar": {
              "outlinewidth": 0,
              "ticks": ""
             }
            },
            "type": "scattergeo"
           }
          ],
          "scattergl": [
           {
            "marker": {
             "colorbar": {
              "outlinewidth": 0,
              "ticks": ""
             }
            },
            "type": "scattergl"
           }
          ],
          "scattermapbox": [
           {
            "marker": {
             "colorbar": {
              "outlinewidth": 0,
              "ticks": ""
             }
            },
            "type": "scattermapbox"
           }
          ],
          "scatterpolar": [
           {
            "marker": {
             "colorbar": {
              "outlinewidth": 0,
              "ticks": ""
             }
            },
            "type": "scatterpolar"
           }
          ],
          "scatterpolargl": [
           {
            "marker": {
             "colorbar": {
              "outlinewidth": 0,
              "ticks": ""
             }
            },
            "type": "scatterpolargl"
           }
          ],
          "scatterternary": [
           {
            "marker": {
             "colorbar": {
              "outlinewidth": 0,
              "ticks": ""
             }
            },
            "type": "scatterternary"
           }
          ],
          "surface": [
           {
            "colorbar": {
             "outlinewidth": 0,
             "ticks": ""
            },
            "colorscale": [
             [
              0,
              "#0d0887"
             ],
             [
              0.1111111111111111,
              "#46039f"
             ],
             [
              0.2222222222222222,
              "#7201a8"
             ],
             [
              0.3333333333333333,
              "#9c179e"
             ],
             [
              0.4444444444444444,
              "#bd3786"
             ],
             [
              0.5555555555555556,
              "#d8576b"
             ],
             [
              0.6666666666666666,
              "#ed7953"
             ],
             [
              0.7777777777777778,
              "#fb9f3a"
             ],
             [
              0.8888888888888888,
              "#fdca26"
             ],
             [
              1,
              "#f0f921"
             ]
            ],
            "type": "surface"
           }
          ],
          "table": [
           {
            "cells": {
             "fill": {
              "color": "#EBF0F8"
             },
             "line": {
              "color": "white"
             }
            },
            "header": {
             "fill": {
              "color": "#C8D4E3"
             },
             "line": {
              "color": "white"
             }
            },
            "type": "table"
           }
          ]
         },
         "layout": {
          "annotationdefaults": {
           "arrowcolor": "#2a3f5f",
           "arrowhead": 0,
           "arrowwidth": 1
          },
          "coloraxis": {
           "colorbar": {
            "outlinewidth": 0,
            "ticks": ""
           }
          },
          "colorscale": {
           "diverging": [
            [
             0,
             "#8e0152"
            ],
            [
             0.1,
             "#c51b7d"
            ],
            [
             0.2,
             "#de77ae"
            ],
            [
             0.3,
             "#f1b6da"
            ],
            [
             0.4,
             "#fde0ef"
            ],
            [
             0.5,
             "#f7f7f7"
            ],
            [
             0.6,
             "#e6f5d0"
            ],
            [
             0.7,
             "#b8e186"
            ],
            [
             0.8,
             "#7fbc41"
            ],
            [
             0.9,
             "#4d9221"
            ],
            [
             1,
             "#276419"
            ]
           ],
           "sequential": [
            [
             0,
             "#0d0887"
            ],
            [
             0.1111111111111111,
             "#46039f"
            ],
            [
             0.2222222222222222,
             "#7201a8"
            ],
            [
             0.3333333333333333,
             "#9c179e"
            ],
            [
             0.4444444444444444,
             "#bd3786"
            ],
            [
             0.5555555555555556,
             "#d8576b"
            ],
            [
             0.6666666666666666,
             "#ed7953"
            ],
            [
             0.7777777777777778,
             "#fb9f3a"
            ],
            [
             0.8888888888888888,
             "#fdca26"
            ],
            [
             1,
             "#f0f921"
            ]
           ],
           "sequentialminus": [
            [
             0,
             "#0d0887"
            ],
            [
             0.1111111111111111,
             "#46039f"
            ],
            [
             0.2222222222222222,
             "#7201a8"
            ],
            [
             0.3333333333333333,
             "#9c179e"
            ],
            [
             0.4444444444444444,
             "#bd3786"
            ],
            [
             0.5555555555555556,
             "#d8576b"
            ],
            [
             0.6666666666666666,
             "#ed7953"
            ],
            [
             0.7777777777777778,
             "#fb9f3a"
            ],
            [
             0.8888888888888888,
             "#fdca26"
            ],
            [
             1,
             "#f0f921"
            ]
           ]
          },
          "colorway": [
           "#636efa",
           "#EF553B",
           "#00cc96",
           "#ab63fa",
           "#FFA15A",
           "#19d3f3",
           "#FF6692",
           "#B6E880",
           "#FF97FF",
           "#FECB52"
          ],
          "font": {
           "color": "#2a3f5f"
          },
          "geo": {
           "bgcolor": "white",
           "lakecolor": "white",
           "landcolor": "#E5ECF6",
           "showlakes": true,
           "showland": true,
           "subunitcolor": "white"
          },
          "hoverlabel": {
           "align": "left"
          },
          "hovermode": "closest",
          "mapbox": {
           "style": "light"
          },
          "paper_bgcolor": "white",
          "plot_bgcolor": "#E5ECF6",
          "polar": {
           "angularaxis": {
            "gridcolor": "white",
            "linecolor": "white",
            "ticks": ""
           },
           "bgcolor": "#E5ECF6",
           "radialaxis": {
            "gridcolor": "white",
            "linecolor": "white",
            "ticks": ""
           }
          },
          "scene": {
           "xaxis": {
            "backgroundcolor": "#E5ECF6",
            "gridcolor": "white",
            "gridwidth": 2,
            "linecolor": "white",
            "showbackground": true,
            "ticks": "",
            "zerolinecolor": "white"
           },
           "yaxis": {
            "backgroundcolor": "#E5ECF6",
            "gridcolor": "white",
            "gridwidth": 2,
            "linecolor": "white",
            "showbackground": true,
            "ticks": "",
            "zerolinecolor": "white"
           },
           "zaxis": {
            "backgroundcolor": "#E5ECF6",
            "gridcolor": "white",
            "gridwidth": 2,
            "linecolor": "white",
            "showbackground": true,
            "ticks": "",
            "zerolinecolor": "white"
           }
          },
          "shapedefaults": {
           "line": {
            "color": "#2a3f5f"
           }
          },
          "ternary": {
           "aaxis": {
            "gridcolor": "white",
            "linecolor": "white",
            "ticks": ""
           },
           "baxis": {
            "gridcolor": "white",
            "linecolor": "white",
            "ticks": ""
           },
           "bgcolor": "#E5ECF6",
           "caxis": {
            "gridcolor": "white",
            "linecolor": "white",
            "ticks": ""
           }
          },
          "title": {
           "x": 0.05
          },
          "xaxis": {
           "automargin": true,
           "gridcolor": "white",
           "linecolor": "white",
           "ticks": "",
           "title": {
            "standoff": 15
           },
           "zerolinecolor": "white",
           "zerolinewidth": 2
          },
          "yaxis": {
           "automargin": true,
           "gridcolor": "white",
           "linecolor": "white",
           "ticks": "",
           "title": {
            "standoff": 15
           },
           "zerolinecolor": "white",
           "zerolinewidth": 2
          }
         }
        },
        "title": {
         "font": {
          "color": "#4D5663"
         },
         "text": "<b>Daily Cases of Covid_19 in Greece (139 days)</b>"
        },
        "xaxis": {
         "gridcolor": "#E1E5ED",
         "showgrid": true,
         "tickfont": {
          "color": "#4D5663"
         },
         "title": {
          "font": {
           "color": "#4D5663"
          },
          "text": "Dates"
         },
         "zerolinecolor": "#E1E5ED"
        },
        "yaxis": {
         "gridcolor": "#E1E5ED",
         "showgrid": true,
         "tickfont": {
          "color": "#4D5663"
         },
         "title": {
          "font": {
           "color": "#4D5663"
          },
          "text": "Number of Cases"
         },
         "zerolinecolor": "#E1E5ED"
        }
       }
      },
      "text/html": [
       "<div>\n",
       "        \n",
       "        \n",
       "            <div id=\"a9a711bf-1f0a-43a3-b7d1-e6352fe17418\" class=\"plotly-graph-div\" style=\"height:525px; width:100%;\"></div>\n",
       "            <script type=\"text/javascript\">\n",
       "                require([\"plotly\"], function(Plotly) {\n",
       "                    window.PLOTLYENV=window.PLOTLYENV || {};\n",
       "                    window.PLOTLYENV.BASE_URL='https://plot.ly';\n",
       "                    \n",
       "                if (document.getElementById(\"a9a711bf-1f0a-43a3-b7d1-e6352fe17418\")) {\n",
       "                    Plotly.newPlot(\n",
       "                        'a9a711bf-1f0a-43a3-b7d1-e6352fe17418',\n",
       "                        [{\"marker\": {\"color\": \"rgba(55, 128, 191, 0.6)\", \"line\": {\"color\": \"rgba(55, 128, 191, 1.0)\", \"width\": 1}}, \"name\": \"Daily Cases\", \"orientation\": \"v\", \"text\": \"\", \"type\": \"bar\", \"x\": [\"26/02\", \"27/02\", \"28/02\", \"29/02\", \"01/03\", \"02/03\", \"03/03\", \"04/03\", \"05/03\", \"06/03\", \"07/03\", \"08/03\", \"09/03\", \"10/03\", \"11/03\", \"12/03\", \"13/03\", \"14/03\", \"15/03\", \"16/03\", \"17/03\", \"18/03\", \"19/03\", \"20/03\", \"21/03\", \"22/03\", \"23/03\", \"24/03\", \"25/03\", \"26/03\", \"27/03\", \"28/03\", \"29/03\", \"30/03\", \"31/03\", \"01/04\", \"02/04\", \"03/04\", \"04/04\", \"05/04\", \"06/04\", \"07/04\", \"08/04\", \"09/04\", \"10/04\", \"11/04\", \"12/04\", \"13/04\", \"14/04\", \"15/04\", \"16/04\", \"17/04\", \"18/04\", \"19/04\", \"20/04\", \"21/04\", \"22/04\", \"23/04\", \"24/04\", \"25/04\", \"26/04\", \"27/04\", \"28/04\", \"29/04\", \"30/04\", \"01/05\", \"02/05\", \"03/05\", \"04/05\", \"05/05\", \"06/05\", \"07/05\", \"08/05\", \"09/05\", \"10/05\", \"11/05\", \"12/05\", \"13/05\", \"14/05\", \"15/05\", \"16/05\", \"17/05\", \"18/05\", \"19/05\", \"20/05\", \"21/05\", \"22/05\", \"23/05\", \"24/05\", \"25/05\", \"26/05\", \"27/05\", \"28/05\", \"29/05\", \"30/05\", \"31/05\", \"01/06\", \"02/06\", \"03/06\", \"04/06\", \"05/06\", \"06/06\", \"07/06\", \"08/06\", \"09/06\", \"10/06\", \"11/06\", \"12/06\", \"13/06\", \"14/06\", \"15/06\", \"16/06\", \"17/06\", \"18/06\", \"19/06\", \"20/06\", \"21/06\", \"22/06\", \"23/06\", \"24/06\", \"25/06\", \"26/06\", \"27/06\", \"28/06\", \"29/06\", \"30/06\", \"01/07\", \"02/07\", \"03/07\", \"04/07\", \"05/07\", \"06/07\", \"07/07\", \"08/07\", \"09/07\", \"10/07\", \"11/07\", \"12/07\", \"13/07\"], \"y\": [1, 2, 1, 3, 0, 0, 0, 2, 22, 14, 21, 7, 11, 5, 10, 18, 73, 38, 103, 21, 35, 31, 46, 31, 35, 94, 71, 48, 78, 71, 74, 95, 95, 56, 102, 101, 129, 69, 60, 62, 20, 77, 52, 71, 54, 72, 33, 31, 25, 22, 15, 17, 11, 0, 10, 156, 7, 55, 27, 16, 11, 17, 32, 10, 15, 21, 8, 6, 6, 10, 21, 15, 13, 19, 6, 10, 18, 16, 10, 40, 9, 15, 2, 4, 10, 3, 21, 3, 2, 4, 7, 18, 3, 5, 7, 2, 2, 19, 0, 15, 15, 13, 17, 52, 9, 11, 20, 20, 4, 9, 13, 15, 55, 24, 10, 19, 10, 21, 16, 8, 13, 22, 23, 10, 15, 20, 23, 28, 28, 25, 9, 43, 27, 33, 50, 60, 41, 31, 24]}],\n",
       "                        {\"legend\": {\"bgcolor\": \"#F5F6F9\", \"font\": {\"color\": \"#4D5663\"}}, \"paper_bgcolor\": \"#F5F6F9\", \"plot_bgcolor\": \"#F5F6F9\", \"template\": {\"data\": {\"bar\": [{\"error_x\": {\"color\": \"#2a3f5f\"}, \"error_y\": {\"color\": \"#2a3f5f\"}, \"marker\": {\"line\": {\"color\": \"#E5ECF6\", \"width\": 0.5}}, \"type\": \"bar\"}], \"barpolar\": [{\"marker\": {\"line\": {\"color\": \"#E5ECF6\", \"width\": 0.5}}, \"type\": \"barpolar\"}], \"carpet\": [{\"aaxis\": {\"endlinecolor\": \"#2a3f5f\", \"gridcolor\": \"white\", \"linecolor\": \"white\", \"minorgridcolor\": \"white\", \"startlinecolor\": \"#2a3f5f\"}, \"baxis\": {\"endlinecolor\": \"#2a3f5f\", \"gridcolor\": \"white\", \"linecolor\": \"white\", \"minorgridcolor\": \"white\", \"startlinecolor\": \"#2a3f5f\"}, \"type\": \"carpet\"}], \"choropleth\": [{\"colorbar\": {\"outlinewidth\": 0, \"ticks\": \"\"}, \"type\": \"choropleth\"}], \"contour\": [{\"colorbar\": {\"outlinewidth\": 0, \"ticks\": \"\"}, \"colorscale\": [[0.0, \"#0d0887\"], [0.1111111111111111, \"#46039f\"], [0.2222222222222222, \"#7201a8\"], [0.3333333333333333, \"#9c179e\"], [0.4444444444444444, \"#bd3786\"], [0.5555555555555556, \"#d8576b\"], [0.6666666666666666, \"#ed7953\"], [0.7777777777777778, \"#fb9f3a\"], [0.8888888888888888, \"#fdca26\"], [1.0, \"#f0f921\"]], \"type\": \"contour\"}], \"contourcarpet\": [{\"colorbar\": {\"outlinewidth\": 0, \"ticks\": \"\"}, \"type\": \"contourcarpet\"}], \"heatmap\": [{\"colorbar\": {\"outlinewidth\": 0, \"ticks\": \"\"}, \"colorscale\": [[0.0, \"#0d0887\"], [0.1111111111111111, \"#46039f\"], [0.2222222222222222, \"#7201a8\"], [0.3333333333333333, \"#9c179e\"], [0.4444444444444444, \"#bd3786\"], [0.5555555555555556, \"#d8576b\"], [0.6666666666666666, \"#ed7953\"], [0.7777777777777778, \"#fb9f3a\"], [0.8888888888888888, \"#fdca26\"], [1.0, \"#f0f921\"]], \"type\": \"heatmap\"}], \"heatmapgl\": [{\"colorbar\": {\"outlinewidth\": 0, \"ticks\": \"\"}, \"colorscale\": [[0.0, \"#0d0887\"], [0.1111111111111111, \"#46039f\"], [0.2222222222222222, \"#7201a8\"], [0.3333333333333333, \"#9c179e\"], [0.4444444444444444, \"#bd3786\"], [0.5555555555555556, \"#d8576b\"], [0.6666666666666666, \"#ed7953\"], [0.7777777777777778, \"#fb9f3a\"], [0.8888888888888888, \"#fdca26\"], [1.0, \"#f0f921\"]], \"type\": \"heatmapgl\"}], \"histogram\": [{\"marker\": {\"colorbar\": {\"outlinewidth\": 0, \"ticks\": \"\"}}, \"type\": \"histogram\"}], \"histogram2d\": [{\"colorbar\": {\"outlinewidth\": 0, \"ticks\": \"\"}, \"colorscale\": [[0.0, \"#0d0887\"], [0.1111111111111111, \"#46039f\"], [0.2222222222222222, \"#7201a8\"], [0.3333333333333333, \"#9c179e\"], [0.4444444444444444, \"#bd3786\"], [0.5555555555555556, \"#d8576b\"], [0.6666666666666666, \"#ed7953\"], [0.7777777777777778, \"#fb9f3a\"], [0.8888888888888888, \"#fdca26\"], [1.0, \"#f0f921\"]], \"type\": \"histogram2d\"}], \"histogram2dcontour\": [{\"colorbar\": {\"outlinewidth\": 0, \"ticks\": \"\"}, \"colorscale\": [[0.0, \"#0d0887\"], [0.1111111111111111, \"#46039f\"], [0.2222222222222222, \"#7201a8\"], [0.3333333333333333, \"#9c179e\"], [0.4444444444444444, \"#bd3786\"], [0.5555555555555556, \"#d8576b\"], [0.6666666666666666, \"#ed7953\"], [0.7777777777777778, \"#fb9f3a\"], [0.8888888888888888, \"#fdca26\"], [1.0, \"#f0f921\"]], \"type\": \"histogram2dcontour\"}], \"mesh3d\": [{\"colorbar\": {\"outlinewidth\": 0, \"ticks\": \"\"}, \"type\": \"mesh3d\"}], \"parcoords\": [{\"line\": {\"colorbar\": {\"outlinewidth\": 0, \"ticks\": \"\"}}, \"type\": \"parcoords\"}], \"pie\": [{\"automargin\": true, \"type\": \"pie\"}], \"scatter\": [{\"marker\": {\"colorbar\": {\"outlinewidth\": 0, \"ticks\": \"\"}}, \"type\": \"scatter\"}], \"scatter3d\": [{\"line\": {\"colorbar\": {\"outlinewidth\": 0, \"ticks\": \"\"}}, \"marker\": {\"colorbar\": {\"outlinewidth\": 0, \"ticks\": \"\"}}, \"type\": \"scatter3d\"}], \"scattercarpet\": [{\"marker\": {\"colorbar\": {\"outlinewidth\": 0, \"ticks\": \"\"}}, \"type\": \"scattercarpet\"}], \"scattergeo\": [{\"marker\": {\"colorbar\": {\"outlinewidth\": 0, \"ticks\": \"\"}}, \"type\": \"scattergeo\"}], \"scattergl\": [{\"marker\": {\"colorbar\": {\"outlinewidth\": 0, \"ticks\": \"\"}}, \"type\": \"scattergl\"}], \"scattermapbox\": [{\"marker\": {\"colorbar\": {\"outlinewidth\": 0, \"ticks\": \"\"}}, \"type\": \"scattermapbox\"}], \"scatterpolar\": [{\"marker\": {\"colorbar\": {\"outlinewidth\": 0, \"ticks\": \"\"}}, \"type\": \"scatterpolar\"}], \"scatterpolargl\": [{\"marker\": {\"colorbar\": {\"outlinewidth\": 0, \"ticks\": \"\"}}, \"type\": \"scatterpolargl\"}], \"scatterternary\": [{\"marker\": {\"colorbar\": {\"outlinewidth\": 0, \"ticks\": \"\"}}, \"type\": \"scatterternary\"}], \"surface\": [{\"colorbar\": {\"outlinewidth\": 0, \"ticks\": \"\"}, \"colorscale\": [[0.0, \"#0d0887\"], [0.1111111111111111, \"#46039f\"], [0.2222222222222222, \"#7201a8\"], [0.3333333333333333, \"#9c179e\"], [0.4444444444444444, \"#bd3786\"], [0.5555555555555556, \"#d8576b\"], [0.6666666666666666, \"#ed7953\"], [0.7777777777777778, \"#fb9f3a\"], [0.8888888888888888, \"#fdca26\"], [1.0, \"#f0f921\"]], \"type\": \"surface\"}], \"table\": [{\"cells\": {\"fill\": {\"color\": \"#EBF0F8\"}, \"line\": {\"color\": \"white\"}}, \"header\": {\"fill\": {\"color\": \"#C8D4E3\"}, \"line\": {\"color\": \"white\"}}, \"type\": \"table\"}]}, \"layout\": {\"annotationdefaults\": {\"arrowcolor\": \"#2a3f5f\", \"arrowhead\": 0, \"arrowwidth\": 1}, \"coloraxis\": {\"colorbar\": {\"outlinewidth\": 0, \"ticks\": \"\"}}, \"colorscale\": {\"diverging\": [[0, \"#8e0152\"], [0.1, \"#c51b7d\"], [0.2, \"#de77ae\"], [0.3, \"#f1b6da\"], [0.4, \"#fde0ef\"], [0.5, \"#f7f7f7\"], [0.6, \"#e6f5d0\"], [0.7, \"#b8e186\"], [0.8, \"#7fbc41\"], [0.9, \"#4d9221\"], [1, \"#276419\"]], \"sequential\": [[0.0, \"#0d0887\"], [0.1111111111111111, \"#46039f\"], [0.2222222222222222, \"#7201a8\"], [0.3333333333333333, \"#9c179e\"], [0.4444444444444444, \"#bd3786\"], [0.5555555555555556, \"#d8576b\"], [0.6666666666666666, \"#ed7953\"], [0.7777777777777778, \"#fb9f3a\"], [0.8888888888888888, \"#fdca26\"], [1.0, \"#f0f921\"]], \"sequentialminus\": [[0.0, \"#0d0887\"], [0.1111111111111111, \"#46039f\"], [0.2222222222222222, \"#7201a8\"], [0.3333333333333333, \"#9c179e\"], [0.4444444444444444, \"#bd3786\"], [0.5555555555555556, \"#d8576b\"], [0.6666666666666666, \"#ed7953\"], [0.7777777777777778, \"#fb9f3a\"], [0.8888888888888888, \"#fdca26\"], [1.0, \"#f0f921\"]]}, \"colorway\": [\"#636efa\", \"#EF553B\", \"#00cc96\", \"#ab63fa\", \"#FFA15A\", \"#19d3f3\", \"#FF6692\", \"#B6E880\", \"#FF97FF\", \"#FECB52\"], \"font\": {\"color\": \"#2a3f5f\"}, \"geo\": {\"bgcolor\": \"white\", \"lakecolor\": \"white\", \"landcolor\": \"#E5ECF6\", \"showlakes\": true, \"showland\": true, \"subunitcolor\": \"white\"}, \"hoverlabel\": {\"align\": \"left\"}, \"hovermode\": \"closest\", \"mapbox\": {\"style\": \"light\"}, \"paper_bgcolor\": \"white\", \"plot_bgcolor\": \"#E5ECF6\", \"polar\": {\"angularaxis\": {\"gridcolor\": \"white\", \"linecolor\": \"white\", \"ticks\": \"\"}, \"bgcolor\": \"#E5ECF6\", \"radialaxis\": {\"gridcolor\": \"white\", \"linecolor\": \"white\", \"ticks\": \"\"}}, \"scene\": {\"xaxis\": {\"backgroundcolor\": \"#E5ECF6\", \"gridcolor\": \"white\", \"gridwidth\": 2, \"linecolor\": \"white\", \"showbackground\": true, \"ticks\": \"\", \"zerolinecolor\": \"white\"}, \"yaxis\": {\"backgroundcolor\": \"#E5ECF6\", \"gridcolor\": \"white\", \"gridwidth\": 2, \"linecolor\": \"white\", \"showbackground\": true, \"ticks\": \"\", \"zerolinecolor\": \"white\"}, \"zaxis\": {\"backgroundcolor\": \"#E5ECF6\", \"gridcolor\": \"white\", \"gridwidth\": 2, \"linecolor\": \"white\", \"showbackground\": true, \"ticks\": \"\", \"zerolinecolor\": \"white\"}}, \"shapedefaults\": {\"line\": {\"color\": \"#2a3f5f\"}}, \"ternary\": {\"aaxis\": {\"gridcolor\": \"white\", \"linecolor\": \"white\", \"ticks\": \"\"}, \"baxis\": {\"gridcolor\": \"white\", \"linecolor\": \"white\", \"ticks\": \"\"}, \"bgcolor\": \"#E5ECF6\", \"caxis\": {\"gridcolor\": \"white\", \"linecolor\": \"white\", \"ticks\": \"\"}}, \"title\": {\"x\": 0.05}, \"xaxis\": {\"automargin\": true, \"gridcolor\": \"white\", \"linecolor\": \"white\", \"ticks\": \"\", \"title\": {\"standoff\": 15}, \"zerolinecolor\": \"white\", \"zerolinewidth\": 2}, \"yaxis\": {\"automargin\": true, \"gridcolor\": \"white\", \"linecolor\": \"white\", \"ticks\": \"\", \"title\": {\"standoff\": 15}, \"zerolinecolor\": \"white\", \"zerolinewidth\": 2}}}, \"title\": {\"font\": {\"color\": \"#4D5663\"}, \"text\": \"<b>Daily Cases of Covid_19 in Greece (139 days)</b>\"}, \"xaxis\": {\"gridcolor\": \"#E1E5ED\", \"showgrid\": true, \"tickfont\": {\"color\": \"#4D5663\"}, \"title\": {\"font\": {\"color\": \"#4D5663\"}, \"text\": \"Dates\"}, \"zerolinecolor\": \"#E1E5ED\"}, \"yaxis\": {\"gridcolor\": \"#E1E5ED\", \"showgrid\": true, \"tickfont\": {\"color\": \"#4D5663\"}, \"title\": {\"font\": {\"color\": \"#4D5663\"}, \"text\": \"Number of Cases\"}, \"zerolinecolor\": \"#E1E5ED\"}},\n",
       "                        {\"showLink\": true, \"linkText\": \"Export to plot.ly\", \"plotlyServerURL\": \"https://plot.ly\", \"responsive\": true}\n",
       "                    ).then(function(){\n",
       "                            \n",
       "var gd = document.getElementById('a9a711bf-1f0a-43a3-b7d1-e6352fe17418');\n",
       "var x = new MutationObserver(function (mutations, observer) {{\n",
       "        var display = window.getComputedStyle(gd).display;\n",
       "        if (!display || display === 'none') {{\n",
       "            console.log([gd, 'removed!']);\n",
       "            Plotly.purge(gd);\n",
       "            observer.disconnect();\n",
       "        }}\n",
       "}});\n",
       "\n",
       "// Listen for the removal of the full notebook cells\n",
       "var notebookContainer = gd.closest('#notebook-container');\n",
       "if (notebookContainer) {{\n",
       "    x.observe(notebookContainer, {childList: true});\n",
       "}}\n",
       "\n",
       "// Listen for the clearing of the current output cell\n",
       "var outputEl = gd.closest('.output');\n",
       "if (outputEl) {{\n",
       "    x.observe(outputEl, {childList: true});\n",
       "}}\n",
       "\n",
       "                        })\n",
       "                };\n",
       "                });\n",
       "            </script>\n",
       "        </div>"
      ]
     },
     "metadata": {},
     "output_type": "display_data"
    }
   ],
   "source": [
    "df['Daily Cases'].iplot(kind='bar', color='blue',\n",
    "                        xTitle='Dates', yTitle='Number of Cases',\n",
    "                        title='<b>Daily Cases of Covid_19 in Greece ('+str(len(df['Total Cases']))+' days)</b>')"
   ]
  },
  {
   "cell_type": "markdown",
   "metadata": {},
   "source": [
    "## Total Cases and Total Recovered"
   ]
  },
  {
   "cell_type": "code",
   "execution_count": 14,
   "metadata": {},
   "outputs": [
    {
     "data": {
      "application/vnd.plotly.v1+json": {
       "config": {
        "plotlyServerURL": "https://plot.ly"
       },
       "data": [
        {
         "name": "Total Recovered",
         "type": "bar",
         "x": [
          "26/02",
          "27/02",
          "28/02",
          "29/02",
          "01/03",
          "02/03",
          "03/03",
          "04/03",
          "05/03",
          "06/03",
          "07/03",
          "08/03",
          "09/03",
          "10/03",
          "11/03",
          "12/03",
          "13/03",
          "14/03",
          "15/03",
          "16/03",
          "17/03",
          "18/03",
          "19/03",
          "20/03",
          "21/03",
          "22/03",
          "23/03",
          "24/03",
          "25/03",
          "26/03",
          "27/03",
          "28/03",
          "29/03",
          "30/03",
          "31/03",
          "01/04",
          "02/04",
          "03/04",
          "04/04",
          "05/04",
          "06/04",
          "07/04",
          "08/04",
          "09/04",
          "10/04",
          "11/04",
          "12/04",
          "13/04",
          "14/04",
          "15/04",
          "16/04",
          "17/04",
          "18/04",
          "19/04",
          "20/04",
          "21/04",
          "22/04",
          "23/04",
          "24/04",
          "25/04",
          "26/04",
          "27/04",
          "28/04",
          "29/04",
          "30/04",
          "01/05",
          "02/05",
          "03/05",
          "04/05",
          "05/05",
          "06/05",
          "07/05",
          "08/05",
          "09/05",
          "10/05",
          "11/05",
          "12/05",
          "13/05",
          "14/05",
          "15/05",
          "16/05",
          "17/05",
          "18/05",
          "19/05",
          "20/05",
          "21/05",
          "22/05",
          "23/05",
          "24/05",
          "25/05",
          "26/05",
          "27/05",
          "28/05",
          "29/05",
          "30/05",
          "31/05",
          "01/06",
          "02/06",
          "03/06",
          "04/06",
          "05/06",
          "06/06",
          "07/06",
          "08/06",
          "09/06",
          "10/06",
          "11/06",
          "12/06",
          "13/06",
          "14/06",
          "15/06",
          "16/06",
          "17/06",
          "18/06",
          "19/06",
          "20/06",
          "21/06",
          "22/06",
          "23/06",
          "24/06",
          "25/06",
          "26/06",
          "27/06",
          "28/06",
          "29/06",
          "30/06",
          "01/07",
          "02/07",
          "03/07",
          "04/07",
          "05/07",
          "06/07",
          "07/07",
          "08/07",
          "09/07",
          "10/07",
          "11/07",
          "12/07",
          "13/07"
         ],
         "y": [
          0,
          0,
          0,
          0,
          0,
          0,
          0,
          0,
          0,
          0,
          0,
          0,
          0,
          0,
          0,
          2,
          2,
          8,
          10,
          10,
          14,
          14,
          19,
          19,
          19,
          19,
          29,
          32,
          36,
          42,
          52,
          52,
          53,
          53,
          53,
          53,
          53,
          53,
          53,
          53,
          269,
          269,
          269,
          269,
          269,
          269,
          269,
          269,
          269,
          269,
          269,
          269,
          269,
          269,
          269,
          269,
          269,
          269,
          269,
          269,
          269,
          269,
          269,
          269,
          1374,
          1374,
          1374,
          1374,
          1374,
          1374,
          1374,
          1374,
          1374,
          1374,
          1374,
          1374,
          1374,
          1374,
          1374,
          1374,
          1374,
          1374,
          1374,
          1374,
          1374,
          1374,
          1374,
          1374,
          1374,
          1374,
          1374,
          1374,
          1374,
          1374,
          1374,
          1374,
          1374,
          1374,
          1374,
          1374,
          1374,
          1374,
          1374,
          1374,
          1374,
          1374,
          1374,
          1374,
          1374,
          1374,
          1374,
          1374,
          1374,
          1374,
          1374,
          1374,
          1374,
          1374,
          1374,
          1374,
          1374,
          1374,
          1374,
          1374,
          1374,
          1374,
          1374,
          1374,
          1374,
          1374,
          1374,
          1374,
          1374,
          1374,
          1374,
          1374,
          1374,
          1374,
          1374
         ]
        },
        {
         "name": "Total Cases",
         "opacity": 0.7,
         "type": "bar",
         "x": [
          "26/02",
          "27/02",
          "28/02",
          "29/02",
          "01/03",
          "02/03",
          "03/03",
          "04/03",
          "05/03",
          "06/03",
          "07/03",
          "08/03",
          "09/03",
          "10/03",
          "11/03",
          "12/03",
          "13/03",
          "14/03",
          "15/03",
          "16/03",
          "17/03",
          "18/03",
          "19/03",
          "20/03",
          "21/03",
          "22/03",
          "23/03",
          "24/03",
          "25/03",
          "26/03",
          "27/03",
          "28/03",
          "29/03",
          "30/03",
          "31/03",
          "01/04",
          "02/04",
          "03/04",
          "04/04",
          "05/04",
          "06/04",
          "07/04",
          "08/04",
          "09/04",
          "10/04",
          "11/04",
          "12/04",
          "13/04",
          "14/04",
          "15/04",
          "16/04",
          "17/04",
          "18/04",
          "19/04",
          "20/04",
          "21/04",
          "22/04",
          "23/04",
          "24/04",
          "25/04",
          "26/04",
          "27/04",
          "28/04",
          "29/04",
          "30/04",
          "01/05",
          "02/05",
          "03/05",
          "04/05",
          "05/05",
          "06/05",
          "07/05",
          "08/05",
          "09/05",
          "10/05",
          "11/05",
          "12/05",
          "13/05",
          "14/05",
          "15/05",
          "16/05",
          "17/05",
          "18/05",
          "19/05",
          "20/05",
          "21/05",
          "22/05",
          "23/05",
          "24/05",
          "25/05",
          "26/05",
          "27/05",
          "28/05",
          "29/05",
          "30/05",
          "31/05",
          "01/06",
          "02/06",
          "03/06",
          "04/06",
          "05/06",
          "06/06",
          "07/06",
          "08/06",
          "09/06",
          "10/06",
          "11/06",
          "12/06",
          "13/06",
          "14/06",
          "15/06",
          "16/06",
          "17/06",
          "18/06",
          "19/06",
          "20/06",
          "21/06",
          "22/06",
          "23/06",
          "24/06",
          "25/06",
          "26/06",
          "27/06",
          "28/06",
          "29/06",
          "30/06",
          "01/07",
          "02/07",
          "03/07",
          "04/07",
          "05/07",
          "06/07",
          "07/07",
          "08/07",
          "09/07",
          "10/07",
          "11/07",
          "12/07",
          "13/07"
         ],
         "y": [
          1,
          3,
          4,
          7,
          7,
          7,
          7,
          9,
          31,
          45,
          66,
          73,
          84,
          89,
          99,
          117,
          190,
          228,
          331,
          352,
          387,
          418,
          464,
          495,
          530,
          624,
          695,
          743,
          821,
          892,
          966,
          1061,
          1156,
          1212,
          1314,
          1415,
          1544,
          1613,
          1673,
          1735,
          1755,
          1832,
          1884,
          1955,
          2009,
          2081,
          2114,
          2145,
          2170,
          2192,
          2207,
          2224,
          2235,
          2235,
          2245,
          2401,
          2408,
          2463,
          2490,
          2506,
          2517,
          2534,
          2566,
          2576,
          2591,
          2612,
          2620,
          2626,
          2632,
          2642,
          2663,
          2678,
          2691,
          2710,
          2716,
          2726,
          2744,
          2760,
          2770,
          2810,
          2819,
          2834,
          2836,
          2840,
          2850,
          2853,
          2873,
          2876,
          2878,
          2882,
          2889,
          2903,
          2906,
          2909,
          2915,
          2917,
          2918,
          2937,
          2937,
          2952,
          2967,
          2980,
          2997,
          3049,
          3058,
          3068,
          3088,
          3108,
          3112,
          3121,
          3134,
          3148,
          3203,
          3227,
          3237,
          3256,
          3266,
          3287,
          3302,
          3310,
          3321,
          3343,
          3366,
          3376,
          3390,
          3409,
          3432,
          3458,
          3486,
          3511,
          3519,
          3562,
          3589,
          3622,
          3672,
          3732,
          3772,
          3803,
          3826
         ]
        }
       ],
       "layout": {
        "hovermode": "x unified",
        "template": {
         "data": {
          "bar": [
           {
            "error_x": {
             "color": "#2a3f5f"
            },
            "error_y": {
             "color": "#2a3f5f"
            },
            "marker": {
             "line": {
              "color": "#E5ECF6",
              "width": 0.5
             }
            },
            "type": "bar"
           }
          ],
          "barpolar": [
           {
            "marker": {
             "line": {
              "color": "#E5ECF6",
              "width": 0.5
             }
            },
            "type": "barpolar"
           }
          ],
          "carpet": [
           {
            "aaxis": {
             "endlinecolor": "#2a3f5f",
             "gridcolor": "white",
             "linecolor": "white",
             "minorgridcolor": "white",
             "startlinecolor": "#2a3f5f"
            },
            "baxis": {
             "endlinecolor": "#2a3f5f",
             "gridcolor": "white",
             "linecolor": "white",
             "minorgridcolor": "white",
             "startlinecolor": "#2a3f5f"
            },
            "type": "carpet"
           }
          ],
          "choropleth": [
           {
            "colorbar": {
             "outlinewidth": 0,
             "ticks": ""
            },
            "type": "choropleth"
           }
          ],
          "contour": [
           {
            "colorbar": {
             "outlinewidth": 0,
             "ticks": ""
            },
            "colorscale": [
             [
              0,
              "#0d0887"
             ],
             [
              0.1111111111111111,
              "#46039f"
             ],
             [
              0.2222222222222222,
              "#7201a8"
             ],
             [
              0.3333333333333333,
              "#9c179e"
             ],
             [
              0.4444444444444444,
              "#bd3786"
             ],
             [
              0.5555555555555556,
              "#d8576b"
             ],
             [
              0.6666666666666666,
              "#ed7953"
             ],
             [
              0.7777777777777778,
              "#fb9f3a"
             ],
             [
              0.8888888888888888,
              "#fdca26"
             ],
             [
              1,
              "#f0f921"
             ]
            ],
            "type": "contour"
           }
          ],
          "contourcarpet": [
           {
            "colorbar": {
             "outlinewidth": 0,
             "ticks": ""
            },
            "type": "contourcarpet"
           }
          ],
          "heatmap": [
           {
            "colorbar": {
             "outlinewidth": 0,
             "ticks": ""
            },
            "colorscale": [
             [
              0,
              "#0d0887"
             ],
             [
              0.1111111111111111,
              "#46039f"
             ],
             [
              0.2222222222222222,
              "#7201a8"
             ],
             [
              0.3333333333333333,
              "#9c179e"
             ],
             [
              0.4444444444444444,
              "#bd3786"
             ],
             [
              0.5555555555555556,
              "#d8576b"
             ],
             [
              0.6666666666666666,
              "#ed7953"
             ],
             [
              0.7777777777777778,
              "#fb9f3a"
             ],
             [
              0.8888888888888888,
              "#fdca26"
             ],
             [
              1,
              "#f0f921"
             ]
            ],
            "type": "heatmap"
           }
          ],
          "heatmapgl": [
           {
            "colorbar": {
             "outlinewidth": 0,
             "ticks": ""
            },
            "colorscale": [
             [
              0,
              "#0d0887"
             ],
             [
              0.1111111111111111,
              "#46039f"
             ],
             [
              0.2222222222222222,
              "#7201a8"
             ],
             [
              0.3333333333333333,
              "#9c179e"
             ],
             [
              0.4444444444444444,
              "#bd3786"
             ],
             [
              0.5555555555555556,
              "#d8576b"
             ],
             [
              0.6666666666666666,
              "#ed7953"
             ],
             [
              0.7777777777777778,
              "#fb9f3a"
             ],
             [
              0.8888888888888888,
              "#fdca26"
             ],
             [
              1,
              "#f0f921"
             ]
            ],
            "type": "heatmapgl"
           }
          ],
          "histogram": [
           {
            "marker": {
             "colorbar": {
              "outlinewidth": 0,
              "ticks": ""
             }
            },
            "type": "histogram"
           }
          ],
          "histogram2d": [
           {
            "colorbar": {
             "outlinewidth": 0,
             "ticks": ""
            },
            "colorscale": [
             [
              0,
              "#0d0887"
             ],
             [
              0.1111111111111111,
              "#46039f"
             ],
             [
              0.2222222222222222,
              "#7201a8"
             ],
             [
              0.3333333333333333,
              "#9c179e"
             ],
             [
              0.4444444444444444,
              "#bd3786"
             ],
             [
              0.5555555555555556,
              "#d8576b"
             ],
             [
              0.6666666666666666,
              "#ed7953"
             ],
             [
              0.7777777777777778,
              "#fb9f3a"
             ],
             [
              0.8888888888888888,
              "#fdca26"
             ],
             [
              1,
              "#f0f921"
             ]
            ],
            "type": "histogram2d"
           }
          ],
          "histogram2dcontour": [
           {
            "colorbar": {
             "outlinewidth": 0,
             "ticks": ""
            },
            "colorscale": [
             [
              0,
              "#0d0887"
             ],
             [
              0.1111111111111111,
              "#46039f"
             ],
             [
              0.2222222222222222,
              "#7201a8"
             ],
             [
              0.3333333333333333,
              "#9c179e"
             ],
             [
              0.4444444444444444,
              "#bd3786"
             ],
             [
              0.5555555555555556,
              "#d8576b"
             ],
             [
              0.6666666666666666,
              "#ed7953"
             ],
             [
              0.7777777777777778,
              "#fb9f3a"
             ],
             [
              0.8888888888888888,
              "#fdca26"
             ],
             [
              1,
              "#f0f921"
             ]
            ],
            "type": "histogram2dcontour"
           }
          ],
          "mesh3d": [
           {
            "colorbar": {
             "outlinewidth": 0,
             "ticks": ""
            },
            "type": "mesh3d"
           }
          ],
          "parcoords": [
           {
            "line": {
             "colorbar": {
              "outlinewidth": 0,
              "ticks": ""
             }
            },
            "type": "parcoords"
           }
          ],
          "pie": [
           {
            "automargin": true,
            "type": "pie"
           }
          ],
          "scatter": [
           {
            "marker": {
             "colorbar": {
              "outlinewidth": 0,
              "ticks": ""
             }
            },
            "type": "scatter"
           }
          ],
          "scatter3d": [
           {
            "line": {
             "colorbar": {
              "outlinewidth": 0,
              "ticks": ""
             }
            },
            "marker": {
             "colorbar": {
              "outlinewidth": 0,
              "ticks": ""
             }
            },
            "type": "scatter3d"
           }
          ],
          "scattercarpet": [
           {
            "marker": {
             "colorbar": {
              "outlinewidth": 0,
              "ticks": ""
             }
            },
            "type": "scattercarpet"
           }
          ],
          "scattergeo": [
           {
            "marker": {
             "colorbar": {
              "outlinewidth": 0,
              "ticks": ""
             }
            },
            "type": "scattergeo"
           }
          ],
          "scattergl": [
           {
            "marker": {
             "colorbar": {
              "outlinewidth": 0,
              "ticks": ""
             }
            },
            "type": "scattergl"
           }
          ],
          "scattermapbox": [
           {
            "marker": {
             "colorbar": {
              "outlinewidth": 0,
              "ticks": ""
             }
            },
            "type": "scattermapbox"
           }
          ],
          "scatterpolar": [
           {
            "marker": {
             "colorbar": {
              "outlinewidth": 0,
              "ticks": ""
             }
            },
            "type": "scatterpolar"
           }
          ],
          "scatterpolargl": [
           {
            "marker": {
             "colorbar": {
              "outlinewidth": 0,
              "ticks": ""
             }
            },
            "type": "scatterpolargl"
           }
          ],
          "scatterternary": [
           {
            "marker": {
             "colorbar": {
              "outlinewidth": 0,
              "ticks": ""
             }
            },
            "type": "scatterternary"
           }
          ],
          "surface": [
           {
            "colorbar": {
             "outlinewidth": 0,
             "ticks": ""
            },
            "colorscale": [
             [
              0,
              "#0d0887"
             ],
             [
              0.1111111111111111,
              "#46039f"
             ],
             [
              0.2222222222222222,
              "#7201a8"
             ],
             [
              0.3333333333333333,
              "#9c179e"
             ],
             [
              0.4444444444444444,
              "#bd3786"
             ],
             [
              0.5555555555555556,
              "#d8576b"
             ],
             [
              0.6666666666666666,
              "#ed7953"
             ],
             [
              0.7777777777777778,
              "#fb9f3a"
             ],
             [
              0.8888888888888888,
              "#fdca26"
             ],
             [
              1,
              "#f0f921"
             ]
            ],
            "type": "surface"
           }
          ],
          "table": [
           {
            "cells": {
             "fill": {
              "color": "#EBF0F8"
             },
             "line": {
              "color": "white"
             }
            },
            "header": {
             "fill": {
              "color": "#C8D4E3"
             },
             "line": {
              "color": "white"
             }
            },
            "type": "table"
           }
          ]
         },
         "layout": {
          "annotationdefaults": {
           "arrowcolor": "#2a3f5f",
           "arrowhead": 0,
           "arrowwidth": 1
          },
          "coloraxis": {
           "colorbar": {
            "outlinewidth": 0,
            "ticks": ""
           }
          },
          "colorscale": {
           "diverging": [
            [
             0,
             "#8e0152"
            ],
            [
             0.1,
             "#c51b7d"
            ],
            [
             0.2,
             "#de77ae"
            ],
            [
             0.3,
             "#f1b6da"
            ],
            [
             0.4,
             "#fde0ef"
            ],
            [
             0.5,
             "#f7f7f7"
            ],
            [
             0.6,
             "#e6f5d0"
            ],
            [
             0.7,
             "#b8e186"
            ],
            [
             0.8,
             "#7fbc41"
            ],
            [
             0.9,
             "#4d9221"
            ],
            [
             1,
             "#276419"
            ]
           ],
           "sequential": [
            [
             0,
             "#0d0887"
            ],
            [
             0.1111111111111111,
             "#46039f"
            ],
            [
             0.2222222222222222,
             "#7201a8"
            ],
            [
             0.3333333333333333,
             "#9c179e"
            ],
            [
             0.4444444444444444,
             "#bd3786"
            ],
            [
             0.5555555555555556,
             "#d8576b"
            ],
            [
             0.6666666666666666,
             "#ed7953"
            ],
            [
             0.7777777777777778,
             "#fb9f3a"
            ],
            [
             0.8888888888888888,
             "#fdca26"
            ],
            [
             1,
             "#f0f921"
            ]
           ],
           "sequentialminus": [
            [
             0,
             "#0d0887"
            ],
            [
             0.1111111111111111,
             "#46039f"
            ],
            [
             0.2222222222222222,
             "#7201a8"
            ],
            [
             0.3333333333333333,
             "#9c179e"
            ],
            [
             0.4444444444444444,
             "#bd3786"
            ],
            [
             0.5555555555555556,
             "#d8576b"
            ],
            [
             0.6666666666666666,
             "#ed7953"
            ],
            [
             0.7777777777777778,
             "#fb9f3a"
            ],
            [
             0.8888888888888888,
             "#fdca26"
            ],
            [
             1,
             "#f0f921"
            ]
           ]
          },
          "colorway": [
           "#636efa",
           "#EF553B",
           "#00cc96",
           "#ab63fa",
           "#FFA15A",
           "#19d3f3",
           "#FF6692",
           "#B6E880",
           "#FF97FF",
           "#FECB52"
          ],
          "font": {
           "color": "#2a3f5f"
          },
          "geo": {
           "bgcolor": "white",
           "lakecolor": "white",
           "landcolor": "#E5ECF6",
           "showlakes": true,
           "showland": true,
           "subunitcolor": "white"
          },
          "hoverlabel": {
           "align": "left"
          },
          "hovermode": "closest",
          "mapbox": {
           "style": "light"
          },
          "paper_bgcolor": "white",
          "plot_bgcolor": "#E5ECF6",
          "polar": {
           "angularaxis": {
            "gridcolor": "white",
            "linecolor": "white",
            "ticks": ""
           },
           "bgcolor": "#E5ECF6",
           "radialaxis": {
            "gridcolor": "white",
            "linecolor": "white",
            "ticks": ""
           }
          },
          "scene": {
           "xaxis": {
            "backgroundcolor": "#E5ECF6",
            "gridcolor": "white",
            "gridwidth": 2,
            "linecolor": "white",
            "showbackground": true,
            "ticks": "",
            "zerolinecolor": "white"
           },
           "yaxis": {
            "backgroundcolor": "#E5ECF6",
            "gridcolor": "white",
            "gridwidth": 2,
            "linecolor": "white",
            "showbackground": true,
            "ticks": "",
            "zerolinecolor": "white"
           },
           "zaxis": {
            "backgroundcolor": "#E5ECF6",
            "gridcolor": "white",
            "gridwidth": 2,
            "linecolor": "white",
            "showbackground": true,
            "ticks": "",
            "zerolinecolor": "white"
           }
          },
          "shapedefaults": {
           "line": {
            "color": "#2a3f5f"
           }
          },
          "ternary": {
           "aaxis": {
            "gridcolor": "white",
            "linecolor": "white",
            "ticks": ""
           },
           "baxis": {
            "gridcolor": "white",
            "linecolor": "white",
            "ticks": ""
           },
           "bgcolor": "#E5ECF6",
           "caxis": {
            "gridcolor": "white",
            "linecolor": "white",
            "ticks": ""
           }
          },
          "title": {
           "x": 0.05
          },
          "xaxis": {
           "automargin": true,
           "gridcolor": "white",
           "linecolor": "white",
           "ticks": "",
           "title": {
            "standoff": 15
           },
           "zerolinecolor": "white",
           "zerolinewidth": 2
          },
          "yaxis": {
           "automargin": true,
           "gridcolor": "white",
           "linecolor": "white",
           "ticks": "",
           "title": {
            "standoff": 15
           },
           "zerolinecolor": "white",
           "zerolinewidth": 2
          }
         }
        },
        "title": {
         "text": "<b>Total Cases and Total Recovered of Covid_19 in Greece (139 days)</b>"
        },
        "xaxis": {
         "anchor": "y",
         "domain": [
          0,
          1
         ],
         "title": {
          "text": "Dates"
         }
        },
        "yaxis": {
         "anchor": "x",
         "domain": [
          0,
          1
         ],
         "title": {
          "text": "Number of Total Recovered"
         }
        }
       }
      },
      "text/html": [
       "<div>\n",
       "        \n",
       "        \n",
       "            <div id=\"f987fe2d-ac88-410d-8fda-3c663ebfe41b\" class=\"plotly-graph-div\" style=\"height:525px; width:100%;\"></div>\n",
       "            <script type=\"text/javascript\">\n",
       "                require([\"plotly\"], function(Plotly) {\n",
       "                    window.PLOTLYENV=window.PLOTLYENV || {};\n",
       "                    \n",
       "                if (document.getElementById(\"f987fe2d-ac88-410d-8fda-3c663ebfe41b\")) {\n",
       "                    Plotly.newPlot(\n",
       "                        'f987fe2d-ac88-410d-8fda-3c663ebfe41b',\n",
       "                        [{\"name\": \"Total Recovered\", \"type\": \"bar\", \"x\": [\"26/02\", \"27/02\", \"28/02\", \"29/02\", \"01/03\", \"02/03\", \"03/03\", \"04/03\", \"05/03\", \"06/03\", \"07/03\", \"08/03\", \"09/03\", \"10/03\", \"11/03\", \"12/03\", \"13/03\", \"14/03\", \"15/03\", \"16/03\", \"17/03\", \"18/03\", \"19/03\", \"20/03\", \"21/03\", \"22/03\", \"23/03\", \"24/03\", \"25/03\", \"26/03\", \"27/03\", \"28/03\", \"29/03\", \"30/03\", \"31/03\", \"01/04\", \"02/04\", \"03/04\", \"04/04\", \"05/04\", \"06/04\", \"07/04\", \"08/04\", \"09/04\", \"10/04\", \"11/04\", \"12/04\", \"13/04\", \"14/04\", \"15/04\", \"16/04\", \"17/04\", \"18/04\", \"19/04\", \"20/04\", \"21/04\", \"22/04\", \"23/04\", \"24/04\", \"25/04\", \"26/04\", \"27/04\", \"28/04\", \"29/04\", \"30/04\", \"01/05\", \"02/05\", \"03/05\", \"04/05\", \"05/05\", \"06/05\", \"07/05\", \"08/05\", \"09/05\", \"10/05\", \"11/05\", \"12/05\", \"13/05\", \"14/05\", \"15/05\", \"16/05\", \"17/05\", \"18/05\", \"19/05\", \"20/05\", \"21/05\", \"22/05\", \"23/05\", \"24/05\", \"25/05\", \"26/05\", \"27/05\", \"28/05\", \"29/05\", \"30/05\", \"31/05\", \"01/06\", \"02/06\", \"03/06\", \"04/06\", \"05/06\", \"06/06\", \"07/06\", \"08/06\", \"09/06\", \"10/06\", \"11/06\", \"12/06\", \"13/06\", \"14/06\", \"15/06\", \"16/06\", \"17/06\", \"18/06\", \"19/06\", \"20/06\", \"21/06\", \"22/06\", \"23/06\", \"24/06\", \"25/06\", \"26/06\", \"27/06\", \"28/06\", \"29/06\", \"30/06\", \"01/07\", \"02/07\", \"03/07\", \"04/07\", \"05/07\", \"06/07\", \"07/07\", \"08/07\", \"09/07\", \"10/07\", \"11/07\", \"12/07\", \"13/07\"], \"y\": [0, 0, 0, 0, 0, 0, 0, 0, 0, 0, 0, 0, 0, 0, 0, 2, 2, 8, 10, 10, 14, 14, 19, 19, 19, 19, 29, 32, 36, 42, 52, 52, 53, 53, 53, 53, 53, 53, 53, 53, 269, 269, 269, 269, 269, 269, 269, 269, 269, 269, 269, 269, 269, 269, 269, 269, 269, 269, 269, 269, 269, 269, 269, 269, 1374, 1374, 1374, 1374, 1374, 1374, 1374, 1374, 1374, 1374, 1374, 1374, 1374, 1374, 1374, 1374, 1374, 1374, 1374, 1374, 1374, 1374, 1374, 1374, 1374, 1374, 1374, 1374, 1374, 1374, 1374, 1374, 1374, 1374, 1374, 1374, 1374, 1374, 1374, 1374, 1374, 1374, 1374, 1374, 1374, 1374, 1374, 1374, 1374, 1374, 1374, 1374, 1374, 1374, 1374, 1374, 1374, 1374, 1374, 1374, 1374, 1374, 1374, 1374, 1374, 1374, 1374, 1374, 1374, 1374, 1374, 1374, 1374, 1374, 1374]}, {\"name\": \"Total Cases\", \"opacity\": 0.7, \"type\": \"bar\", \"x\": [\"26/02\", \"27/02\", \"28/02\", \"29/02\", \"01/03\", \"02/03\", \"03/03\", \"04/03\", \"05/03\", \"06/03\", \"07/03\", \"08/03\", \"09/03\", \"10/03\", \"11/03\", \"12/03\", \"13/03\", \"14/03\", \"15/03\", \"16/03\", \"17/03\", \"18/03\", \"19/03\", \"20/03\", \"21/03\", \"22/03\", \"23/03\", \"24/03\", \"25/03\", \"26/03\", \"27/03\", \"28/03\", \"29/03\", \"30/03\", \"31/03\", \"01/04\", \"02/04\", \"03/04\", \"04/04\", \"05/04\", \"06/04\", \"07/04\", \"08/04\", \"09/04\", \"10/04\", \"11/04\", \"12/04\", \"13/04\", \"14/04\", \"15/04\", \"16/04\", \"17/04\", \"18/04\", \"19/04\", \"20/04\", \"21/04\", \"22/04\", \"23/04\", \"24/04\", \"25/04\", \"26/04\", \"27/04\", \"28/04\", \"29/04\", \"30/04\", \"01/05\", \"02/05\", \"03/05\", \"04/05\", \"05/05\", \"06/05\", \"07/05\", \"08/05\", \"09/05\", \"10/05\", \"11/05\", \"12/05\", \"13/05\", \"14/05\", \"15/05\", \"16/05\", \"17/05\", \"18/05\", \"19/05\", \"20/05\", \"21/05\", \"22/05\", \"23/05\", \"24/05\", \"25/05\", \"26/05\", \"27/05\", \"28/05\", \"29/05\", \"30/05\", \"31/05\", \"01/06\", \"02/06\", \"03/06\", \"04/06\", \"05/06\", \"06/06\", \"07/06\", \"08/06\", \"09/06\", \"10/06\", \"11/06\", \"12/06\", \"13/06\", \"14/06\", \"15/06\", \"16/06\", \"17/06\", \"18/06\", \"19/06\", \"20/06\", \"21/06\", \"22/06\", \"23/06\", \"24/06\", \"25/06\", \"26/06\", \"27/06\", \"28/06\", \"29/06\", \"30/06\", \"01/07\", \"02/07\", \"03/07\", \"04/07\", \"05/07\", \"06/07\", \"07/07\", \"08/07\", \"09/07\", \"10/07\", \"11/07\", \"12/07\", \"13/07\"], \"y\": [1, 3, 4, 7, 7, 7, 7, 9, 31, 45, 66, 73, 84, 89, 99, 117, 190, 228, 331, 352, 387, 418, 464, 495, 530, 624, 695, 743, 821, 892, 966, 1061, 1156, 1212, 1314, 1415, 1544, 1613, 1673, 1735, 1755, 1832, 1884, 1955, 2009, 2081, 2114, 2145, 2170, 2192, 2207, 2224, 2235, 2235, 2245, 2401, 2408, 2463, 2490, 2506, 2517, 2534, 2566, 2576, 2591, 2612, 2620, 2626, 2632, 2642, 2663, 2678, 2691, 2710, 2716, 2726, 2744, 2760, 2770, 2810, 2819, 2834, 2836, 2840, 2850, 2853, 2873, 2876, 2878, 2882, 2889, 2903, 2906, 2909, 2915, 2917, 2918, 2937, 2937, 2952, 2967, 2980, 2997, 3049, 3058, 3068, 3088, 3108, 3112, 3121, 3134, 3148, 3203, 3227, 3237, 3256, 3266, 3287, 3302, 3310, 3321, 3343, 3366, 3376, 3390, 3409, 3432, 3458, 3486, 3511, 3519, 3562, 3589, 3622, 3672, 3732, 3772, 3803, 3826]}],\n",
       "                        {\"hovermode\": \"x unified\", \"template\": {\"data\": {\"bar\": [{\"error_x\": {\"color\": \"#2a3f5f\"}, \"error_y\": {\"color\": \"#2a3f5f\"}, \"marker\": {\"line\": {\"color\": \"#E5ECF6\", \"width\": 0.5}}, \"type\": \"bar\"}], \"barpolar\": [{\"marker\": {\"line\": {\"color\": \"#E5ECF6\", \"width\": 0.5}}, \"type\": \"barpolar\"}], \"carpet\": [{\"aaxis\": {\"endlinecolor\": \"#2a3f5f\", \"gridcolor\": \"white\", \"linecolor\": \"white\", \"minorgridcolor\": \"white\", \"startlinecolor\": \"#2a3f5f\"}, \"baxis\": {\"endlinecolor\": \"#2a3f5f\", \"gridcolor\": \"white\", \"linecolor\": \"white\", \"minorgridcolor\": \"white\", \"startlinecolor\": \"#2a3f5f\"}, \"type\": \"carpet\"}], \"choropleth\": [{\"colorbar\": {\"outlinewidth\": 0, \"ticks\": \"\"}, \"type\": \"choropleth\"}], \"contour\": [{\"colorbar\": {\"outlinewidth\": 0, \"ticks\": \"\"}, \"colorscale\": [[0.0, \"#0d0887\"], [0.1111111111111111, \"#46039f\"], [0.2222222222222222, \"#7201a8\"], [0.3333333333333333, \"#9c179e\"], [0.4444444444444444, \"#bd3786\"], [0.5555555555555556, \"#d8576b\"], [0.6666666666666666, \"#ed7953\"], [0.7777777777777778, \"#fb9f3a\"], [0.8888888888888888, \"#fdca26\"], [1.0, \"#f0f921\"]], \"type\": \"contour\"}], \"contourcarpet\": [{\"colorbar\": {\"outlinewidth\": 0, \"ticks\": \"\"}, \"type\": \"contourcarpet\"}], \"heatmap\": [{\"colorbar\": {\"outlinewidth\": 0, \"ticks\": \"\"}, \"colorscale\": [[0.0, \"#0d0887\"], [0.1111111111111111, \"#46039f\"], [0.2222222222222222, \"#7201a8\"], [0.3333333333333333, \"#9c179e\"], [0.4444444444444444, \"#bd3786\"], [0.5555555555555556, \"#d8576b\"], [0.6666666666666666, \"#ed7953\"], [0.7777777777777778, \"#fb9f3a\"], [0.8888888888888888, \"#fdca26\"], [1.0, \"#f0f921\"]], \"type\": \"heatmap\"}], \"heatmapgl\": [{\"colorbar\": {\"outlinewidth\": 0, \"ticks\": \"\"}, \"colorscale\": [[0.0, \"#0d0887\"], [0.1111111111111111, \"#46039f\"], [0.2222222222222222, \"#7201a8\"], [0.3333333333333333, \"#9c179e\"], [0.4444444444444444, \"#bd3786\"], [0.5555555555555556, \"#d8576b\"], [0.6666666666666666, \"#ed7953\"], [0.7777777777777778, \"#fb9f3a\"], [0.8888888888888888, \"#fdca26\"], [1.0, \"#f0f921\"]], \"type\": \"heatmapgl\"}], \"histogram\": [{\"marker\": {\"colorbar\": {\"outlinewidth\": 0, \"ticks\": \"\"}}, \"type\": \"histogram\"}], \"histogram2d\": [{\"colorbar\": {\"outlinewidth\": 0, \"ticks\": \"\"}, \"colorscale\": [[0.0, \"#0d0887\"], [0.1111111111111111, \"#46039f\"], [0.2222222222222222, \"#7201a8\"], [0.3333333333333333, \"#9c179e\"], [0.4444444444444444, \"#bd3786\"], [0.5555555555555556, \"#d8576b\"], [0.6666666666666666, \"#ed7953\"], [0.7777777777777778, \"#fb9f3a\"], [0.8888888888888888, \"#fdca26\"], [1.0, \"#f0f921\"]], \"type\": \"histogram2d\"}], \"histogram2dcontour\": [{\"colorbar\": {\"outlinewidth\": 0, \"ticks\": \"\"}, \"colorscale\": [[0.0, \"#0d0887\"], [0.1111111111111111, \"#46039f\"], [0.2222222222222222, \"#7201a8\"], [0.3333333333333333, \"#9c179e\"], [0.4444444444444444, \"#bd3786\"], [0.5555555555555556, \"#d8576b\"], [0.6666666666666666, \"#ed7953\"], [0.7777777777777778, \"#fb9f3a\"], [0.8888888888888888, \"#fdca26\"], [1.0, \"#f0f921\"]], \"type\": \"histogram2dcontour\"}], \"mesh3d\": [{\"colorbar\": {\"outlinewidth\": 0, \"ticks\": \"\"}, \"type\": \"mesh3d\"}], \"parcoords\": [{\"line\": {\"colorbar\": {\"outlinewidth\": 0, \"ticks\": \"\"}}, \"type\": \"parcoords\"}], \"pie\": [{\"automargin\": true, \"type\": \"pie\"}], \"scatter\": [{\"marker\": {\"colorbar\": {\"outlinewidth\": 0, \"ticks\": \"\"}}, \"type\": \"scatter\"}], \"scatter3d\": [{\"line\": {\"colorbar\": {\"outlinewidth\": 0, \"ticks\": \"\"}}, \"marker\": {\"colorbar\": {\"outlinewidth\": 0, \"ticks\": \"\"}}, \"type\": \"scatter3d\"}], \"scattercarpet\": [{\"marker\": {\"colorbar\": {\"outlinewidth\": 0, \"ticks\": \"\"}}, \"type\": \"scattercarpet\"}], \"scattergeo\": [{\"marker\": {\"colorbar\": {\"outlinewidth\": 0, \"ticks\": \"\"}}, \"type\": \"scattergeo\"}], \"scattergl\": [{\"marker\": {\"colorbar\": {\"outlinewidth\": 0, \"ticks\": \"\"}}, \"type\": \"scattergl\"}], \"scattermapbox\": [{\"marker\": {\"colorbar\": {\"outlinewidth\": 0, \"ticks\": \"\"}}, \"type\": \"scattermapbox\"}], \"scatterpolar\": [{\"marker\": {\"colorbar\": {\"outlinewidth\": 0, \"ticks\": \"\"}}, \"type\": \"scatterpolar\"}], \"scatterpolargl\": [{\"marker\": {\"colorbar\": {\"outlinewidth\": 0, \"ticks\": \"\"}}, \"type\": \"scatterpolargl\"}], \"scatterternary\": [{\"marker\": {\"colorbar\": {\"outlinewidth\": 0, \"ticks\": \"\"}}, \"type\": \"scatterternary\"}], \"surface\": [{\"colorbar\": {\"outlinewidth\": 0, \"ticks\": \"\"}, \"colorscale\": [[0.0, \"#0d0887\"], [0.1111111111111111, \"#46039f\"], [0.2222222222222222, \"#7201a8\"], [0.3333333333333333, \"#9c179e\"], [0.4444444444444444, \"#bd3786\"], [0.5555555555555556, \"#d8576b\"], [0.6666666666666666, \"#ed7953\"], [0.7777777777777778, \"#fb9f3a\"], [0.8888888888888888, \"#fdca26\"], [1.0, \"#f0f921\"]], \"type\": \"surface\"}], \"table\": [{\"cells\": {\"fill\": {\"color\": \"#EBF0F8\"}, \"line\": {\"color\": \"white\"}}, \"header\": {\"fill\": {\"color\": \"#C8D4E3\"}, \"line\": {\"color\": \"white\"}}, \"type\": \"table\"}]}, \"layout\": {\"annotationdefaults\": {\"arrowcolor\": \"#2a3f5f\", \"arrowhead\": 0, \"arrowwidth\": 1}, \"coloraxis\": {\"colorbar\": {\"outlinewidth\": 0, \"ticks\": \"\"}}, \"colorscale\": {\"diverging\": [[0, \"#8e0152\"], [0.1, \"#c51b7d\"], [0.2, \"#de77ae\"], [0.3, \"#f1b6da\"], [0.4, \"#fde0ef\"], [0.5, \"#f7f7f7\"], [0.6, \"#e6f5d0\"], [0.7, \"#b8e186\"], [0.8, \"#7fbc41\"], [0.9, \"#4d9221\"], [1, \"#276419\"]], \"sequential\": [[0.0, \"#0d0887\"], [0.1111111111111111, \"#46039f\"], [0.2222222222222222, \"#7201a8\"], [0.3333333333333333, \"#9c179e\"], [0.4444444444444444, \"#bd3786\"], [0.5555555555555556, \"#d8576b\"], [0.6666666666666666, \"#ed7953\"], [0.7777777777777778, \"#fb9f3a\"], [0.8888888888888888, \"#fdca26\"], [1.0, \"#f0f921\"]], \"sequentialminus\": [[0.0, \"#0d0887\"], [0.1111111111111111, \"#46039f\"], [0.2222222222222222, \"#7201a8\"], [0.3333333333333333, \"#9c179e\"], [0.4444444444444444, \"#bd3786\"], [0.5555555555555556, \"#d8576b\"], [0.6666666666666666, \"#ed7953\"], [0.7777777777777778, \"#fb9f3a\"], [0.8888888888888888, \"#fdca26\"], [1.0, \"#f0f921\"]]}, \"colorway\": [\"#636efa\", \"#EF553B\", \"#00cc96\", \"#ab63fa\", \"#FFA15A\", \"#19d3f3\", \"#FF6692\", \"#B6E880\", \"#FF97FF\", \"#FECB52\"], \"font\": {\"color\": \"#2a3f5f\"}, \"geo\": {\"bgcolor\": \"white\", \"lakecolor\": \"white\", \"landcolor\": \"#E5ECF6\", \"showlakes\": true, \"showland\": true, \"subunitcolor\": \"white\"}, \"hoverlabel\": {\"align\": \"left\"}, \"hovermode\": \"closest\", \"mapbox\": {\"style\": \"light\"}, \"paper_bgcolor\": \"white\", \"plot_bgcolor\": \"#E5ECF6\", \"polar\": {\"angularaxis\": {\"gridcolor\": \"white\", \"linecolor\": \"white\", \"ticks\": \"\"}, \"bgcolor\": \"#E5ECF6\", \"radialaxis\": {\"gridcolor\": \"white\", \"linecolor\": \"white\", \"ticks\": \"\"}}, \"scene\": {\"xaxis\": {\"backgroundcolor\": \"#E5ECF6\", \"gridcolor\": \"white\", \"gridwidth\": 2, \"linecolor\": \"white\", \"showbackground\": true, \"ticks\": \"\", \"zerolinecolor\": \"white\"}, \"yaxis\": {\"backgroundcolor\": \"#E5ECF6\", \"gridcolor\": \"white\", \"gridwidth\": 2, \"linecolor\": \"white\", \"showbackground\": true, \"ticks\": \"\", \"zerolinecolor\": \"white\"}, \"zaxis\": {\"backgroundcolor\": \"#E5ECF6\", \"gridcolor\": \"white\", \"gridwidth\": 2, \"linecolor\": \"white\", \"showbackground\": true, \"ticks\": \"\", \"zerolinecolor\": \"white\"}}, \"shapedefaults\": {\"line\": {\"color\": \"#2a3f5f\"}}, \"ternary\": {\"aaxis\": {\"gridcolor\": \"white\", \"linecolor\": \"white\", \"ticks\": \"\"}, \"baxis\": {\"gridcolor\": \"white\", \"linecolor\": \"white\", \"ticks\": \"\"}, \"bgcolor\": \"#E5ECF6\", \"caxis\": {\"gridcolor\": \"white\", \"linecolor\": \"white\", \"ticks\": \"\"}}, \"title\": {\"x\": 0.05}, \"xaxis\": {\"automargin\": true, \"gridcolor\": \"white\", \"linecolor\": \"white\", \"ticks\": \"\", \"title\": {\"standoff\": 15}, \"zerolinecolor\": \"white\", \"zerolinewidth\": 2}, \"yaxis\": {\"automargin\": true, \"gridcolor\": \"white\", \"linecolor\": \"white\", \"ticks\": \"\", \"title\": {\"standoff\": 15}, \"zerolinecolor\": \"white\", \"zerolinewidth\": 2}}}, \"title\": {\"text\": \"<b>Total Cases and Total Recovered of Covid_19 in Greece (139 days)</b>\"}, \"xaxis\": {\"anchor\": \"y\", \"domain\": [0.0, 1.0], \"title\": {\"text\": \"Dates\"}}, \"yaxis\": {\"anchor\": \"x\", \"domain\": [0.0, 1.0], \"title\": {\"text\": \"Number of Total Recovered\"}}},\n",
       "                        {\"responsive\": true}\n",
       "                    ).then(function(){\n",
       "                            \n",
       "var gd = document.getElementById('f987fe2d-ac88-410d-8fda-3c663ebfe41b');\n",
       "var x = new MutationObserver(function (mutations, observer) {{\n",
       "        var display = window.getComputedStyle(gd).display;\n",
       "        if (!display || display === 'none') {{\n",
       "            console.log([gd, 'removed!']);\n",
       "            Plotly.purge(gd);\n",
       "            observer.disconnect();\n",
       "        }}\n",
       "}});\n",
       "\n",
       "// Listen for the removal of the full notebook cells\n",
       "var notebookContainer = gd.closest('#notebook-container');\n",
       "if (notebookContainer) {{\n",
       "    x.observe(notebookContainer, {childList: true});\n",
       "}}\n",
       "\n",
       "// Listen for the clearing of the current output cell\n",
       "var outputEl = gd.closest('.output');\n",
       "if (outputEl) {{\n",
       "    x.observe(outputEl, {childList: true});\n",
       "}}\n",
       "\n",
       "                        })\n",
       "                };\n",
       "                });\n",
       "            </script>\n",
       "        </div>"
      ]
     },
     "metadata": {},
     "output_type": "display_data"
    }
   ],
   "source": [
    "# Figure with secondary y-axis\n",
    "fig = make_subplots(specs=[[{\"secondary_y\": False}]])\n",
    "\n",
    "# Traces - Bars and line\n",
    "fig.add_trace(\n",
    "    go.Bar(x=df.index, y=df['Total Recovered'], name='Total Recovered'),\n",
    ")\n",
    "\n",
    "fig.add_trace(\n",
    "    go.Bar(x=df.index, y=df['Total Cases'], name='Total Cases', opacity=0.7),\n",
    ")\n",
    "\n",
    "# Figure Title\n",
    "fig.update_layout(\n",
    "    title_text='<b>Total Cases and Total Recovered of Covid_19 in Greece ('+str(len(df['Total Cases']))+' days)</b>'\n",
    ")\n",
    "\n",
    "# x-axis and y-axes titles\n",
    "fig.update_xaxes(title_text='Dates')\n",
    "fig.update_yaxes(title_text='Number of Total Cases')\n",
    "fig.update_yaxes(title_text='Number of Total Recovered')\n",
    "\n",
    "fig.update_layout(hovermode='x unified')\n",
    "\n",
    "fig.show()"
   ]
  },
  {
   "cell_type": "markdown",
   "metadata": {},
   "source": [
    "## Total and Active number of Cases"
   ]
  },
  {
   "cell_type": "code",
   "execution_count": 15,
   "metadata": {},
   "outputs": [
    {
     "data": {
      "application/vnd.plotly.v1+json": {
       "config": {
        "linkText": "Export to plot.ly",
        "plotlyServerURL": "https://plot.ly",
        "showLink": true
       },
       "data": [
        {
         "line": {
          "color": "rgba(255, 153, 51, 1.0)",
          "dash": "solid",
          "shape": "linear",
          "width": 1.3
         },
         "marker": {
          "size": 7,
          "symbol": "circle"
         },
         "mode": "lines+markers",
         "name": "Total Cases",
         "text": "",
         "type": "scatter",
         "x": [
          "26/02",
          "27/02",
          "28/02",
          "29/02",
          "01/03",
          "02/03",
          "03/03",
          "04/03",
          "05/03",
          "06/03",
          "07/03",
          "08/03",
          "09/03",
          "10/03",
          "11/03",
          "12/03",
          "13/03",
          "14/03",
          "15/03",
          "16/03",
          "17/03",
          "18/03",
          "19/03",
          "20/03",
          "21/03",
          "22/03",
          "23/03",
          "24/03",
          "25/03",
          "26/03",
          "27/03",
          "28/03",
          "29/03",
          "30/03",
          "31/03",
          "01/04",
          "02/04",
          "03/04",
          "04/04",
          "05/04",
          "06/04",
          "07/04",
          "08/04",
          "09/04",
          "10/04",
          "11/04",
          "12/04",
          "13/04",
          "14/04",
          "15/04",
          "16/04",
          "17/04",
          "18/04",
          "19/04",
          "20/04",
          "21/04",
          "22/04",
          "23/04",
          "24/04",
          "25/04",
          "26/04",
          "27/04",
          "28/04",
          "29/04",
          "30/04",
          "01/05",
          "02/05",
          "03/05",
          "04/05",
          "05/05",
          "06/05",
          "07/05",
          "08/05",
          "09/05",
          "10/05",
          "11/05",
          "12/05",
          "13/05",
          "14/05",
          "15/05",
          "16/05",
          "17/05",
          "18/05",
          "19/05",
          "20/05",
          "21/05",
          "22/05",
          "23/05",
          "24/05",
          "25/05",
          "26/05",
          "27/05",
          "28/05",
          "29/05",
          "30/05",
          "31/05",
          "01/06",
          "02/06",
          "03/06",
          "04/06",
          "05/06",
          "06/06",
          "07/06",
          "08/06",
          "09/06",
          "10/06",
          "11/06",
          "12/06",
          "13/06",
          "14/06",
          "15/06",
          "16/06",
          "17/06",
          "18/06",
          "19/06",
          "20/06",
          "21/06",
          "22/06",
          "23/06",
          "24/06",
          "25/06",
          "26/06",
          "27/06",
          "28/06",
          "29/06",
          "30/06",
          "01/07",
          "02/07",
          "03/07",
          "04/07",
          "05/07",
          "06/07",
          "07/07",
          "08/07",
          "09/07",
          "10/07",
          "11/07",
          "12/07",
          "13/07"
         ],
         "y": [
          1,
          3,
          4,
          7,
          7,
          7,
          7,
          9,
          31,
          45,
          66,
          73,
          84,
          89,
          99,
          117,
          190,
          228,
          331,
          352,
          387,
          418,
          464,
          495,
          530,
          624,
          695,
          743,
          821,
          892,
          966,
          1061,
          1156,
          1212,
          1314,
          1415,
          1544,
          1613,
          1673,
          1735,
          1755,
          1832,
          1884,
          1955,
          2009,
          2081,
          2114,
          2145,
          2170,
          2192,
          2207,
          2224,
          2235,
          2235,
          2245,
          2401,
          2408,
          2463,
          2490,
          2506,
          2517,
          2534,
          2566,
          2576,
          2591,
          2612,
          2620,
          2626,
          2632,
          2642,
          2663,
          2678,
          2691,
          2710,
          2716,
          2726,
          2744,
          2760,
          2770,
          2810,
          2819,
          2834,
          2836,
          2840,
          2850,
          2853,
          2873,
          2876,
          2878,
          2882,
          2889,
          2903,
          2906,
          2909,
          2915,
          2917,
          2918,
          2937,
          2937,
          2952,
          2967,
          2980,
          2997,
          3049,
          3058,
          3068,
          3088,
          3108,
          3112,
          3121,
          3134,
          3148,
          3203,
          3227,
          3237,
          3256,
          3266,
          3287,
          3302,
          3310,
          3321,
          3343,
          3366,
          3376,
          3390,
          3409,
          3432,
          3458,
          3486,
          3511,
          3519,
          3562,
          3589,
          3622,
          3672,
          3732,
          3772,
          3803,
          3826
         ]
        },
        {
         "line": {
          "color": "rgba(55, 128, 191, 1.0)",
          "dash": "solid",
          "shape": "linear",
          "width": 1.3
         },
         "marker": {
          "size": 7,
          "symbol": "circle"
         },
         "mode": "lines+markers",
         "name": "Active Cases",
         "text": "",
         "type": "scatter",
         "x": [
          "26/02",
          "27/02",
          "28/02",
          "29/02",
          "01/03",
          "02/03",
          "03/03",
          "04/03",
          "05/03",
          "06/03",
          "07/03",
          "08/03",
          "09/03",
          "10/03",
          "11/03",
          "12/03",
          "13/03",
          "14/03",
          "15/03",
          "16/03",
          "17/03",
          "18/03",
          "19/03",
          "20/03",
          "21/03",
          "22/03",
          "23/03",
          "24/03",
          "25/03",
          "26/03",
          "27/03",
          "28/03",
          "29/03",
          "30/03",
          "31/03",
          "01/04",
          "02/04",
          "03/04",
          "04/04",
          "05/04",
          "06/04",
          "07/04",
          "08/04",
          "09/04",
          "10/04",
          "11/04",
          "12/04",
          "13/04",
          "14/04",
          "15/04",
          "16/04",
          "17/04",
          "18/04",
          "19/04",
          "20/04",
          "21/04",
          "22/04",
          "23/04",
          "24/04",
          "25/04",
          "26/04",
          "27/04",
          "28/04",
          "29/04",
          "30/04",
          "01/05",
          "02/05",
          "03/05",
          "04/05",
          "05/05",
          "06/05",
          "07/05",
          "08/05",
          "09/05",
          "10/05",
          "11/05",
          "12/05",
          "13/05",
          "14/05",
          "15/05",
          "16/05",
          "17/05",
          "18/05",
          "19/05",
          "20/05",
          "21/05",
          "22/05",
          "23/05",
          "24/05",
          "25/05",
          "26/05",
          "27/05",
          "28/05",
          "29/05",
          "30/05",
          "31/05",
          "01/06",
          "02/06",
          "03/06",
          "04/06",
          "05/06",
          "06/06",
          "07/06",
          "08/06",
          "09/06",
          "10/06",
          "11/06",
          "12/06",
          "13/06",
          "14/06",
          "15/06",
          "16/06",
          "17/06",
          "18/06",
          "19/06",
          "20/06",
          "21/06",
          "22/06",
          "23/06",
          "24/06",
          "25/06",
          "26/06",
          "27/06",
          "28/06",
          "29/06",
          "30/06",
          "01/07",
          "02/07",
          "03/07",
          "04/07",
          "05/07",
          "06/07",
          "07/07",
          "08/07",
          "09/07",
          "10/07",
          "11/07",
          "12/07",
          "13/07"
         ],
         "y": [
          1,
          3,
          4,
          4,
          7,
          7,
          7,
          9,
          31,
          45,
          46,
          73,
          73,
          89,
          98,
          98,
          189,
          217,
          319,
          319,
          374,
          405,
          404,
          470,
          498,
          590,
          649,
          694,
          763,
          830,
          886,
          977,
          1066,
          1117,
          1213,
          1313,
          1430,
          1472,
          1527,
          1584,
          1407,
          1482,
          1532,
          1599,
          1650,
          1719,
          1747,
          1777,
          1800,
          1821,
          1833,
          1847,
          1856,
          1853,
          1860,
          1703,
          1710,
          1761,
          1783,
          1799,
          1806,
          1821,
          1851,
          1860,
          1077,
          1098,
          1103,
          1108,
          1112,
          1122,
          1142,
          1156,
          1167,
          1185,
          1191,
          1201,
          1218,
          1231,
          1240,
          1276,
          1283,
          1297,
          1297,
          1301,
          1310,
          1311,
          1331,
          1331,
          1333,
          1336,
          1345,
          1356,
          1357,
          1360,
          1366,
          1368,
          1365,
          1384,
          1384,
          1398,
          1413,
          1426,
          1443,
          1493,
          1501,
          1511,
          1531,
          1551,
          1555,
          1564,
          1576,
          1589,
          1642,
          1665,
          1674,
          1692,
          1702,
          1723,
          1738,
          1746,
          1756,
          1778,
          1801,
          1811,
          1825,
          1843,
          1866,
          1892,
          1920,
          1945,
          1953,
          1996,
          2022,
          2055,
          2105,
          2165,
          2205,
          2236,
          2259
         ]
        }
       ],
       "layout": {
        "legend": {
         "bgcolor": "#F5F6F9",
         "font": {
          "color": "#4D5663"
         }
        },
        "paper_bgcolor": "#F5F6F9",
        "plot_bgcolor": "#F5F6F9",
        "template": {
         "data": {
          "bar": [
           {
            "error_x": {
             "color": "#2a3f5f"
            },
            "error_y": {
             "color": "#2a3f5f"
            },
            "marker": {
             "line": {
              "color": "#E5ECF6",
              "width": 0.5
             }
            },
            "type": "bar"
           }
          ],
          "barpolar": [
           {
            "marker": {
             "line": {
              "color": "#E5ECF6",
              "width": 0.5
             }
            },
            "type": "barpolar"
           }
          ],
          "carpet": [
           {
            "aaxis": {
             "endlinecolor": "#2a3f5f",
             "gridcolor": "white",
             "linecolor": "white",
             "minorgridcolor": "white",
             "startlinecolor": "#2a3f5f"
            },
            "baxis": {
             "endlinecolor": "#2a3f5f",
             "gridcolor": "white",
             "linecolor": "white",
             "minorgridcolor": "white",
             "startlinecolor": "#2a3f5f"
            },
            "type": "carpet"
           }
          ],
          "choropleth": [
           {
            "colorbar": {
             "outlinewidth": 0,
             "ticks": ""
            },
            "type": "choropleth"
           }
          ],
          "contour": [
           {
            "colorbar": {
             "outlinewidth": 0,
             "ticks": ""
            },
            "colorscale": [
             [
              0,
              "#0d0887"
             ],
             [
              0.1111111111111111,
              "#46039f"
             ],
             [
              0.2222222222222222,
              "#7201a8"
             ],
             [
              0.3333333333333333,
              "#9c179e"
             ],
             [
              0.4444444444444444,
              "#bd3786"
             ],
             [
              0.5555555555555556,
              "#d8576b"
             ],
             [
              0.6666666666666666,
              "#ed7953"
             ],
             [
              0.7777777777777778,
              "#fb9f3a"
             ],
             [
              0.8888888888888888,
              "#fdca26"
             ],
             [
              1,
              "#f0f921"
             ]
            ],
            "type": "contour"
           }
          ],
          "contourcarpet": [
           {
            "colorbar": {
             "outlinewidth": 0,
             "ticks": ""
            },
            "type": "contourcarpet"
           }
          ],
          "heatmap": [
           {
            "colorbar": {
             "outlinewidth": 0,
             "ticks": ""
            },
            "colorscale": [
             [
              0,
              "#0d0887"
             ],
             [
              0.1111111111111111,
              "#46039f"
             ],
             [
              0.2222222222222222,
              "#7201a8"
             ],
             [
              0.3333333333333333,
              "#9c179e"
             ],
             [
              0.4444444444444444,
              "#bd3786"
             ],
             [
              0.5555555555555556,
              "#d8576b"
             ],
             [
              0.6666666666666666,
              "#ed7953"
             ],
             [
              0.7777777777777778,
              "#fb9f3a"
             ],
             [
              0.8888888888888888,
              "#fdca26"
             ],
             [
              1,
              "#f0f921"
             ]
            ],
            "type": "heatmap"
           }
          ],
          "heatmapgl": [
           {
            "colorbar": {
             "outlinewidth": 0,
             "ticks": ""
            },
            "colorscale": [
             [
              0,
              "#0d0887"
             ],
             [
              0.1111111111111111,
              "#46039f"
             ],
             [
              0.2222222222222222,
              "#7201a8"
             ],
             [
              0.3333333333333333,
              "#9c179e"
             ],
             [
              0.4444444444444444,
              "#bd3786"
             ],
             [
              0.5555555555555556,
              "#d8576b"
             ],
             [
              0.6666666666666666,
              "#ed7953"
             ],
             [
              0.7777777777777778,
              "#fb9f3a"
             ],
             [
              0.8888888888888888,
              "#fdca26"
             ],
             [
              1,
              "#f0f921"
             ]
            ],
            "type": "heatmapgl"
           }
          ],
          "histogram": [
           {
            "marker": {
             "colorbar": {
              "outlinewidth": 0,
              "ticks": ""
             }
            },
            "type": "histogram"
           }
          ],
          "histogram2d": [
           {
            "colorbar": {
             "outlinewidth": 0,
             "ticks": ""
            },
            "colorscale": [
             [
              0,
              "#0d0887"
             ],
             [
              0.1111111111111111,
              "#46039f"
             ],
             [
              0.2222222222222222,
              "#7201a8"
             ],
             [
              0.3333333333333333,
              "#9c179e"
             ],
             [
              0.4444444444444444,
              "#bd3786"
             ],
             [
              0.5555555555555556,
              "#d8576b"
             ],
             [
              0.6666666666666666,
              "#ed7953"
             ],
             [
              0.7777777777777778,
              "#fb9f3a"
             ],
             [
              0.8888888888888888,
              "#fdca26"
             ],
             [
              1,
              "#f0f921"
             ]
            ],
            "type": "histogram2d"
           }
          ],
          "histogram2dcontour": [
           {
            "colorbar": {
             "outlinewidth": 0,
             "ticks": ""
            },
            "colorscale": [
             [
              0,
              "#0d0887"
             ],
             [
              0.1111111111111111,
              "#46039f"
             ],
             [
              0.2222222222222222,
              "#7201a8"
             ],
             [
              0.3333333333333333,
              "#9c179e"
             ],
             [
              0.4444444444444444,
              "#bd3786"
             ],
             [
              0.5555555555555556,
              "#d8576b"
             ],
             [
              0.6666666666666666,
              "#ed7953"
             ],
             [
              0.7777777777777778,
              "#fb9f3a"
             ],
             [
              0.8888888888888888,
              "#fdca26"
             ],
             [
              1,
              "#f0f921"
             ]
            ],
            "type": "histogram2dcontour"
           }
          ],
          "mesh3d": [
           {
            "colorbar": {
             "outlinewidth": 0,
             "ticks": ""
            },
            "type": "mesh3d"
           }
          ],
          "parcoords": [
           {
            "line": {
             "colorbar": {
              "outlinewidth": 0,
              "ticks": ""
             }
            },
            "type": "parcoords"
           }
          ],
          "pie": [
           {
            "automargin": true,
            "type": "pie"
           }
          ],
          "scatter": [
           {
            "marker": {
             "colorbar": {
              "outlinewidth": 0,
              "ticks": ""
             }
            },
            "type": "scatter"
           }
          ],
          "scatter3d": [
           {
            "line": {
             "colorbar": {
              "outlinewidth": 0,
              "ticks": ""
             }
            },
            "marker": {
             "colorbar": {
              "outlinewidth": 0,
              "ticks": ""
             }
            },
            "type": "scatter3d"
           }
          ],
          "scattercarpet": [
           {
            "marker": {
             "colorbar": {
              "outlinewidth": 0,
              "ticks": ""
             }
            },
            "type": "scattercarpet"
           }
          ],
          "scattergeo": [
           {
            "marker": {
             "colorbar": {
              "outlinewidth": 0,
              "ticks": ""
             }
            },
            "type": "scattergeo"
           }
          ],
          "scattergl": [
           {
            "marker": {
             "colorbar": {
              "outlinewidth": 0,
              "ticks": ""
             }
            },
            "type": "scattergl"
           }
          ],
          "scattermapbox": [
           {
            "marker": {
             "colorbar": {
              "outlinewidth": 0,
              "ticks": ""
             }
            },
            "type": "scattermapbox"
           }
          ],
          "scatterpolar": [
           {
            "marker": {
             "colorbar": {
              "outlinewidth": 0,
              "ticks": ""
             }
            },
            "type": "scatterpolar"
           }
          ],
          "scatterpolargl": [
           {
            "marker": {
             "colorbar": {
              "outlinewidth": 0,
              "ticks": ""
             }
            },
            "type": "scatterpolargl"
           }
          ],
          "scatterternary": [
           {
            "marker": {
             "colorbar": {
              "outlinewidth": 0,
              "ticks": ""
             }
            },
            "type": "scatterternary"
           }
          ],
          "surface": [
           {
            "colorbar": {
             "outlinewidth": 0,
             "ticks": ""
            },
            "colorscale": [
             [
              0,
              "#0d0887"
             ],
             [
              0.1111111111111111,
              "#46039f"
             ],
             [
              0.2222222222222222,
              "#7201a8"
             ],
             [
              0.3333333333333333,
              "#9c179e"
             ],
             [
              0.4444444444444444,
              "#bd3786"
             ],
             [
              0.5555555555555556,
              "#d8576b"
             ],
             [
              0.6666666666666666,
              "#ed7953"
             ],
             [
              0.7777777777777778,
              "#fb9f3a"
             ],
             [
              0.8888888888888888,
              "#fdca26"
             ],
             [
              1,
              "#f0f921"
             ]
            ],
            "type": "surface"
           }
          ],
          "table": [
           {
            "cells": {
             "fill": {
              "color": "#EBF0F8"
             },
             "line": {
              "color": "white"
             }
            },
            "header": {
             "fill": {
              "color": "#C8D4E3"
             },
             "line": {
              "color": "white"
             }
            },
            "type": "table"
           }
          ]
         },
         "layout": {
          "annotationdefaults": {
           "arrowcolor": "#2a3f5f",
           "arrowhead": 0,
           "arrowwidth": 1
          },
          "coloraxis": {
           "colorbar": {
            "outlinewidth": 0,
            "ticks": ""
           }
          },
          "colorscale": {
           "diverging": [
            [
             0,
             "#8e0152"
            ],
            [
             0.1,
             "#c51b7d"
            ],
            [
             0.2,
             "#de77ae"
            ],
            [
             0.3,
             "#f1b6da"
            ],
            [
             0.4,
             "#fde0ef"
            ],
            [
             0.5,
             "#f7f7f7"
            ],
            [
             0.6,
             "#e6f5d0"
            ],
            [
             0.7,
             "#b8e186"
            ],
            [
             0.8,
             "#7fbc41"
            ],
            [
             0.9,
             "#4d9221"
            ],
            [
             1,
             "#276419"
            ]
           ],
           "sequential": [
            [
             0,
             "#0d0887"
            ],
            [
             0.1111111111111111,
             "#46039f"
            ],
            [
             0.2222222222222222,
             "#7201a8"
            ],
            [
             0.3333333333333333,
             "#9c179e"
            ],
            [
             0.4444444444444444,
             "#bd3786"
            ],
            [
             0.5555555555555556,
             "#d8576b"
            ],
            [
             0.6666666666666666,
             "#ed7953"
            ],
            [
             0.7777777777777778,
             "#fb9f3a"
            ],
            [
             0.8888888888888888,
             "#fdca26"
            ],
            [
             1,
             "#f0f921"
            ]
           ],
           "sequentialminus": [
            [
             0,
             "#0d0887"
            ],
            [
             0.1111111111111111,
             "#46039f"
            ],
            [
             0.2222222222222222,
             "#7201a8"
            ],
            [
             0.3333333333333333,
             "#9c179e"
            ],
            [
             0.4444444444444444,
             "#bd3786"
            ],
            [
             0.5555555555555556,
             "#d8576b"
            ],
            [
             0.6666666666666666,
             "#ed7953"
            ],
            [
             0.7777777777777778,
             "#fb9f3a"
            ],
            [
             0.8888888888888888,
             "#fdca26"
            ],
            [
             1,
             "#f0f921"
            ]
           ]
          },
          "colorway": [
           "#636efa",
           "#EF553B",
           "#00cc96",
           "#ab63fa",
           "#FFA15A",
           "#19d3f3",
           "#FF6692",
           "#B6E880",
           "#FF97FF",
           "#FECB52"
          ],
          "font": {
           "color": "#2a3f5f"
          },
          "geo": {
           "bgcolor": "white",
           "lakecolor": "white",
           "landcolor": "#E5ECF6",
           "showlakes": true,
           "showland": true,
           "subunitcolor": "white"
          },
          "hoverlabel": {
           "align": "left"
          },
          "hovermode": "closest",
          "mapbox": {
           "style": "light"
          },
          "paper_bgcolor": "white",
          "plot_bgcolor": "#E5ECF6",
          "polar": {
           "angularaxis": {
            "gridcolor": "white",
            "linecolor": "white",
            "ticks": ""
           },
           "bgcolor": "#E5ECF6",
           "radialaxis": {
            "gridcolor": "white",
            "linecolor": "white",
            "ticks": ""
           }
          },
          "scene": {
           "xaxis": {
            "backgroundcolor": "#E5ECF6",
            "gridcolor": "white",
            "gridwidth": 2,
            "linecolor": "white",
            "showbackground": true,
            "ticks": "",
            "zerolinecolor": "white"
           },
           "yaxis": {
            "backgroundcolor": "#E5ECF6",
            "gridcolor": "white",
            "gridwidth": 2,
            "linecolor": "white",
            "showbackground": true,
            "ticks": "",
            "zerolinecolor": "white"
           },
           "zaxis": {
            "backgroundcolor": "#E5ECF6",
            "gridcolor": "white",
            "gridwidth": 2,
            "linecolor": "white",
            "showbackground": true,
            "ticks": "",
            "zerolinecolor": "white"
           }
          },
          "shapedefaults": {
           "line": {
            "color": "#2a3f5f"
           }
          },
          "ternary": {
           "aaxis": {
            "gridcolor": "white",
            "linecolor": "white",
            "ticks": ""
           },
           "baxis": {
            "gridcolor": "white",
            "linecolor": "white",
            "ticks": ""
           },
           "bgcolor": "#E5ECF6",
           "caxis": {
            "gridcolor": "white",
            "linecolor": "white",
            "ticks": ""
           }
          },
          "title": {
           "x": 0.05
          },
          "xaxis": {
           "automargin": true,
           "gridcolor": "white",
           "linecolor": "white",
           "ticks": "",
           "title": {
            "standoff": 15
           },
           "zerolinecolor": "white",
           "zerolinewidth": 2
          },
          "yaxis": {
           "automargin": true,
           "gridcolor": "white",
           "linecolor": "white",
           "ticks": "",
           "title": {
            "standoff": 15
           },
           "zerolinecolor": "white",
           "zerolinewidth": 2
          }
         }
        },
        "title": {
         "font": {
          "color": "#4D5663"
         },
         "text": "<b>Total and Active Cases of Covid_19 in Greece (139 days)</b>"
        },
        "xaxis": {
         "gridcolor": "#E1E5ED",
         "showgrid": true,
         "tickfont": {
          "color": "#4D5663"
         },
         "title": {
          "font": {
           "color": "#4D5663"
          },
          "text": "Dates"
         },
         "zerolinecolor": "#E1E5ED"
        },
        "yaxis": {
         "gridcolor": "#E1E5ED",
         "showgrid": true,
         "tickfont": {
          "color": "#4D5663"
         },
         "title": {
          "font": {
           "color": "#4D5663"
          },
          "text": "Number of Cases"
         },
         "zerolinecolor": "#E1E5ED"
        }
       }
      },
      "text/html": [
       "<div>\n",
       "        \n",
       "        \n",
       "            <div id=\"ab745d0f-9dbf-4580-86cc-d40bb28e011b\" class=\"plotly-graph-div\" style=\"height:525px; width:100%;\"></div>\n",
       "            <script type=\"text/javascript\">\n",
       "                require([\"plotly\"], function(Plotly) {\n",
       "                    window.PLOTLYENV=window.PLOTLYENV || {};\n",
       "                    window.PLOTLYENV.BASE_URL='https://plot.ly';\n",
       "                    \n",
       "                if (document.getElementById(\"ab745d0f-9dbf-4580-86cc-d40bb28e011b\")) {\n",
       "                    Plotly.newPlot(\n",
       "                        'ab745d0f-9dbf-4580-86cc-d40bb28e011b',\n",
       "                        [{\"line\": {\"color\": \"rgba(255, 153, 51, 1.0)\", \"dash\": \"solid\", \"shape\": \"linear\", \"width\": 1.3}, \"marker\": {\"size\": 7, \"symbol\": \"circle\"}, \"mode\": \"lines+markers\", \"name\": \"Total Cases\", \"text\": \"\", \"type\": \"scatter\", \"x\": [\"26/02\", \"27/02\", \"28/02\", \"29/02\", \"01/03\", \"02/03\", \"03/03\", \"04/03\", \"05/03\", \"06/03\", \"07/03\", \"08/03\", \"09/03\", \"10/03\", \"11/03\", \"12/03\", \"13/03\", \"14/03\", \"15/03\", \"16/03\", \"17/03\", \"18/03\", \"19/03\", \"20/03\", \"21/03\", \"22/03\", \"23/03\", \"24/03\", \"25/03\", \"26/03\", \"27/03\", \"28/03\", \"29/03\", \"30/03\", \"31/03\", \"01/04\", \"02/04\", \"03/04\", \"04/04\", \"05/04\", \"06/04\", \"07/04\", \"08/04\", \"09/04\", \"10/04\", \"11/04\", \"12/04\", \"13/04\", \"14/04\", \"15/04\", \"16/04\", \"17/04\", \"18/04\", \"19/04\", \"20/04\", \"21/04\", \"22/04\", \"23/04\", \"24/04\", \"25/04\", \"26/04\", \"27/04\", \"28/04\", \"29/04\", \"30/04\", \"01/05\", \"02/05\", \"03/05\", \"04/05\", \"05/05\", \"06/05\", \"07/05\", \"08/05\", \"09/05\", \"10/05\", \"11/05\", \"12/05\", \"13/05\", \"14/05\", \"15/05\", \"16/05\", \"17/05\", \"18/05\", \"19/05\", \"20/05\", \"21/05\", \"22/05\", \"23/05\", \"24/05\", \"25/05\", \"26/05\", \"27/05\", \"28/05\", \"29/05\", \"30/05\", \"31/05\", \"01/06\", \"02/06\", \"03/06\", \"04/06\", \"05/06\", \"06/06\", \"07/06\", \"08/06\", \"09/06\", \"10/06\", \"11/06\", \"12/06\", \"13/06\", \"14/06\", \"15/06\", \"16/06\", \"17/06\", \"18/06\", \"19/06\", \"20/06\", \"21/06\", \"22/06\", \"23/06\", \"24/06\", \"25/06\", \"26/06\", \"27/06\", \"28/06\", \"29/06\", \"30/06\", \"01/07\", \"02/07\", \"03/07\", \"04/07\", \"05/07\", \"06/07\", \"07/07\", \"08/07\", \"09/07\", \"10/07\", \"11/07\", \"12/07\", \"13/07\"], \"y\": [1, 3, 4, 7, 7, 7, 7, 9, 31, 45, 66, 73, 84, 89, 99, 117, 190, 228, 331, 352, 387, 418, 464, 495, 530, 624, 695, 743, 821, 892, 966, 1061, 1156, 1212, 1314, 1415, 1544, 1613, 1673, 1735, 1755, 1832, 1884, 1955, 2009, 2081, 2114, 2145, 2170, 2192, 2207, 2224, 2235, 2235, 2245, 2401, 2408, 2463, 2490, 2506, 2517, 2534, 2566, 2576, 2591, 2612, 2620, 2626, 2632, 2642, 2663, 2678, 2691, 2710, 2716, 2726, 2744, 2760, 2770, 2810, 2819, 2834, 2836, 2840, 2850, 2853, 2873, 2876, 2878, 2882, 2889, 2903, 2906, 2909, 2915, 2917, 2918, 2937, 2937, 2952, 2967, 2980, 2997, 3049, 3058, 3068, 3088, 3108, 3112, 3121, 3134, 3148, 3203, 3227, 3237, 3256, 3266, 3287, 3302, 3310, 3321, 3343, 3366, 3376, 3390, 3409, 3432, 3458, 3486, 3511, 3519, 3562, 3589, 3622, 3672, 3732, 3772, 3803, 3826]}, {\"line\": {\"color\": \"rgba(55, 128, 191, 1.0)\", \"dash\": \"solid\", \"shape\": \"linear\", \"width\": 1.3}, \"marker\": {\"size\": 7, \"symbol\": \"circle\"}, \"mode\": \"lines+markers\", \"name\": \"Active Cases\", \"text\": \"\", \"type\": \"scatter\", \"x\": [\"26/02\", \"27/02\", \"28/02\", \"29/02\", \"01/03\", \"02/03\", \"03/03\", \"04/03\", \"05/03\", \"06/03\", \"07/03\", \"08/03\", \"09/03\", \"10/03\", \"11/03\", \"12/03\", \"13/03\", \"14/03\", \"15/03\", \"16/03\", \"17/03\", \"18/03\", \"19/03\", \"20/03\", \"21/03\", \"22/03\", \"23/03\", \"24/03\", \"25/03\", \"26/03\", \"27/03\", \"28/03\", \"29/03\", \"30/03\", \"31/03\", \"01/04\", \"02/04\", \"03/04\", \"04/04\", \"05/04\", \"06/04\", \"07/04\", \"08/04\", \"09/04\", \"10/04\", \"11/04\", \"12/04\", \"13/04\", \"14/04\", \"15/04\", \"16/04\", \"17/04\", \"18/04\", \"19/04\", \"20/04\", \"21/04\", \"22/04\", \"23/04\", \"24/04\", \"25/04\", \"26/04\", \"27/04\", \"28/04\", \"29/04\", \"30/04\", \"01/05\", \"02/05\", \"03/05\", \"04/05\", \"05/05\", \"06/05\", \"07/05\", \"08/05\", \"09/05\", \"10/05\", \"11/05\", \"12/05\", \"13/05\", \"14/05\", \"15/05\", \"16/05\", \"17/05\", \"18/05\", \"19/05\", \"20/05\", \"21/05\", \"22/05\", \"23/05\", \"24/05\", \"25/05\", \"26/05\", \"27/05\", \"28/05\", \"29/05\", \"30/05\", \"31/05\", \"01/06\", \"02/06\", \"03/06\", \"04/06\", \"05/06\", \"06/06\", \"07/06\", \"08/06\", \"09/06\", \"10/06\", \"11/06\", \"12/06\", \"13/06\", \"14/06\", \"15/06\", \"16/06\", \"17/06\", \"18/06\", \"19/06\", \"20/06\", \"21/06\", \"22/06\", \"23/06\", \"24/06\", \"25/06\", \"26/06\", \"27/06\", \"28/06\", \"29/06\", \"30/06\", \"01/07\", \"02/07\", \"03/07\", \"04/07\", \"05/07\", \"06/07\", \"07/07\", \"08/07\", \"09/07\", \"10/07\", \"11/07\", \"12/07\", \"13/07\"], \"y\": [1, 3, 4, 4, 7, 7, 7, 9, 31, 45, 46, 73, 73, 89, 98, 98, 189, 217, 319, 319, 374, 405, 404, 470, 498, 590, 649, 694, 763, 830, 886, 977, 1066, 1117, 1213, 1313, 1430, 1472, 1527, 1584, 1407, 1482, 1532, 1599, 1650, 1719, 1747, 1777, 1800, 1821, 1833, 1847, 1856, 1853, 1860, 1703, 1710, 1761, 1783, 1799, 1806, 1821, 1851, 1860, 1077, 1098, 1103, 1108, 1112, 1122, 1142, 1156, 1167, 1185, 1191, 1201, 1218, 1231, 1240, 1276, 1283, 1297, 1297, 1301, 1310, 1311, 1331, 1331, 1333, 1336, 1345, 1356, 1357, 1360, 1366, 1368, 1365, 1384, 1384, 1398, 1413, 1426, 1443, 1493, 1501, 1511, 1531, 1551, 1555, 1564, 1576, 1589, 1642, 1665, 1674, 1692, 1702, 1723, 1738, 1746, 1756, 1778, 1801, 1811, 1825, 1843, 1866, 1892, 1920, 1945, 1953, 1996, 2022, 2055, 2105, 2165, 2205, 2236, 2259]}],\n",
       "                        {\"legend\": {\"bgcolor\": \"#F5F6F9\", \"font\": {\"color\": \"#4D5663\"}}, \"paper_bgcolor\": \"#F5F6F9\", \"plot_bgcolor\": \"#F5F6F9\", \"template\": {\"data\": {\"bar\": [{\"error_x\": {\"color\": \"#2a3f5f\"}, \"error_y\": {\"color\": \"#2a3f5f\"}, \"marker\": {\"line\": {\"color\": \"#E5ECF6\", \"width\": 0.5}}, \"type\": \"bar\"}], \"barpolar\": [{\"marker\": {\"line\": {\"color\": \"#E5ECF6\", \"width\": 0.5}}, \"type\": \"barpolar\"}], \"carpet\": [{\"aaxis\": {\"endlinecolor\": \"#2a3f5f\", \"gridcolor\": \"white\", \"linecolor\": \"white\", \"minorgridcolor\": \"white\", \"startlinecolor\": \"#2a3f5f\"}, \"baxis\": {\"endlinecolor\": \"#2a3f5f\", \"gridcolor\": \"white\", \"linecolor\": \"white\", \"minorgridcolor\": \"white\", \"startlinecolor\": \"#2a3f5f\"}, \"type\": \"carpet\"}], \"choropleth\": [{\"colorbar\": {\"outlinewidth\": 0, \"ticks\": \"\"}, \"type\": \"choropleth\"}], \"contour\": [{\"colorbar\": {\"outlinewidth\": 0, \"ticks\": \"\"}, \"colorscale\": [[0.0, \"#0d0887\"], [0.1111111111111111, \"#46039f\"], [0.2222222222222222, \"#7201a8\"], [0.3333333333333333, \"#9c179e\"], [0.4444444444444444, \"#bd3786\"], [0.5555555555555556, \"#d8576b\"], [0.6666666666666666, \"#ed7953\"], [0.7777777777777778, \"#fb9f3a\"], [0.8888888888888888, \"#fdca26\"], [1.0, \"#f0f921\"]], \"type\": \"contour\"}], \"contourcarpet\": [{\"colorbar\": {\"outlinewidth\": 0, \"ticks\": \"\"}, \"type\": \"contourcarpet\"}], \"heatmap\": [{\"colorbar\": {\"outlinewidth\": 0, \"ticks\": \"\"}, \"colorscale\": [[0.0, \"#0d0887\"], [0.1111111111111111, \"#46039f\"], [0.2222222222222222, \"#7201a8\"], [0.3333333333333333, \"#9c179e\"], [0.4444444444444444, \"#bd3786\"], [0.5555555555555556, \"#d8576b\"], [0.6666666666666666, \"#ed7953\"], [0.7777777777777778, \"#fb9f3a\"], [0.8888888888888888, \"#fdca26\"], [1.0, \"#f0f921\"]], \"type\": \"heatmap\"}], \"heatmapgl\": [{\"colorbar\": {\"outlinewidth\": 0, \"ticks\": \"\"}, \"colorscale\": [[0.0, \"#0d0887\"], [0.1111111111111111, \"#46039f\"], [0.2222222222222222, \"#7201a8\"], [0.3333333333333333, \"#9c179e\"], [0.4444444444444444, \"#bd3786\"], [0.5555555555555556, \"#d8576b\"], [0.6666666666666666, \"#ed7953\"], [0.7777777777777778, \"#fb9f3a\"], [0.8888888888888888, \"#fdca26\"], [1.0, \"#f0f921\"]], \"type\": \"heatmapgl\"}], \"histogram\": [{\"marker\": {\"colorbar\": {\"outlinewidth\": 0, \"ticks\": \"\"}}, \"type\": \"histogram\"}], \"histogram2d\": [{\"colorbar\": {\"outlinewidth\": 0, \"ticks\": \"\"}, \"colorscale\": [[0.0, \"#0d0887\"], [0.1111111111111111, \"#46039f\"], [0.2222222222222222, \"#7201a8\"], [0.3333333333333333, \"#9c179e\"], [0.4444444444444444, \"#bd3786\"], [0.5555555555555556, \"#d8576b\"], [0.6666666666666666, \"#ed7953\"], [0.7777777777777778, \"#fb9f3a\"], [0.8888888888888888, \"#fdca26\"], [1.0, \"#f0f921\"]], \"type\": \"histogram2d\"}], \"histogram2dcontour\": [{\"colorbar\": {\"outlinewidth\": 0, \"ticks\": \"\"}, \"colorscale\": [[0.0, \"#0d0887\"], [0.1111111111111111, \"#46039f\"], [0.2222222222222222, \"#7201a8\"], [0.3333333333333333, \"#9c179e\"], [0.4444444444444444, \"#bd3786\"], [0.5555555555555556, \"#d8576b\"], [0.6666666666666666, \"#ed7953\"], [0.7777777777777778, \"#fb9f3a\"], [0.8888888888888888, \"#fdca26\"], [1.0, \"#f0f921\"]], \"type\": \"histogram2dcontour\"}], \"mesh3d\": [{\"colorbar\": {\"outlinewidth\": 0, \"ticks\": \"\"}, \"type\": \"mesh3d\"}], \"parcoords\": [{\"line\": {\"colorbar\": {\"outlinewidth\": 0, \"ticks\": \"\"}}, \"type\": \"parcoords\"}], \"pie\": [{\"automargin\": true, \"type\": \"pie\"}], \"scatter\": [{\"marker\": {\"colorbar\": {\"outlinewidth\": 0, \"ticks\": \"\"}}, \"type\": \"scatter\"}], \"scatter3d\": [{\"line\": {\"colorbar\": {\"outlinewidth\": 0, \"ticks\": \"\"}}, \"marker\": {\"colorbar\": {\"outlinewidth\": 0, \"ticks\": \"\"}}, \"type\": \"scatter3d\"}], \"scattercarpet\": [{\"marker\": {\"colorbar\": {\"outlinewidth\": 0, \"ticks\": \"\"}}, \"type\": \"scattercarpet\"}], \"scattergeo\": [{\"marker\": {\"colorbar\": {\"outlinewidth\": 0, \"ticks\": \"\"}}, \"type\": \"scattergeo\"}], \"scattergl\": [{\"marker\": {\"colorbar\": {\"outlinewidth\": 0, \"ticks\": \"\"}}, \"type\": \"scattergl\"}], \"scattermapbox\": [{\"marker\": {\"colorbar\": {\"outlinewidth\": 0, \"ticks\": \"\"}}, \"type\": \"scattermapbox\"}], \"scatterpolar\": [{\"marker\": {\"colorbar\": {\"outlinewidth\": 0, \"ticks\": \"\"}}, \"type\": \"scatterpolar\"}], \"scatterpolargl\": [{\"marker\": {\"colorbar\": {\"outlinewidth\": 0, \"ticks\": \"\"}}, \"type\": \"scatterpolargl\"}], \"scatterternary\": [{\"marker\": {\"colorbar\": {\"outlinewidth\": 0, \"ticks\": \"\"}}, \"type\": \"scatterternary\"}], \"surface\": [{\"colorbar\": {\"outlinewidth\": 0, \"ticks\": \"\"}, \"colorscale\": [[0.0, \"#0d0887\"], [0.1111111111111111, \"#46039f\"], [0.2222222222222222, \"#7201a8\"], [0.3333333333333333, \"#9c179e\"], [0.4444444444444444, \"#bd3786\"], [0.5555555555555556, \"#d8576b\"], [0.6666666666666666, \"#ed7953\"], [0.7777777777777778, \"#fb9f3a\"], [0.8888888888888888, \"#fdca26\"], [1.0, \"#f0f921\"]], \"type\": \"surface\"}], \"table\": [{\"cells\": {\"fill\": {\"color\": \"#EBF0F8\"}, \"line\": {\"color\": \"white\"}}, \"header\": {\"fill\": {\"color\": \"#C8D4E3\"}, \"line\": {\"color\": \"white\"}}, \"type\": \"table\"}]}, \"layout\": {\"annotationdefaults\": {\"arrowcolor\": \"#2a3f5f\", \"arrowhead\": 0, \"arrowwidth\": 1}, \"coloraxis\": {\"colorbar\": {\"outlinewidth\": 0, \"ticks\": \"\"}}, \"colorscale\": {\"diverging\": [[0, \"#8e0152\"], [0.1, \"#c51b7d\"], [0.2, \"#de77ae\"], [0.3, \"#f1b6da\"], [0.4, \"#fde0ef\"], [0.5, \"#f7f7f7\"], [0.6, \"#e6f5d0\"], [0.7, \"#b8e186\"], [0.8, \"#7fbc41\"], [0.9, \"#4d9221\"], [1, \"#276419\"]], \"sequential\": [[0.0, \"#0d0887\"], [0.1111111111111111, \"#46039f\"], [0.2222222222222222, \"#7201a8\"], [0.3333333333333333, \"#9c179e\"], [0.4444444444444444, \"#bd3786\"], [0.5555555555555556, \"#d8576b\"], [0.6666666666666666, \"#ed7953\"], [0.7777777777777778, \"#fb9f3a\"], [0.8888888888888888, \"#fdca26\"], [1.0, \"#f0f921\"]], \"sequentialminus\": [[0.0, \"#0d0887\"], [0.1111111111111111, \"#46039f\"], [0.2222222222222222, \"#7201a8\"], [0.3333333333333333, \"#9c179e\"], [0.4444444444444444, \"#bd3786\"], [0.5555555555555556, \"#d8576b\"], [0.6666666666666666, \"#ed7953\"], [0.7777777777777778, \"#fb9f3a\"], [0.8888888888888888, \"#fdca26\"], [1.0, \"#f0f921\"]]}, \"colorway\": [\"#636efa\", \"#EF553B\", \"#00cc96\", \"#ab63fa\", \"#FFA15A\", \"#19d3f3\", \"#FF6692\", \"#B6E880\", \"#FF97FF\", \"#FECB52\"], \"font\": {\"color\": \"#2a3f5f\"}, \"geo\": {\"bgcolor\": \"white\", \"lakecolor\": \"white\", \"landcolor\": \"#E5ECF6\", \"showlakes\": true, \"showland\": true, \"subunitcolor\": \"white\"}, \"hoverlabel\": {\"align\": \"left\"}, \"hovermode\": \"closest\", \"mapbox\": {\"style\": \"light\"}, \"paper_bgcolor\": \"white\", \"plot_bgcolor\": \"#E5ECF6\", \"polar\": {\"angularaxis\": {\"gridcolor\": \"white\", \"linecolor\": \"white\", \"ticks\": \"\"}, \"bgcolor\": \"#E5ECF6\", \"radialaxis\": {\"gridcolor\": \"white\", \"linecolor\": \"white\", \"ticks\": \"\"}}, \"scene\": {\"xaxis\": {\"backgroundcolor\": \"#E5ECF6\", \"gridcolor\": \"white\", \"gridwidth\": 2, \"linecolor\": \"white\", \"showbackground\": true, \"ticks\": \"\", \"zerolinecolor\": \"white\"}, \"yaxis\": {\"backgroundcolor\": \"#E5ECF6\", \"gridcolor\": \"white\", \"gridwidth\": 2, \"linecolor\": \"white\", \"showbackground\": true, \"ticks\": \"\", \"zerolinecolor\": \"white\"}, \"zaxis\": {\"backgroundcolor\": \"#E5ECF6\", \"gridcolor\": \"white\", \"gridwidth\": 2, \"linecolor\": \"white\", \"showbackground\": true, \"ticks\": \"\", \"zerolinecolor\": \"white\"}}, \"shapedefaults\": {\"line\": {\"color\": \"#2a3f5f\"}}, \"ternary\": {\"aaxis\": {\"gridcolor\": \"white\", \"linecolor\": \"white\", \"ticks\": \"\"}, \"baxis\": {\"gridcolor\": \"white\", \"linecolor\": \"white\", \"ticks\": \"\"}, \"bgcolor\": \"#E5ECF6\", \"caxis\": {\"gridcolor\": \"white\", \"linecolor\": \"white\", \"ticks\": \"\"}}, \"title\": {\"x\": 0.05}, \"xaxis\": {\"automargin\": true, \"gridcolor\": \"white\", \"linecolor\": \"white\", \"ticks\": \"\", \"title\": {\"standoff\": 15}, \"zerolinecolor\": \"white\", \"zerolinewidth\": 2}, \"yaxis\": {\"automargin\": true, \"gridcolor\": \"white\", \"linecolor\": \"white\", \"ticks\": \"\", \"title\": {\"standoff\": 15}, \"zerolinecolor\": \"white\", \"zerolinewidth\": 2}}}, \"title\": {\"font\": {\"color\": \"#4D5663\"}, \"text\": \"<b>Total and Active Cases of Covid_19 in Greece (139 days)</b>\"}, \"xaxis\": {\"gridcolor\": \"#E1E5ED\", \"showgrid\": true, \"tickfont\": {\"color\": \"#4D5663\"}, \"title\": {\"font\": {\"color\": \"#4D5663\"}, \"text\": \"Dates\"}, \"zerolinecolor\": \"#E1E5ED\"}, \"yaxis\": {\"gridcolor\": \"#E1E5ED\", \"showgrid\": true, \"tickfont\": {\"color\": \"#4D5663\"}, \"title\": {\"font\": {\"color\": \"#4D5663\"}, \"text\": \"Number of Cases\"}, \"zerolinecolor\": \"#E1E5ED\"}},\n",
       "                        {\"showLink\": true, \"linkText\": \"Export to plot.ly\", \"plotlyServerURL\": \"https://plot.ly\", \"responsive\": true}\n",
       "                    ).then(function(){\n",
       "                            \n",
       "var gd = document.getElementById('ab745d0f-9dbf-4580-86cc-d40bb28e011b');\n",
       "var x = new MutationObserver(function (mutations, observer) {{\n",
       "        var display = window.getComputedStyle(gd).display;\n",
       "        if (!display || display === 'none') {{\n",
       "            console.log([gd, 'removed!']);\n",
       "            Plotly.purge(gd);\n",
       "            observer.disconnect();\n",
       "        }}\n",
       "}});\n",
       "\n",
       "// Listen for the removal of the full notebook cells\n",
       "var notebookContainer = gd.closest('#notebook-container');\n",
       "if (notebookContainer) {{\n",
       "    x.observe(notebookContainer, {childList: true});\n",
       "}}\n",
       "\n",
       "// Listen for the clearing of the current output cell\n",
       "var outputEl = gd.closest('.output');\n",
       "if (outputEl) {{\n",
       "    x.observe(outputEl, {childList: true});\n",
       "}}\n",
       "\n",
       "                        })\n",
       "                };\n",
       "                });\n",
       "            </script>\n",
       "        </div>"
      ]
     },
     "metadata": {},
     "output_type": "display_data"
    }
   ],
   "source": [
    "df[['Total Cases', 'Active Cases']].iplot(kind='scatter',mode='lines+markers', color=['orange', 'blue'], size=7,\n",
    "                        xTitle='Dates', yTitle='Number of Cases',\n",
    "                        title='<b>Total and Active Cases of Covid_19 in Greece ('+str(len(df['Total Cases']))+' days)</b>')\n",
    "# Click and drag mouse to select specific area of plot to zoom in\n",
    "# Move mouse over markers to see data"
   ]
  },
  {
   "cell_type": "markdown",
   "metadata": {},
   "source": [
    "## Total and Daily number of cases"
   ]
  },
  {
   "cell_type": "code",
   "execution_count": 16,
   "metadata": {},
   "outputs": [
    {
     "data": {
      "application/vnd.plotly.v1+json": {
       "config": {
        "plotlyServerURL": "https://plot.ly"
       },
       "data": [
        {
         "line": {
          "color": "orange",
          "width": 4
         },
         "name": "Total Cases",
         "type": "scatter",
         "x": [
          "26/02",
          "27/02",
          "28/02",
          "29/02",
          "01/03",
          "02/03",
          "03/03",
          "04/03",
          "05/03",
          "06/03",
          "07/03",
          "08/03",
          "09/03",
          "10/03",
          "11/03",
          "12/03",
          "13/03",
          "14/03",
          "15/03",
          "16/03",
          "17/03",
          "18/03",
          "19/03",
          "20/03",
          "21/03",
          "22/03",
          "23/03",
          "24/03",
          "25/03",
          "26/03",
          "27/03",
          "28/03",
          "29/03",
          "30/03",
          "31/03",
          "01/04",
          "02/04",
          "03/04",
          "04/04",
          "05/04",
          "06/04",
          "07/04",
          "08/04",
          "09/04",
          "10/04",
          "11/04",
          "12/04",
          "13/04",
          "14/04",
          "15/04",
          "16/04",
          "17/04",
          "18/04",
          "19/04",
          "20/04",
          "21/04",
          "22/04",
          "23/04",
          "24/04",
          "25/04",
          "26/04",
          "27/04",
          "28/04",
          "29/04",
          "30/04",
          "01/05",
          "02/05",
          "03/05",
          "04/05",
          "05/05",
          "06/05",
          "07/05",
          "08/05",
          "09/05",
          "10/05",
          "11/05",
          "12/05",
          "13/05",
          "14/05",
          "15/05",
          "16/05",
          "17/05",
          "18/05",
          "19/05",
          "20/05",
          "21/05",
          "22/05",
          "23/05",
          "24/05",
          "25/05",
          "26/05",
          "27/05",
          "28/05",
          "29/05",
          "30/05",
          "31/05",
          "01/06",
          "02/06",
          "03/06",
          "04/06",
          "05/06",
          "06/06",
          "07/06",
          "08/06",
          "09/06",
          "10/06",
          "11/06",
          "12/06",
          "13/06",
          "14/06",
          "15/06",
          "16/06",
          "17/06",
          "18/06",
          "19/06",
          "20/06",
          "21/06",
          "22/06",
          "23/06",
          "24/06",
          "25/06",
          "26/06",
          "27/06",
          "28/06",
          "29/06",
          "30/06",
          "01/07",
          "02/07",
          "03/07",
          "04/07",
          "05/07",
          "06/07",
          "07/07",
          "08/07",
          "09/07",
          "10/07",
          "11/07",
          "12/07",
          "13/07"
         ],
         "xaxis": "x",
         "y": [
          1,
          3,
          4,
          7,
          7,
          7,
          7,
          9,
          31,
          45,
          66,
          73,
          84,
          89,
          99,
          117,
          190,
          228,
          331,
          352,
          387,
          418,
          464,
          495,
          530,
          624,
          695,
          743,
          821,
          892,
          966,
          1061,
          1156,
          1212,
          1314,
          1415,
          1544,
          1613,
          1673,
          1735,
          1755,
          1832,
          1884,
          1955,
          2009,
          2081,
          2114,
          2145,
          2170,
          2192,
          2207,
          2224,
          2235,
          2235,
          2245,
          2401,
          2408,
          2463,
          2490,
          2506,
          2517,
          2534,
          2566,
          2576,
          2591,
          2612,
          2620,
          2626,
          2632,
          2642,
          2663,
          2678,
          2691,
          2710,
          2716,
          2726,
          2744,
          2760,
          2770,
          2810,
          2819,
          2834,
          2836,
          2840,
          2850,
          2853,
          2873,
          2876,
          2878,
          2882,
          2889,
          2903,
          2906,
          2909,
          2915,
          2917,
          2918,
          2937,
          2937,
          2952,
          2967,
          2980,
          2997,
          3049,
          3058,
          3068,
          3088,
          3108,
          3112,
          3121,
          3134,
          3148,
          3203,
          3227,
          3237,
          3256,
          3266,
          3287,
          3302,
          3310,
          3321,
          3343,
          3366,
          3376,
          3390,
          3409,
          3432,
          3458,
          3486,
          3511,
          3519,
          3562,
          3589,
          3622,
          3672,
          3732,
          3772,
          3803,
          3826
         ],
         "yaxis": "y"
        },
        {
         "line": {
          "color": "blue"
         },
         "name": "Daily Cases",
         "opacity": 0.7,
         "type": "scatter",
         "x": [
          "26/02",
          "27/02",
          "28/02",
          "29/02",
          "01/03",
          "02/03",
          "03/03",
          "04/03",
          "05/03",
          "06/03",
          "07/03",
          "08/03",
          "09/03",
          "10/03",
          "11/03",
          "12/03",
          "13/03",
          "14/03",
          "15/03",
          "16/03",
          "17/03",
          "18/03",
          "19/03",
          "20/03",
          "21/03",
          "22/03",
          "23/03",
          "24/03",
          "25/03",
          "26/03",
          "27/03",
          "28/03",
          "29/03",
          "30/03",
          "31/03",
          "01/04",
          "02/04",
          "03/04",
          "04/04",
          "05/04",
          "06/04",
          "07/04",
          "08/04",
          "09/04",
          "10/04",
          "11/04",
          "12/04",
          "13/04",
          "14/04",
          "15/04",
          "16/04",
          "17/04",
          "18/04",
          "19/04",
          "20/04",
          "21/04",
          "22/04",
          "23/04",
          "24/04",
          "25/04",
          "26/04",
          "27/04",
          "28/04",
          "29/04",
          "30/04",
          "01/05",
          "02/05",
          "03/05",
          "04/05",
          "05/05",
          "06/05",
          "07/05",
          "08/05",
          "09/05",
          "10/05",
          "11/05",
          "12/05",
          "13/05",
          "14/05",
          "15/05",
          "16/05",
          "17/05",
          "18/05",
          "19/05",
          "20/05",
          "21/05",
          "22/05",
          "23/05",
          "24/05",
          "25/05",
          "26/05",
          "27/05",
          "28/05",
          "29/05",
          "30/05",
          "31/05",
          "01/06",
          "02/06",
          "03/06",
          "04/06",
          "05/06",
          "06/06",
          "07/06",
          "08/06",
          "09/06",
          "10/06",
          "11/06",
          "12/06",
          "13/06",
          "14/06",
          "15/06",
          "16/06",
          "17/06",
          "18/06",
          "19/06",
          "20/06",
          "21/06",
          "22/06",
          "23/06",
          "24/06",
          "25/06",
          "26/06",
          "27/06",
          "28/06",
          "29/06",
          "30/06",
          "01/07",
          "02/07",
          "03/07",
          "04/07",
          "05/07",
          "06/07",
          "07/07",
          "08/07",
          "09/07",
          "10/07",
          "11/07",
          "12/07",
          "13/07"
         ],
         "xaxis": "x",
         "y": [
          1,
          2,
          1,
          3,
          0,
          0,
          0,
          2,
          22,
          14,
          21,
          7,
          11,
          5,
          10,
          18,
          73,
          38,
          103,
          21,
          35,
          31,
          46,
          31,
          35,
          94,
          71,
          48,
          78,
          71,
          74,
          95,
          95,
          56,
          102,
          101,
          129,
          69,
          60,
          62,
          20,
          77,
          52,
          71,
          54,
          72,
          33,
          31,
          25,
          22,
          15,
          17,
          11,
          0,
          10,
          156,
          7,
          55,
          27,
          16,
          11,
          17,
          32,
          10,
          15,
          21,
          8,
          6,
          6,
          10,
          21,
          15,
          13,
          19,
          6,
          10,
          18,
          16,
          10,
          40,
          9,
          15,
          2,
          4,
          10,
          3,
          21,
          3,
          2,
          4,
          7,
          18,
          3,
          5,
          7,
          2,
          2,
          19,
          0,
          15,
          15,
          13,
          17,
          52,
          9,
          11,
          20,
          20,
          4,
          9,
          13,
          15,
          55,
          24,
          10,
          19,
          10,
          21,
          16,
          8,
          13,
          22,
          23,
          10,
          15,
          20,
          23,
          28,
          28,
          25,
          9,
          43,
          27,
          33,
          50,
          60,
          41,
          31,
          24
         ],
         "yaxis": "y2"
        }
       ],
       "layout": {
        "hovermode": "x unified",
        "template": {
         "data": {
          "bar": [
           {
            "error_x": {
             "color": "#2a3f5f"
            },
            "error_y": {
             "color": "#2a3f5f"
            },
            "marker": {
             "line": {
              "color": "#E5ECF6",
              "width": 0.5
             }
            },
            "type": "bar"
           }
          ],
          "barpolar": [
           {
            "marker": {
             "line": {
              "color": "#E5ECF6",
              "width": 0.5
             }
            },
            "type": "barpolar"
           }
          ],
          "carpet": [
           {
            "aaxis": {
             "endlinecolor": "#2a3f5f",
             "gridcolor": "white",
             "linecolor": "white",
             "minorgridcolor": "white",
             "startlinecolor": "#2a3f5f"
            },
            "baxis": {
             "endlinecolor": "#2a3f5f",
             "gridcolor": "white",
             "linecolor": "white",
             "minorgridcolor": "white",
             "startlinecolor": "#2a3f5f"
            },
            "type": "carpet"
           }
          ],
          "choropleth": [
           {
            "colorbar": {
             "outlinewidth": 0,
             "ticks": ""
            },
            "type": "choropleth"
           }
          ],
          "contour": [
           {
            "colorbar": {
             "outlinewidth": 0,
             "ticks": ""
            },
            "colorscale": [
             [
              0,
              "#0d0887"
             ],
             [
              0.1111111111111111,
              "#46039f"
             ],
             [
              0.2222222222222222,
              "#7201a8"
             ],
             [
              0.3333333333333333,
              "#9c179e"
             ],
             [
              0.4444444444444444,
              "#bd3786"
             ],
             [
              0.5555555555555556,
              "#d8576b"
             ],
             [
              0.6666666666666666,
              "#ed7953"
             ],
             [
              0.7777777777777778,
              "#fb9f3a"
             ],
             [
              0.8888888888888888,
              "#fdca26"
             ],
             [
              1,
              "#f0f921"
             ]
            ],
            "type": "contour"
           }
          ],
          "contourcarpet": [
           {
            "colorbar": {
             "outlinewidth": 0,
             "ticks": ""
            },
            "type": "contourcarpet"
           }
          ],
          "heatmap": [
           {
            "colorbar": {
             "outlinewidth": 0,
             "ticks": ""
            },
            "colorscale": [
             [
              0,
              "#0d0887"
             ],
             [
              0.1111111111111111,
              "#46039f"
             ],
             [
              0.2222222222222222,
              "#7201a8"
             ],
             [
              0.3333333333333333,
              "#9c179e"
             ],
             [
              0.4444444444444444,
              "#bd3786"
             ],
             [
              0.5555555555555556,
              "#d8576b"
             ],
             [
              0.6666666666666666,
              "#ed7953"
             ],
             [
              0.7777777777777778,
              "#fb9f3a"
             ],
             [
              0.8888888888888888,
              "#fdca26"
             ],
             [
              1,
              "#f0f921"
             ]
            ],
            "type": "heatmap"
           }
          ],
          "heatmapgl": [
           {
            "colorbar": {
             "outlinewidth": 0,
             "ticks": ""
            },
            "colorscale": [
             [
              0,
              "#0d0887"
             ],
             [
              0.1111111111111111,
              "#46039f"
             ],
             [
              0.2222222222222222,
              "#7201a8"
             ],
             [
              0.3333333333333333,
              "#9c179e"
             ],
             [
              0.4444444444444444,
              "#bd3786"
             ],
             [
              0.5555555555555556,
              "#d8576b"
             ],
             [
              0.6666666666666666,
              "#ed7953"
             ],
             [
              0.7777777777777778,
              "#fb9f3a"
             ],
             [
              0.8888888888888888,
              "#fdca26"
             ],
             [
              1,
              "#f0f921"
             ]
            ],
            "type": "heatmapgl"
           }
          ],
          "histogram": [
           {
            "marker": {
             "colorbar": {
              "outlinewidth": 0,
              "ticks": ""
             }
            },
            "type": "histogram"
           }
          ],
          "histogram2d": [
           {
            "colorbar": {
             "outlinewidth": 0,
             "ticks": ""
            },
            "colorscale": [
             [
              0,
              "#0d0887"
             ],
             [
              0.1111111111111111,
              "#46039f"
             ],
             [
              0.2222222222222222,
              "#7201a8"
             ],
             [
              0.3333333333333333,
              "#9c179e"
             ],
             [
              0.4444444444444444,
              "#bd3786"
             ],
             [
              0.5555555555555556,
              "#d8576b"
             ],
             [
              0.6666666666666666,
              "#ed7953"
             ],
             [
              0.7777777777777778,
              "#fb9f3a"
             ],
             [
              0.8888888888888888,
              "#fdca26"
             ],
             [
              1,
              "#f0f921"
             ]
            ],
            "type": "histogram2d"
           }
          ],
          "histogram2dcontour": [
           {
            "colorbar": {
             "outlinewidth": 0,
             "ticks": ""
            },
            "colorscale": [
             [
              0,
              "#0d0887"
             ],
             [
              0.1111111111111111,
              "#46039f"
             ],
             [
              0.2222222222222222,
              "#7201a8"
             ],
             [
              0.3333333333333333,
              "#9c179e"
             ],
             [
              0.4444444444444444,
              "#bd3786"
             ],
             [
              0.5555555555555556,
              "#d8576b"
             ],
             [
              0.6666666666666666,
              "#ed7953"
             ],
             [
              0.7777777777777778,
              "#fb9f3a"
             ],
             [
              0.8888888888888888,
              "#fdca26"
             ],
             [
              1,
              "#f0f921"
             ]
            ],
            "type": "histogram2dcontour"
           }
          ],
          "mesh3d": [
           {
            "colorbar": {
             "outlinewidth": 0,
             "ticks": ""
            },
            "type": "mesh3d"
           }
          ],
          "parcoords": [
           {
            "line": {
             "colorbar": {
              "outlinewidth": 0,
              "ticks": ""
             }
            },
            "type": "parcoords"
           }
          ],
          "pie": [
           {
            "automargin": true,
            "type": "pie"
           }
          ],
          "scatter": [
           {
            "marker": {
             "colorbar": {
              "outlinewidth": 0,
              "ticks": ""
             }
            },
            "type": "scatter"
           }
          ],
          "scatter3d": [
           {
            "line": {
             "colorbar": {
              "outlinewidth": 0,
              "ticks": ""
             }
            },
            "marker": {
             "colorbar": {
              "outlinewidth": 0,
              "ticks": ""
             }
            },
            "type": "scatter3d"
           }
          ],
          "scattercarpet": [
           {
            "marker": {
             "colorbar": {
              "outlinewidth": 0,
              "ticks": ""
             }
            },
            "type": "scattercarpet"
           }
          ],
          "scattergeo": [
           {
            "marker": {
             "colorbar": {
              "outlinewidth": 0,
              "ticks": ""
             }
            },
            "type": "scattergeo"
           }
          ],
          "scattergl": [
           {
            "marker": {
             "colorbar": {
              "outlinewidth": 0,
              "ticks": ""
             }
            },
            "type": "scattergl"
           }
          ],
          "scattermapbox": [
           {
            "marker": {
             "colorbar": {
              "outlinewidth": 0,
              "ticks": ""
             }
            },
            "type": "scattermapbox"
           }
          ],
          "scatterpolar": [
           {
            "marker": {
             "colorbar": {
              "outlinewidth": 0,
              "ticks": ""
             }
            },
            "type": "scatterpolar"
           }
          ],
          "scatterpolargl": [
           {
            "marker": {
             "colorbar": {
              "outlinewidth": 0,
              "ticks": ""
             }
            },
            "type": "scatterpolargl"
           }
          ],
          "scatterternary": [
           {
            "marker": {
             "colorbar": {
              "outlinewidth": 0,
              "ticks": ""
             }
            },
            "type": "scatterternary"
           }
          ],
          "surface": [
           {
            "colorbar": {
             "outlinewidth": 0,
             "ticks": ""
            },
            "colorscale": [
             [
              0,
              "#0d0887"
             ],
             [
              0.1111111111111111,
              "#46039f"
             ],
             [
              0.2222222222222222,
              "#7201a8"
             ],
             [
              0.3333333333333333,
              "#9c179e"
             ],
             [
              0.4444444444444444,
              "#bd3786"
             ],
             [
              0.5555555555555556,
              "#d8576b"
             ],
             [
              0.6666666666666666,
              "#ed7953"
             ],
             [
              0.7777777777777778,
              "#fb9f3a"
             ],
             [
              0.8888888888888888,
              "#fdca26"
             ],
             [
              1,
              "#f0f921"
             ]
            ],
            "type": "surface"
           }
          ],
          "table": [
           {
            "cells": {
             "fill": {
              "color": "#EBF0F8"
             },
             "line": {
              "color": "white"
             }
            },
            "header": {
             "fill": {
              "color": "#C8D4E3"
             },
             "line": {
              "color": "white"
             }
            },
            "type": "table"
           }
          ]
         },
         "layout": {
          "annotationdefaults": {
           "arrowcolor": "#2a3f5f",
           "arrowhead": 0,
           "arrowwidth": 1
          },
          "coloraxis": {
           "colorbar": {
            "outlinewidth": 0,
            "ticks": ""
           }
          },
          "colorscale": {
           "diverging": [
            [
             0,
             "#8e0152"
            ],
            [
             0.1,
             "#c51b7d"
            ],
            [
             0.2,
             "#de77ae"
            ],
            [
             0.3,
             "#f1b6da"
            ],
            [
             0.4,
             "#fde0ef"
            ],
            [
             0.5,
             "#f7f7f7"
            ],
            [
             0.6,
             "#e6f5d0"
            ],
            [
             0.7,
             "#b8e186"
            ],
            [
             0.8,
             "#7fbc41"
            ],
            [
             0.9,
             "#4d9221"
            ],
            [
             1,
             "#276419"
            ]
           ],
           "sequential": [
            [
             0,
             "#0d0887"
            ],
            [
             0.1111111111111111,
             "#46039f"
            ],
            [
             0.2222222222222222,
             "#7201a8"
            ],
            [
             0.3333333333333333,
             "#9c179e"
            ],
            [
             0.4444444444444444,
             "#bd3786"
            ],
            [
             0.5555555555555556,
             "#d8576b"
            ],
            [
             0.6666666666666666,
             "#ed7953"
            ],
            [
             0.7777777777777778,
             "#fb9f3a"
            ],
            [
             0.8888888888888888,
             "#fdca26"
            ],
            [
             1,
             "#f0f921"
            ]
           ],
           "sequentialminus": [
            [
             0,
             "#0d0887"
            ],
            [
             0.1111111111111111,
             "#46039f"
            ],
            [
             0.2222222222222222,
             "#7201a8"
            ],
            [
             0.3333333333333333,
             "#9c179e"
            ],
            [
             0.4444444444444444,
             "#bd3786"
            ],
            [
             0.5555555555555556,
             "#d8576b"
            ],
            [
             0.6666666666666666,
             "#ed7953"
            ],
            [
             0.7777777777777778,
             "#fb9f3a"
            ],
            [
             0.8888888888888888,
             "#fdca26"
            ],
            [
             1,
             "#f0f921"
            ]
           ]
          },
          "colorway": [
           "#636efa",
           "#EF553B",
           "#00cc96",
           "#ab63fa",
           "#FFA15A",
           "#19d3f3",
           "#FF6692",
           "#B6E880",
           "#FF97FF",
           "#FECB52"
          ],
          "font": {
           "color": "#2a3f5f"
          },
          "geo": {
           "bgcolor": "white",
           "lakecolor": "white",
           "landcolor": "#E5ECF6",
           "showlakes": true,
           "showland": true,
           "subunitcolor": "white"
          },
          "hoverlabel": {
           "align": "left"
          },
          "hovermode": "closest",
          "mapbox": {
           "style": "light"
          },
          "paper_bgcolor": "white",
          "plot_bgcolor": "#E5ECF6",
          "polar": {
           "angularaxis": {
            "gridcolor": "white",
            "linecolor": "white",
            "ticks": ""
           },
           "bgcolor": "#E5ECF6",
           "radialaxis": {
            "gridcolor": "white",
            "linecolor": "white",
            "ticks": ""
           }
          },
          "scene": {
           "xaxis": {
            "backgroundcolor": "#E5ECF6",
            "gridcolor": "white",
            "gridwidth": 2,
            "linecolor": "white",
            "showbackground": true,
            "ticks": "",
            "zerolinecolor": "white"
           },
           "yaxis": {
            "backgroundcolor": "#E5ECF6",
            "gridcolor": "white",
            "gridwidth": 2,
            "linecolor": "white",
            "showbackground": true,
            "ticks": "",
            "zerolinecolor": "white"
           },
           "zaxis": {
            "backgroundcolor": "#E5ECF6",
            "gridcolor": "white",
            "gridwidth": 2,
            "linecolor": "white",
            "showbackground": true,
            "ticks": "",
            "zerolinecolor": "white"
           }
          },
          "shapedefaults": {
           "line": {
            "color": "#2a3f5f"
           }
          },
          "ternary": {
           "aaxis": {
            "gridcolor": "white",
            "linecolor": "white",
            "ticks": ""
           },
           "baxis": {
            "gridcolor": "white",
            "linecolor": "white",
            "ticks": ""
           },
           "bgcolor": "#E5ECF6",
           "caxis": {
            "gridcolor": "white",
            "linecolor": "white",
            "ticks": ""
           }
          },
          "title": {
           "x": 0.05
          },
          "xaxis": {
           "automargin": true,
           "gridcolor": "white",
           "linecolor": "white",
           "ticks": "",
           "title": {
            "standoff": 15
           },
           "zerolinecolor": "white",
           "zerolinewidth": 2
          },
          "yaxis": {
           "automargin": true,
           "gridcolor": "white",
           "linecolor": "white",
           "ticks": "",
           "title": {
            "standoff": 15
           },
           "zerolinecolor": "white",
           "zerolinewidth": 2
          }
         }
        },
        "title": {
         "text": "<b>Total and Daily Cases of Covid_19 in Greece (139 days)</b>"
        },
        "xaxis": {
         "anchor": "y",
         "domain": [
          0,
          0.94
         ],
         "title": {
          "text": "Dates"
         }
        },
        "yaxis": {
         "anchor": "x",
         "domain": [
          0,
          1
         ],
         "title": {
          "text": "Number of Total Cases"
         }
        },
        "yaxis2": {
         "anchor": "x",
         "overlaying": "y",
         "side": "right",
         "title": {
          "text": "Number of Daily Cases"
         }
        }
       }
      },
      "text/html": [
       "<div>\n",
       "        \n",
       "        \n",
       "            <div id=\"5c052c9e-f7bf-4ab7-aad0-6b2c4cff1a33\" class=\"plotly-graph-div\" style=\"height:525px; width:100%;\"></div>\n",
       "            <script type=\"text/javascript\">\n",
       "                require([\"plotly\"], function(Plotly) {\n",
       "                    window.PLOTLYENV=window.PLOTLYENV || {};\n",
       "                    \n",
       "                if (document.getElementById(\"5c052c9e-f7bf-4ab7-aad0-6b2c4cff1a33\")) {\n",
       "                    Plotly.newPlot(\n",
       "                        '5c052c9e-f7bf-4ab7-aad0-6b2c4cff1a33',\n",
       "                        [{\"line\": {\"color\": \"orange\", \"width\": 4}, \"name\": \"Total Cases\", \"type\": \"scatter\", \"x\": [\"26/02\", \"27/02\", \"28/02\", \"29/02\", \"01/03\", \"02/03\", \"03/03\", \"04/03\", \"05/03\", \"06/03\", \"07/03\", \"08/03\", \"09/03\", \"10/03\", \"11/03\", \"12/03\", \"13/03\", \"14/03\", \"15/03\", \"16/03\", \"17/03\", \"18/03\", \"19/03\", \"20/03\", \"21/03\", \"22/03\", \"23/03\", \"24/03\", \"25/03\", \"26/03\", \"27/03\", \"28/03\", \"29/03\", \"30/03\", \"31/03\", \"01/04\", \"02/04\", \"03/04\", \"04/04\", \"05/04\", \"06/04\", \"07/04\", \"08/04\", \"09/04\", \"10/04\", \"11/04\", \"12/04\", \"13/04\", \"14/04\", \"15/04\", \"16/04\", \"17/04\", \"18/04\", \"19/04\", \"20/04\", \"21/04\", \"22/04\", \"23/04\", \"24/04\", \"25/04\", \"26/04\", \"27/04\", \"28/04\", \"29/04\", \"30/04\", \"01/05\", \"02/05\", \"03/05\", \"04/05\", \"05/05\", \"06/05\", \"07/05\", \"08/05\", \"09/05\", \"10/05\", \"11/05\", \"12/05\", \"13/05\", \"14/05\", \"15/05\", \"16/05\", \"17/05\", \"18/05\", \"19/05\", \"20/05\", \"21/05\", \"22/05\", \"23/05\", \"24/05\", \"25/05\", \"26/05\", \"27/05\", \"28/05\", \"29/05\", \"30/05\", \"31/05\", \"01/06\", \"02/06\", \"03/06\", \"04/06\", \"05/06\", \"06/06\", \"07/06\", \"08/06\", \"09/06\", \"10/06\", \"11/06\", \"12/06\", \"13/06\", \"14/06\", \"15/06\", \"16/06\", \"17/06\", \"18/06\", \"19/06\", \"20/06\", \"21/06\", \"22/06\", \"23/06\", \"24/06\", \"25/06\", \"26/06\", \"27/06\", \"28/06\", \"29/06\", \"30/06\", \"01/07\", \"02/07\", \"03/07\", \"04/07\", \"05/07\", \"06/07\", \"07/07\", \"08/07\", \"09/07\", \"10/07\", \"11/07\", \"12/07\", \"13/07\"], \"xaxis\": \"x\", \"y\": [1, 3, 4, 7, 7, 7, 7, 9, 31, 45, 66, 73, 84, 89, 99, 117, 190, 228, 331, 352, 387, 418, 464, 495, 530, 624, 695, 743, 821, 892, 966, 1061, 1156, 1212, 1314, 1415, 1544, 1613, 1673, 1735, 1755, 1832, 1884, 1955, 2009, 2081, 2114, 2145, 2170, 2192, 2207, 2224, 2235, 2235, 2245, 2401, 2408, 2463, 2490, 2506, 2517, 2534, 2566, 2576, 2591, 2612, 2620, 2626, 2632, 2642, 2663, 2678, 2691, 2710, 2716, 2726, 2744, 2760, 2770, 2810, 2819, 2834, 2836, 2840, 2850, 2853, 2873, 2876, 2878, 2882, 2889, 2903, 2906, 2909, 2915, 2917, 2918, 2937, 2937, 2952, 2967, 2980, 2997, 3049, 3058, 3068, 3088, 3108, 3112, 3121, 3134, 3148, 3203, 3227, 3237, 3256, 3266, 3287, 3302, 3310, 3321, 3343, 3366, 3376, 3390, 3409, 3432, 3458, 3486, 3511, 3519, 3562, 3589, 3622, 3672, 3732, 3772, 3803, 3826], \"yaxis\": \"y\"}, {\"line\": {\"color\": \"blue\"}, \"name\": \"Daily Cases\", \"opacity\": 0.7, \"type\": \"scatter\", \"x\": [\"26/02\", \"27/02\", \"28/02\", \"29/02\", \"01/03\", \"02/03\", \"03/03\", \"04/03\", \"05/03\", \"06/03\", \"07/03\", \"08/03\", \"09/03\", \"10/03\", \"11/03\", \"12/03\", \"13/03\", \"14/03\", \"15/03\", \"16/03\", \"17/03\", \"18/03\", \"19/03\", \"20/03\", \"21/03\", \"22/03\", \"23/03\", \"24/03\", \"25/03\", \"26/03\", \"27/03\", \"28/03\", \"29/03\", \"30/03\", \"31/03\", \"01/04\", \"02/04\", \"03/04\", \"04/04\", \"05/04\", \"06/04\", \"07/04\", \"08/04\", \"09/04\", \"10/04\", \"11/04\", \"12/04\", \"13/04\", \"14/04\", \"15/04\", \"16/04\", \"17/04\", \"18/04\", \"19/04\", \"20/04\", \"21/04\", \"22/04\", \"23/04\", \"24/04\", \"25/04\", \"26/04\", \"27/04\", \"28/04\", \"29/04\", \"30/04\", \"01/05\", \"02/05\", \"03/05\", \"04/05\", \"05/05\", \"06/05\", \"07/05\", \"08/05\", \"09/05\", \"10/05\", \"11/05\", \"12/05\", \"13/05\", \"14/05\", \"15/05\", \"16/05\", \"17/05\", \"18/05\", \"19/05\", \"20/05\", \"21/05\", \"22/05\", \"23/05\", \"24/05\", \"25/05\", \"26/05\", \"27/05\", \"28/05\", \"29/05\", \"30/05\", \"31/05\", \"01/06\", \"02/06\", \"03/06\", \"04/06\", \"05/06\", \"06/06\", \"07/06\", \"08/06\", \"09/06\", \"10/06\", \"11/06\", \"12/06\", \"13/06\", \"14/06\", \"15/06\", \"16/06\", \"17/06\", \"18/06\", \"19/06\", \"20/06\", \"21/06\", \"22/06\", \"23/06\", \"24/06\", \"25/06\", \"26/06\", \"27/06\", \"28/06\", \"29/06\", \"30/06\", \"01/07\", \"02/07\", \"03/07\", \"04/07\", \"05/07\", \"06/07\", \"07/07\", \"08/07\", \"09/07\", \"10/07\", \"11/07\", \"12/07\", \"13/07\"], \"xaxis\": \"x\", \"y\": [1, 2, 1, 3, 0, 0, 0, 2, 22, 14, 21, 7, 11, 5, 10, 18, 73, 38, 103, 21, 35, 31, 46, 31, 35, 94, 71, 48, 78, 71, 74, 95, 95, 56, 102, 101, 129, 69, 60, 62, 20, 77, 52, 71, 54, 72, 33, 31, 25, 22, 15, 17, 11, 0, 10, 156, 7, 55, 27, 16, 11, 17, 32, 10, 15, 21, 8, 6, 6, 10, 21, 15, 13, 19, 6, 10, 18, 16, 10, 40, 9, 15, 2, 4, 10, 3, 21, 3, 2, 4, 7, 18, 3, 5, 7, 2, 2, 19, 0, 15, 15, 13, 17, 52, 9, 11, 20, 20, 4, 9, 13, 15, 55, 24, 10, 19, 10, 21, 16, 8, 13, 22, 23, 10, 15, 20, 23, 28, 28, 25, 9, 43, 27, 33, 50, 60, 41, 31, 24], \"yaxis\": \"y2\"}],\n",
       "                        {\"hovermode\": \"x unified\", \"template\": {\"data\": {\"bar\": [{\"error_x\": {\"color\": \"#2a3f5f\"}, \"error_y\": {\"color\": \"#2a3f5f\"}, \"marker\": {\"line\": {\"color\": \"#E5ECF6\", \"width\": 0.5}}, \"type\": \"bar\"}], \"barpolar\": [{\"marker\": {\"line\": {\"color\": \"#E5ECF6\", \"width\": 0.5}}, \"type\": \"barpolar\"}], \"carpet\": [{\"aaxis\": {\"endlinecolor\": \"#2a3f5f\", \"gridcolor\": \"white\", \"linecolor\": \"white\", \"minorgridcolor\": \"white\", \"startlinecolor\": \"#2a3f5f\"}, \"baxis\": {\"endlinecolor\": \"#2a3f5f\", \"gridcolor\": \"white\", \"linecolor\": \"white\", \"minorgridcolor\": \"white\", \"startlinecolor\": \"#2a3f5f\"}, \"type\": \"carpet\"}], \"choropleth\": [{\"colorbar\": {\"outlinewidth\": 0, \"ticks\": \"\"}, \"type\": \"choropleth\"}], \"contour\": [{\"colorbar\": {\"outlinewidth\": 0, \"ticks\": \"\"}, \"colorscale\": [[0.0, \"#0d0887\"], [0.1111111111111111, \"#46039f\"], [0.2222222222222222, \"#7201a8\"], [0.3333333333333333, \"#9c179e\"], [0.4444444444444444, \"#bd3786\"], [0.5555555555555556, \"#d8576b\"], [0.6666666666666666, \"#ed7953\"], [0.7777777777777778, \"#fb9f3a\"], [0.8888888888888888, \"#fdca26\"], [1.0, \"#f0f921\"]], \"type\": \"contour\"}], \"contourcarpet\": [{\"colorbar\": {\"outlinewidth\": 0, \"ticks\": \"\"}, \"type\": \"contourcarpet\"}], \"heatmap\": [{\"colorbar\": {\"outlinewidth\": 0, \"ticks\": \"\"}, \"colorscale\": [[0.0, \"#0d0887\"], [0.1111111111111111, \"#46039f\"], [0.2222222222222222, \"#7201a8\"], [0.3333333333333333, \"#9c179e\"], [0.4444444444444444, \"#bd3786\"], [0.5555555555555556, \"#d8576b\"], [0.6666666666666666, \"#ed7953\"], [0.7777777777777778, \"#fb9f3a\"], [0.8888888888888888, \"#fdca26\"], [1.0, \"#f0f921\"]], \"type\": \"heatmap\"}], \"heatmapgl\": [{\"colorbar\": {\"outlinewidth\": 0, \"ticks\": \"\"}, \"colorscale\": [[0.0, \"#0d0887\"], [0.1111111111111111, \"#46039f\"], [0.2222222222222222, \"#7201a8\"], [0.3333333333333333, \"#9c179e\"], [0.4444444444444444, \"#bd3786\"], [0.5555555555555556, \"#d8576b\"], [0.6666666666666666, \"#ed7953\"], [0.7777777777777778, \"#fb9f3a\"], [0.8888888888888888, \"#fdca26\"], [1.0, \"#f0f921\"]], \"type\": \"heatmapgl\"}], \"histogram\": [{\"marker\": {\"colorbar\": {\"outlinewidth\": 0, \"ticks\": \"\"}}, \"type\": \"histogram\"}], \"histogram2d\": [{\"colorbar\": {\"outlinewidth\": 0, \"ticks\": \"\"}, \"colorscale\": [[0.0, \"#0d0887\"], [0.1111111111111111, \"#46039f\"], [0.2222222222222222, \"#7201a8\"], [0.3333333333333333, \"#9c179e\"], [0.4444444444444444, \"#bd3786\"], [0.5555555555555556, \"#d8576b\"], [0.6666666666666666, \"#ed7953\"], [0.7777777777777778, \"#fb9f3a\"], [0.8888888888888888, \"#fdca26\"], [1.0, \"#f0f921\"]], \"type\": \"histogram2d\"}], \"histogram2dcontour\": [{\"colorbar\": {\"outlinewidth\": 0, \"ticks\": \"\"}, \"colorscale\": [[0.0, \"#0d0887\"], [0.1111111111111111, \"#46039f\"], [0.2222222222222222, \"#7201a8\"], [0.3333333333333333, \"#9c179e\"], [0.4444444444444444, \"#bd3786\"], [0.5555555555555556, \"#d8576b\"], [0.6666666666666666, \"#ed7953\"], [0.7777777777777778, \"#fb9f3a\"], [0.8888888888888888, \"#fdca26\"], [1.0, \"#f0f921\"]], \"type\": \"histogram2dcontour\"}], \"mesh3d\": [{\"colorbar\": {\"outlinewidth\": 0, \"ticks\": \"\"}, \"type\": \"mesh3d\"}], \"parcoords\": [{\"line\": {\"colorbar\": {\"outlinewidth\": 0, \"ticks\": \"\"}}, \"type\": \"parcoords\"}], \"pie\": [{\"automargin\": true, \"type\": \"pie\"}], \"scatter\": [{\"marker\": {\"colorbar\": {\"outlinewidth\": 0, \"ticks\": \"\"}}, \"type\": \"scatter\"}], \"scatter3d\": [{\"line\": {\"colorbar\": {\"outlinewidth\": 0, \"ticks\": \"\"}}, \"marker\": {\"colorbar\": {\"outlinewidth\": 0, \"ticks\": \"\"}}, \"type\": \"scatter3d\"}], \"scattercarpet\": [{\"marker\": {\"colorbar\": {\"outlinewidth\": 0, \"ticks\": \"\"}}, \"type\": \"scattercarpet\"}], \"scattergeo\": [{\"marker\": {\"colorbar\": {\"outlinewidth\": 0, \"ticks\": \"\"}}, \"type\": \"scattergeo\"}], \"scattergl\": [{\"marker\": {\"colorbar\": {\"outlinewidth\": 0, \"ticks\": \"\"}}, \"type\": \"scattergl\"}], \"scattermapbox\": [{\"marker\": {\"colorbar\": {\"outlinewidth\": 0, \"ticks\": \"\"}}, \"type\": \"scattermapbox\"}], \"scatterpolar\": [{\"marker\": {\"colorbar\": {\"outlinewidth\": 0, \"ticks\": \"\"}}, \"type\": \"scatterpolar\"}], \"scatterpolargl\": [{\"marker\": {\"colorbar\": {\"outlinewidth\": 0, \"ticks\": \"\"}}, \"type\": \"scatterpolargl\"}], \"scatterternary\": [{\"marker\": {\"colorbar\": {\"outlinewidth\": 0, \"ticks\": \"\"}}, \"type\": \"scatterternary\"}], \"surface\": [{\"colorbar\": {\"outlinewidth\": 0, \"ticks\": \"\"}, \"colorscale\": [[0.0, \"#0d0887\"], [0.1111111111111111, \"#46039f\"], [0.2222222222222222, \"#7201a8\"], [0.3333333333333333, \"#9c179e\"], [0.4444444444444444, \"#bd3786\"], [0.5555555555555556, \"#d8576b\"], [0.6666666666666666, \"#ed7953\"], [0.7777777777777778, \"#fb9f3a\"], [0.8888888888888888, \"#fdca26\"], [1.0, \"#f0f921\"]], \"type\": \"surface\"}], \"table\": [{\"cells\": {\"fill\": {\"color\": \"#EBF0F8\"}, \"line\": {\"color\": \"white\"}}, \"header\": {\"fill\": {\"color\": \"#C8D4E3\"}, \"line\": {\"color\": \"white\"}}, \"type\": \"table\"}]}, \"layout\": {\"annotationdefaults\": {\"arrowcolor\": \"#2a3f5f\", \"arrowhead\": 0, \"arrowwidth\": 1}, \"coloraxis\": {\"colorbar\": {\"outlinewidth\": 0, \"ticks\": \"\"}}, \"colorscale\": {\"diverging\": [[0, \"#8e0152\"], [0.1, \"#c51b7d\"], [0.2, \"#de77ae\"], [0.3, \"#f1b6da\"], [0.4, \"#fde0ef\"], [0.5, \"#f7f7f7\"], [0.6, \"#e6f5d0\"], [0.7, \"#b8e186\"], [0.8, \"#7fbc41\"], [0.9, \"#4d9221\"], [1, \"#276419\"]], \"sequential\": [[0.0, \"#0d0887\"], [0.1111111111111111, \"#46039f\"], [0.2222222222222222, \"#7201a8\"], [0.3333333333333333, \"#9c179e\"], [0.4444444444444444, \"#bd3786\"], [0.5555555555555556, \"#d8576b\"], [0.6666666666666666, \"#ed7953\"], [0.7777777777777778, \"#fb9f3a\"], [0.8888888888888888, \"#fdca26\"], [1.0, \"#f0f921\"]], \"sequentialminus\": [[0.0, \"#0d0887\"], [0.1111111111111111, \"#46039f\"], [0.2222222222222222, \"#7201a8\"], [0.3333333333333333, \"#9c179e\"], [0.4444444444444444, \"#bd3786\"], [0.5555555555555556, \"#d8576b\"], [0.6666666666666666, \"#ed7953\"], [0.7777777777777778, \"#fb9f3a\"], [0.8888888888888888, \"#fdca26\"], [1.0, \"#f0f921\"]]}, \"colorway\": [\"#636efa\", \"#EF553B\", \"#00cc96\", \"#ab63fa\", \"#FFA15A\", \"#19d3f3\", \"#FF6692\", \"#B6E880\", \"#FF97FF\", \"#FECB52\"], \"font\": {\"color\": \"#2a3f5f\"}, \"geo\": {\"bgcolor\": \"white\", \"lakecolor\": \"white\", \"landcolor\": \"#E5ECF6\", \"showlakes\": true, \"showland\": true, \"subunitcolor\": \"white\"}, \"hoverlabel\": {\"align\": \"left\"}, \"hovermode\": \"closest\", \"mapbox\": {\"style\": \"light\"}, \"paper_bgcolor\": \"white\", \"plot_bgcolor\": \"#E5ECF6\", \"polar\": {\"angularaxis\": {\"gridcolor\": \"white\", \"linecolor\": \"white\", \"ticks\": \"\"}, \"bgcolor\": \"#E5ECF6\", \"radialaxis\": {\"gridcolor\": \"white\", \"linecolor\": \"white\", \"ticks\": \"\"}}, \"scene\": {\"xaxis\": {\"backgroundcolor\": \"#E5ECF6\", \"gridcolor\": \"white\", \"gridwidth\": 2, \"linecolor\": \"white\", \"showbackground\": true, \"ticks\": \"\", \"zerolinecolor\": \"white\"}, \"yaxis\": {\"backgroundcolor\": \"#E5ECF6\", \"gridcolor\": \"white\", \"gridwidth\": 2, \"linecolor\": \"white\", \"showbackground\": true, \"ticks\": \"\", \"zerolinecolor\": \"white\"}, \"zaxis\": {\"backgroundcolor\": \"#E5ECF6\", \"gridcolor\": \"white\", \"gridwidth\": 2, \"linecolor\": \"white\", \"showbackground\": true, \"ticks\": \"\", \"zerolinecolor\": \"white\"}}, \"shapedefaults\": {\"line\": {\"color\": \"#2a3f5f\"}}, \"ternary\": {\"aaxis\": {\"gridcolor\": \"white\", \"linecolor\": \"white\", \"ticks\": \"\"}, \"baxis\": {\"gridcolor\": \"white\", \"linecolor\": \"white\", \"ticks\": \"\"}, \"bgcolor\": \"#E5ECF6\", \"caxis\": {\"gridcolor\": \"white\", \"linecolor\": \"white\", \"ticks\": \"\"}}, \"title\": {\"x\": 0.05}, \"xaxis\": {\"automargin\": true, \"gridcolor\": \"white\", \"linecolor\": \"white\", \"ticks\": \"\", \"title\": {\"standoff\": 15}, \"zerolinecolor\": \"white\", \"zerolinewidth\": 2}, \"yaxis\": {\"automargin\": true, \"gridcolor\": \"white\", \"linecolor\": \"white\", \"ticks\": \"\", \"title\": {\"standoff\": 15}, \"zerolinecolor\": \"white\", \"zerolinewidth\": 2}}}, \"title\": {\"text\": \"<b>Total and Daily Cases of Covid_19 in Greece (139 days)</b>\"}, \"xaxis\": {\"anchor\": \"y\", \"domain\": [0.0, 0.94], \"title\": {\"text\": \"Dates\"}}, \"yaxis\": {\"anchor\": \"x\", \"domain\": [0.0, 1.0], \"title\": {\"text\": \"Number of Total Cases\"}}, \"yaxis2\": {\"anchor\": \"x\", \"overlaying\": \"y\", \"side\": \"right\", \"title\": {\"text\": \"Number of Daily Cases\"}}},\n",
       "                        {\"responsive\": true}\n",
       "                    ).then(function(){\n",
       "                            \n",
       "var gd = document.getElementById('5c052c9e-f7bf-4ab7-aad0-6b2c4cff1a33');\n",
       "var x = new MutationObserver(function (mutations, observer) {{\n",
       "        var display = window.getComputedStyle(gd).display;\n",
       "        if (!display || display === 'none') {{\n",
       "            console.log([gd, 'removed!']);\n",
       "            Plotly.purge(gd);\n",
       "            observer.disconnect();\n",
       "        }}\n",
       "}});\n",
       "\n",
       "// Listen for the removal of the full notebook cells\n",
       "var notebookContainer = gd.closest('#notebook-container');\n",
       "if (notebookContainer) {{\n",
       "    x.observe(notebookContainer, {childList: true});\n",
       "}}\n",
       "\n",
       "// Listen for the clearing of the current output cell\n",
       "var outputEl = gd.closest('.output');\n",
       "if (outputEl) {{\n",
       "    x.observe(outputEl, {childList: true});\n",
       "}}\n",
       "\n",
       "                        })\n",
       "                };\n",
       "                });\n",
       "            </script>\n",
       "        </div>"
      ]
     },
     "metadata": {},
     "output_type": "display_data"
    }
   ],
   "source": [
    "# Figure with secondary y-axis\n",
    "fig = make_subplots(specs=[[{\"secondary_y\": True}]])\n",
    "\n",
    "# Traces - Bars and line\n",
    "fig.add_trace(\n",
    "    go.Scatter(x=df.index, y=df['Total Cases'], name='Total Cases', line_width=4, line_color='orange'),\n",
    "    secondary_y=False,\n",
    ")\n",
    "\n",
    "fig.add_trace(\n",
    "    go.Scatter(x=df.index, y=df['Daily Cases'], name='Daily Cases', line_color='blue',opacity = 0.7),\n",
    "    secondary_y=True,\n",
    ")\n",
    "\n",
    "# Figure Title\n",
    "fig.update_layout(\n",
    "    title_text='<b>Total and Daily Cases of Covid_19 in Greece ('+str(len(df['Total Cases']))+' days)</b>'\n",
    ")\n",
    "\n",
    "# x-axis and y-axes titles\n",
    "fig.update_xaxes(title_text='Dates')\n",
    "fig.update_yaxes(title_text='Number of Total Cases', secondary_y=False)\n",
    "fig.update_yaxes(title_text='Number of Daily Cases', secondary_y=True)\n",
    "\n",
    "fig.update_layout(hovermode='x unified')\n",
    "\n",
    "fig.show()"
   ]
  },
  {
   "cell_type": "code",
   "execution_count": 17,
   "metadata": {},
   "outputs": [
    {
     "data": {
      "application/vnd.plotly.v1+json": {
       "config": {
        "plotlyServerURL": "https://plot.ly"
       },
       "data": [
        {
         "line": {
          "color": "orange",
          "width": 4
         },
         "name": "Total Cases",
         "type": "scatter",
         "x": [
          "26/02",
          "27/02",
          "28/02",
          "29/02",
          "01/03",
          "02/03",
          "03/03",
          "04/03",
          "05/03",
          "06/03",
          "07/03",
          "08/03",
          "09/03",
          "10/03",
          "11/03",
          "12/03",
          "13/03",
          "14/03",
          "15/03",
          "16/03",
          "17/03",
          "18/03",
          "19/03",
          "20/03",
          "21/03",
          "22/03",
          "23/03",
          "24/03",
          "25/03",
          "26/03",
          "27/03",
          "28/03",
          "29/03",
          "30/03",
          "31/03",
          "01/04",
          "02/04",
          "03/04",
          "04/04",
          "05/04",
          "06/04",
          "07/04",
          "08/04",
          "09/04",
          "10/04",
          "11/04",
          "12/04",
          "13/04",
          "14/04",
          "15/04",
          "16/04",
          "17/04",
          "18/04",
          "19/04",
          "20/04",
          "21/04",
          "22/04",
          "23/04",
          "24/04",
          "25/04",
          "26/04",
          "27/04",
          "28/04",
          "29/04",
          "30/04",
          "01/05",
          "02/05",
          "03/05",
          "04/05",
          "05/05",
          "06/05",
          "07/05",
          "08/05",
          "09/05",
          "10/05",
          "11/05",
          "12/05",
          "13/05",
          "14/05",
          "15/05",
          "16/05",
          "17/05",
          "18/05",
          "19/05",
          "20/05",
          "21/05",
          "22/05",
          "23/05",
          "24/05",
          "25/05",
          "26/05",
          "27/05",
          "28/05",
          "29/05",
          "30/05",
          "31/05",
          "01/06",
          "02/06",
          "03/06",
          "04/06",
          "05/06",
          "06/06",
          "07/06",
          "08/06",
          "09/06",
          "10/06",
          "11/06",
          "12/06",
          "13/06",
          "14/06",
          "15/06",
          "16/06",
          "17/06",
          "18/06",
          "19/06",
          "20/06",
          "21/06",
          "22/06",
          "23/06",
          "24/06",
          "25/06",
          "26/06",
          "27/06",
          "28/06",
          "29/06",
          "30/06",
          "01/07",
          "02/07",
          "03/07",
          "04/07",
          "05/07",
          "06/07",
          "07/07",
          "08/07",
          "09/07",
          "10/07",
          "11/07",
          "12/07",
          "13/07"
         ],
         "xaxis": "x",
         "y": [
          1,
          3,
          4,
          7,
          7,
          7,
          7,
          9,
          31,
          45,
          66,
          73,
          84,
          89,
          99,
          117,
          190,
          228,
          331,
          352,
          387,
          418,
          464,
          495,
          530,
          624,
          695,
          743,
          821,
          892,
          966,
          1061,
          1156,
          1212,
          1314,
          1415,
          1544,
          1613,
          1673,
          1735,
          1755,
          1832,
          1884,
          1955,
          2009,
          2081,
          2114,
          2145,
          2170,
          2192,
          2207,
          2224,
          2235,
          2235,
          2245,
          2401,
          2408,
          2463,
          2490,
          2506,
          2517,
          2534,
          2566,
          2576,
          2591,
          2612,
          2620,
          2626,
          2632,
          2642,
          2663,
          2678,
          2691,
          2710,
          2716,
          2726,
          2744,
          2760,
          2770,
          2810,
          2819,
          2834,
          2836,
          2840,
          2850,
          2853,
          2873,
          2876,
          2878,
          2882,
          2889,
          2903,
          2906,
          2909,
          2915,
          2917,
          2918,
          2937,
          2937,
          2952,
          2967,
          2980,
          2997,
          3049,
          3058,
          3068,
          3088,
          3108,
          3112,
          3121,
          3134,
          3148,
          3203,
          3227,
          3237,
          3256,
          3266,
          3287,
          3302,
          3310,
          3321,
          3343,
          3366,
          3376,
          3390,
          3409,
          3432,
          3458,
          3486,
          3511,
          3519,
          3562,
          3589,
          3622,
          3672,
          3732,
          3772,
          3803,
          3826
         ],
         "yaxis": "y"
        },
        {
         "marker": {
          "color": "blue"
         },
         "name": "Daily Cases",
         "opacity": 0.7,
         "type": "bar",
         "x": [
          "26/02",
          "27/02",
          "28/02",
          "29/02",
          "01/03",
          "02/03",
          "03/03",
          "04/03",
          "05/03",
          "06/03",
          "07/03",
          "08/03",
          "09/03",
          "10/03",
          "11/03",
          "12/03",
          "13/03",
          "14/03",
          "15/03",
          "16/03",
          "17/03",
          "18/03",
          "19/03",
          "20/03",
          "21/03",
          "22/03",
          "23/03",
          "24/03",
          "25/03",
          "26/03",
          "27/03",
          "28/03",
          "29/03",
          "30/03",
          "31/03",
          "01/04",
          "02/04",
          "03/04",
          "04/04",
          "05/04",
          "06/04",
          "07/04",
          "08/04",
          "09/04",
          "10/04",
          "11/04",
          "12/04",
          "13/04",
          "14/04",
          "15/04",
          "16/04",
          "17/04",
          "18/04",
          "19/04",
          "20/04",
          "21/04",
          "22/04",
          "23/04",
          "24/04",
          "25/04",
          "26/04",
          "27/04",
          "28/04",
          "29/04",
          "30/04",
          "01/05",
          "02/05",
          "03/05",
          "04/05",
          "05/05",
          "06/05",
          "07/05",
          "08/05",
          "09/05",
          "10/05",
          "11/05",
          "12/05",
          "13/05",
          "14/05",
          "15/05",
          "16/05",
          "17/05",
          "18/05",
          "19/05",
          "20/05",
          "21/05",
          "22/05",
          "23/05",
          "24/05",
          "25/05",
          "26/05",
          "27/05",
          "28/05",
          "29/05",
          "30/05",
          "31/05",
          "01/06",
          "02/06",
          "03/06",
          "04/06",
          "05/06",
          "06/06",
          "07/06",
          "08/06",
          "09/06",
          "10/06",
          "11/06",
          "12/06",
          "13/06",
          "14/06",
          "15/06",
          "16/06",
          "17/06",
          "18/06",
          "19/06",
          "20/06",
          "21/06",
          "22/06",
          "23/06",
          "24/06",
          "25/06",
          "26/06",
          "27/06",
          "28/06",
          "29/06",
          "30/06",
          "01/07",
          "02/07",
          "03/07",
          "04/07",
          "05/07",
          "06/07",
          "07/07",
          "08/07",
          "09/07",
          "10/07",
          "11/07",
          "12/07",
          "13/07"
         ],
         "xaxis": "x",
         "y": [
          1,
          2,
          1,
          3,
          0,
          0,
          0,
          2,
          22,
          14,
          21,
          7,
          11,
          5,
          10,
          18,
          73,
          38,
          103,
          21,
          35,
          31,
          46,
          31,
          35,
          94,
          71,
          48,
          78,
          71,
          74,
          95,
          95,
          56,
          102,
          101,
          129,
          69,
          60,
          62,
          20,
          77,
          52,
          71,
          54,
          72,
          33,
          31,
          25,
          22,
          15,
          17,
          11,
          0,
          10,
          156,
          7,
          55,
          27,
          16,
          11,
          17,
          32,
          10,
          15,
          21,
          8,
          6,
          6,
          10,
          21,
          15,
          13,
          19,
          6,
          10,
          18,
          16,
          10,
          40,
          9,
          15,
          2,
          4,
          10,
          3,
          21,
          3,
          2,
          4,
          7,
          18,
          3,
          5,
          7,
          2,
          2,
          19,
          0,
          15,
          15,
          13,
          17,
          52,
          9,
          11,
          20,
          20,
          4,
          9,
          13,
          15,
          55,
          24,
          10,
          19,
          10,
          21,
          16,
          8,
          13,
          22,
          23,
          10,
          15,
          20,
          23,
          28,
          28,
          25,
          9,
          43,
          27,
          33,
          50,
          60,
          41,
          31,
          24
         ],
         "yaxis": "y2"
        }
       ],
       "layout": {
        "hovermode": "x unified",
        "template": {
         "data": {
          "bar": [
           {
            "error_x": {
             "color": "#2a3f5f"
            },
            "error_y": {
             "color": "#2a3f5f"
            },
            "marker": {
             "line": {
              "color": "#E5ECF6",
              "width": 0.5
             }
            },
            "type": "bar"
           }
          ],
          "barpolar": [
           {
            "marker": {
             "line": {
              "color": "#E5ECF6",
              "width": 0.5
             }
            },
            "type": "barpolar"
           }
          ],
          "carpet": [
           {
            "aaxis": {
             "endlinecolor": "#2a3f5f",
             "gridcolor": "white",
             "linecolor": "white",
             "minorgridcolor": "white",
             "startlinecolor": "#2a3f5f"
            },
            "baxis": {
             "endlinecolor": "#2a3f5f",
             "gridcolor": "white",
             "linecolor": "white",
             "minorgridcolor": "white",
             "startlinecolor": "#2a3f5f"
            },
            "type": "carpet"
           }
          ],
          "choropleth": [
           {
            "colorbar": {
             "outlinewidth": 0,
             "ticks": ""
            },
            "type": "choropleth"
           }
          ],
          "contour": [
           {
            "colorbar": {
             "outlinewidth": 0,
             "ticks": ""
            },
            "colorscale": [
             [
              0,
              "#0d0887"
             ],
             [
              0.1111111111111111,
              "#46039f"
             ],
             [
              0.2222222222222222,
              "#7201a8"
             ],
             [
              0.3333333333333333,
              "#9c179e"
             ],
             [
              0.4444444444444444,
              "#bd3786"
             ],
             [
              0.5555555555555556,
              "#d8576b"
             ],
             [
              0.6666666666666666,
              "#ed7953"
             ],
             [
              0.7777777777777778,
              "#fb9f3a"
             ],
             [
              0.8888888888888888,
              "#fdca26"
             ],
             [
              1,
              "#f0f921"
             ]
            ],
            "type": "contour"
           }
          ],
          "contourcarpet": [
           {
            "colorbar": {
             "outlinewidth": 0,
             "ticks": ""
            },
            "type": "contourcarpet"
           }
          ],
          "heatmap": [
           {
            "colorbar": {
             "outlinewidth": 0,
             "ticks": ""
            },
            "colorscale": [
             [
              0,
              "#0d0887"
             ],
             [
              0.1111111111111111,
              "#46039f"
             ],
             [
              0.2222222222222222,
              "#7201a8"
             ],
             [
              0.3333333333333333,
              "#9c179e"
             ],
             [
              0.4444444444444444,
              "#bd3786"
             ],
             [
              0.5555555555555556,
              "#d8576b"
             ],
             [
              0.6666666666666666,
              "#ed7953"
             ],
             [
              0.7777777777777778,
              "#fb9f3a"
             ],
             [
              0.8888888888888888,
              "#fdca26"
             ],
             [
              1,
              "#f0f921"
             ]
            ],
            "type": "heatmap"
           }
          ],
          "heatmapgl": [
           {
            "colorbar": {
             "outlinewidth": 0,
             "ticks": ""
            },
            "colorscale": [
             [
              0,
              "#0d0887"
             ],
             [
              0.1111111111111111,
              "#46039f"
             ],
             [
              0.2222222222222222,
              "#7201a8"
             ],
             [
              0.3333333333333333,
              "#9c179e"
             ],
             [
              0.4444444444444444,
              "#bd3786"
             ],
             [
              0.5555555555555556,
              "#d8576b"
             ],
             [
              0.6666666666666666,
              "#ed7953"
             ],
             [
              0.7777777777777778,
              "#fb9f3a"
             ],
             [
              0.8888888888888888,
              "#fdca26"
             ],
             [
              1,
              "#f0f921"
             ]
            ],
            "type": "heatmapgl"
           }
          ],
          "histogram": [
           {
            "marker": {
             "colorbar": {
              "outlinewidth": 0,
              "ticks": ""
             }
            },
            "type": "histogram"
           }
          ],
          "histogram2d": [
           {
            "colorbar": {
             "outlinewidth": 0,
             "ticks": ""
            },
            "colorscale": [
             [
              0,
              "#0d0887"
             ],
             [
              0.1111111111111111,
              "#46039f"
             ],
             [
              0.2222222222222222,
              "#7201a8"
             ],
             [
              0.3333333333333333,
              "#9c179e"
             ],
             [
              0.4444444444444444,
              "#bd3786"
             ],
             [
              0.5555555555555556,
              "#d8576b"
             ],
             [
              0.6666666666666666,
              "#ed7953"
             ],
             [
              0.7777777777777778,
              "#fb9f3a"
             ],
             [
              0.8888888888888888,
              "#fdca26"
             ],
             [
              1,
              "#f0f921"
             ]
            ],
            "type": "histogram2d"
           }
          ],
          "histogram2dcontour": [
           {
            "colorbar": {
             "outlinewidth": 0,
             "ticks": ""
            },
            "colorscale": [
             [
              0,
              "#0d0887"
             ],
             [
              0.1111111111111111,
              "#46039f"
             ],
             [
              0.2222222222222222,
              "#7201a8"
             ],
             [
              0.3333333333333333,
              "#9c179e"
             ],
             [
              0.4444444444444444,
              "#bd3786"
             ],
             [
              0.5555555555555556,
              "#d8576b"
             ],
             [
              0.6666666666666666,
              "#ed7953"
             ],
             [
              0.7777777777777778,
              "#fb9f3a"
             ],
             [
              0.8888888888888888,
              "#fdca26"
             ],
             [
              1,
              "#f0f921"
             ]
            ],
            "type": "histogram2dcontour"
           }
          ],
          "mesh3d": [
           {
            "colorbar": {
             "outlinewidth": 0,
             "ticks": ""
            },
            "type": "mesh3d"
           }
          ],
          "parcoords": [
           {
            "line": {
             "colorbar": {
              "outlinewidth": 0,
              "ticks": ""
             }
            },
            "type": "parcoords"
           }
          ],
          "pie": [
           {
            "automargin": true,
            "type": "pie"
           }
          ],
          "scatter": [
           {
            "marker": {
             "colorbar": {
              "outlinewidth": 0,
              "ticks": ""
             }
            },
            "type": "scatter"
           }
          ],
          "scatter3d": [
           {
            "line": {
             "colorbar": {
              "outlinewidth": 0,
              "ticks": ""
             }
            },
            "marker": {
             "colorbar": {
              "outlinewidth": 0,
              "ticks": ""
             }
            },
            "type": "scatter3d"
           }
          ],
          "scattercarpet": [
           {
            "marker": {
             "colorbar": {
              "outlinewidth": 0,
              "ticks": ""
             }
            },
            "type": "scattercarpet"
           }
          ],
          "scattergeo": [
           {
            "marker": {
             "colorbar": {
              "outlinewidth": 0,
              "ticks": ""
             }
            },
            "type": "scattergeo"
           }
          ],
          "scattergl": [
           {
            "marker": {
             "colorbar": {
              "outlinewidth": 0,
              "ticks": ""
             }
            },
            "type": "scattergl"
           }
          ],
          "scattermapbox": [
           {
            "marker": {
             "colorbar": {
              "outlinewidth": 0,
              "ticks": ""
             }
            },
            "type": "scattermapbox"
           }
          ],
          "scatterpolar": [
           {
            "marker": {
             "colorbar": {
              "outlinewidth": 0,
              "ticks": ""
             }
            },
            "type": "scatterpolar"
           }
          ],
          "scatterpolargl": [
           {
            "marker": {
             "colorbar": {
              "outlinewidth": 0,
              "ticks": ""
             }
            },
            "type": "scatterpolargl"
           }
          ],
          "scatterternary": [
           {
            "marker": {
             "colorbar": {
              "outlinewidth": 0,
              "ticks": ""
             }
            },
            "type": "scatterternary"
           }
          ],
          "surface": [
           {
            "colorbar": {
             "outlinewidth": 0,
             "ticks": ""
            },
            "colorscale": [
             [
              0,
              "#0d0887"
             ],
             [
              0.1111111111111111,
              "#46039f"
             ],
             [
              0.2222222222222222,
              "#7201a8"
             ],
             [
              0.3333333333333333,
              "#9c179e"
             ],
             [
              0.4444444444444444,
              "#bd3786"
             ],
             [
              0.5555555555555556,
              "#d8576b"
             ],
             [
              0.6666666666666666,
              "#ed7953"
             ],
             [
              0.7777777777777778,
              "#fb9f3a"
             ],
             [
              0.8888888888888888,
              "#fdca26"
             ],
             [
              1,
              "#f0f921"
             ]
            ],
            "type": "surface"
           }
          ],
          "table": [
           {
            "cells": {
             "fill": {
              "color": "#EBF0F8"
             },
             "line": {
              "color": "white"
             }
            },
            "header": {
             "fill": {
              "color": "#C8D4E3"
             },
             "line": {
              "color": "white"
             }
            },
            "type": "table"
           }
          ]
         },
         "layout": {
          "annotationdefaults": {
           "arrowcolor": "#2a3f5f",
           "arrowhead": 0,
           "arrowwidth": 1
          },
          "coloraxis": {
           "colorbar": {
            "outlinewidth": 0,
            "ticks": ""
           }
          },
          "colorscale": {
           "diverging": [
            [
             0,
             "#8e0152"
            ],
            [
             0.1,
             "#c51b7d"
            ],
            [
             0.2,
             "#de77ae"
            ],
            [
             0.3,
             "#f1b6da"
            ],
            [
             0.4,
             "#fde0ef"
            ],
            [
             0.5,
             "#f7f7f7"
            ],
            [
             0.6,
             "#e6f5d0"
            ],
            [
             0.7,
             "#b8e186"
            ],
            [
             0.8,
             "#7fbc41"
            ],
            [
             0.9,
             "#4d9221"
            ],
            [
             1,
             "#276419"
            ]
           ],
           "sequential": [
            [
             0,
             "#0d0887"
            ],
            [
             0.1111111111111111,
             "#46039f"
            ],
            [
             0.2222222222222222,
             "#7201a8"
            ],
            [
             0.3333333333333333,
             "#9c179e"
            ],
            [
             0.4444444444444444,
             "#bd3786"
            ],
            [
             0.5555555555555556,
             "#d8576b"
            ],
            [
             0.6666666666666666,
             "#ed7953"
            ],
            [
             0.7777777777777778,
             "#fb9f3a"
            ],
            [
             0.8888888888888888,
             "#fdca26"
            ],
            [
             1,
             "#f0f921"
            ]
           ],
           "sequentialminus": [
            [
             0,
             "#0d0887"
            ],
            [
             0.1111111111111111,
             "#46039f"
            ],
            [
             0.2222222222222222,
             "#7201a8"
            ],
            [
             0.3333333333333333,
             "#9c179e"
            ],
            [
             0.4444444444444444,
             "#bd3786"
            ],
            [
             0.5555555555555556,
             "#d8576b"
            ],
            [
             0.6666666666666666,
             "#ed7953"
            ],
            [
             0.7777777777777778,
             "#fb9f3a"
            ],
            [
             0.8888888888888888,
             "#fdca26"
            ],
            [
             1,
             "#f0f921"
            ]
           ]
          },
          "colorway": [
           "#636efa",
           "#EF553B",
           "#00cc96",
           "#ab63fa",
           "#FFA15A",
           "#19d3f3",
           "#FF6692",
           "#B6E880",
           "#FF97FF",
           "#FECB52"
          ],
          "font": {
           "color": "#2a3f5f"
          },
          "geo": {
           "bgcolor": "white",
           "lakecolor": "white",
           "landcolor": "#E5ECF6",
           "showlakes": true,
           "showland": true,
           "subunitcolor": "white"
          },
          "hoverlabel": {
           "align": "left"
          },
          "hovermode": "closest",
          "mapbox": {
           "style": "light"
          },
          "paper_bgcolor": "white",
          "plot_bgcolor": "#E5ECF6",
          "polar": {
           "angularaxis": {
            "gridcolor": "white",
            "linecolor": "white",
            "ticks": ""
           },
           "bgcolor": "#E5ECF6",
           "radialaxis": {
            "gridcolor": "white",
            "linecolor": "white",
            "ticks": ""
           }
          },
          "scene": {
           "xaxis": {
            "backgroundcolor": "#E5ECF6",
            "gridcolor": "white",
            "gridwidth": 2,
            "linecolor": "white",
            "showbackground": true,
            "ticks": "",
            "zerolinecolor": "white"
           },
           "yaxis": {
            "backgroundcolor": "#E5ECF6",
            "gridcolor": "white",
            "gridwidth": 2,
            "linecolor": "white",
            "showbackground": true,
            "ticks": "",
            "zerolinecolor": "white"
           },
           "zaxis": {
            "backgroundcolor": "#E5ECF6",
            "gridcolor": "white",
            "gridwidth": 2,
            "linecolor": "white",
            "showbackground": true,
            "ticks": "",
            "zerolinecolor": "white"
           }
          },
          "shapedefaults": {
           "line": {
            "color": "#2a3f5f"
           }
          },
          "ternary": {
           "aaxis": {
            "gridcolor": "white",
            "linecolor": "white",
            "ticks": ""
           },
           "baxis": {
            "gridcolor": "white",
            "linecolor": "white",
            "ticks": ""
           },
           "bgcolor": "#E5ECF6",
           "caxis": {
            "gridcolor": "white",
            "linecolor": "white",
            "ticks": ""
           }
          },
          "title": {
           "x": 0.05
          },
          "xaxis": {
           "automargin": true,
           "gridcolor": "white",
           "linecolor": "white",
           "ticks": "",
           "title": {
            "standoff": 15
           },
           "zerolinecolor": "white",
           "zerolinewidth": 2
          },
          "yaxis": {
           "automargin": true,
           "gridcolor": "white",
           "linecolor": "white",
           "ticks": "",
           "title": {
            "standoff": 15
           },
           "zerolinecolor": "white",
           "zerolinewidth": 2
          }
         }
        },
        "title": {
         "text": "<b>Total and Daily Cases of Covid_19 in Greece (139 days)</b>"
        },
        "xaxis": {
         "anchor": "y",
         "domain": [
          0,
          0.94
         ],
         "title": {
          "text": "Dates"
         }
        },
        "yaxis": {
         "anchor": "x",
         "domain": [
          0,
          1
         ],
         "title": {
          "text": "Number of Total Cases"
         }
        },
        "yaxis2": {
         "anchor": "x",
         "overlaying": "y",
         "side": "right",
         "title": {
          "text": "Number of Daily Cases"
         }
        }
       }
      },
      "text/html": [
       "<div>\n",
       "        \n",
       "        \n",
       "            <div id=\"c817ff3e-e9d7-4388-a041-aa80e00bb8a6\" class=\"plotly-graph-div\" style=\"height:525px; width:100%;\"></div>\n",
       "            <script type=\"text/javascript\">\n",
       "                require([\"plotly\"], function(Plotly) {\n",
       "                    window.PLOTLYENV=window.PLOTLYENV || {};\n",
       "                    \n",
       "                if (document.getElementById(\"c817ff3e-e9d7-4388-a041-aa80e00bb8a6\")) {\n",
       "                    Plotly.newPlot(\n",
       "                        'c817ff3e-e9d7-4388-a041-aa80e00bb8a6',\n",
       "                        [{\"line\": {\"color\": \"orange\", \"width\": 4}, \"name\": \"Total Cases\", \"type\": \"scatter\", \"x\": [\"26/02\", \"27/02\", \"28/02\", \"29/02\", \"01/03\", \"02/03\", \"03/03\", \"04/03\", \"05/03\", \"06/03\", \"07/03\", \"08/03\", \"09/03\", \"10/03\", \"11/03\", \"12/03\", \"13/03\", \"14/03\", \"15/03\", \"16/03\", \"17/03\", \"18/03\", \"19/03\", \"20/03\", \"21/03\", \"22/03\", \"23/03\", \"24/03\", \"25/03\", \"26/03\", \"27/03\", \"28/03\", \"29/03\", \"30/03\", \"31/03\", \"01/04\", \"02/04\", \"03/04\", \"04/04\", \"05/04\", \"06/04\", \"07/04\", \"08/04\", \"09/04\", \"10/04\", \"11/04\", \"12/04\", \"13/04\", \"14/04\", \"15/04\", \"16/04\", \"17/04\", \"18/04\", \"19/04\", \"20/04\", \"21/04\", \"22/04\", \"23/04\", \"24/04\", \"25/04\", \"26/04\", \"27/04\", \"28/04\", \"29/04\", \"30/04\", \"01/05\", \"02/05\", \"03/05\", \"04/05\", \"05/05\", \"06/05\", \"07/05\", \"08/05\", \"09/05\", \"10/05\", \"11/05\", \"12/05\", \"13/05\", \"14/05\", \"15/05\", \"16/05\", \"17/05\", \"18/05\", \"19/05\", \"20/05\", \"21/05\", \"22/05\", \"23/05\", \"24/05\", \"25/05\", \"26/05\", \"27/05\", \"28/05\", \"29/05\", \"30/05\", \"31/05\", \"01/06\", \"02/06\", \"03/06\", \"04/06\", \"05/06\", \"06/06\", \"07/06\", \"08/06\", \"09/06\", \"10/06\", \"11/06\", \"12/06\", \"13/06\", \"14/06\", \"15/06\", \"16/06\", \"17/06\", \"18/06\", \"19/06\", \"20/06\", \"21/06\", \"22/06\", \"23/06\", \"24/06\", \"25/06\", \"26/06\", \"27/06\", \"28/06\", \"29/06\", \"30/06\", \"01/07\", \"02/07\", \"03/07\", \"04/07\", \"05/07\", \"06/07\", \"07/07\", \"08/07\", \"09/07\", \"10/07\", \"11/07\", \"12/07\", \"13/07\"], \"xaxis\": \"x\", \"y\": [1, 3, 4, 7, 7, 7, 7, 9, 31, 45, 66, 73, 84, 89, 99, 117, 190, 228, 331, 352, 387, 418, 464, 495, 530, 624, 695, 743, 821, 892, 966, 1061, 1156, 1212, 1314, 1415, 1544, 1613, 1673, 1735, 1755, 1832, 1884, 1955, 2009, 2081, 2114, 2145, 2170, 2192, 2207, 2224, 2235, 2235, 2245, 2401, 2408, 2463, 2490, 2506, 2517, 2534, 2566, 2576, 2591, 2612, 2620, 2626, 2632, 2642, 2663, 2678, 2691, 2710, 2716, 2726, 2744, 2760, 2770, 2810, 2819, 2834, 2836, 2840, 2850, 2853, 2873, 2876, 2878, 2882, 2889, 2903, 2906, 2909, 2915, 2917, 2918, 2937, 2937, 2952, 2967, 2980, 2997, 3049, 3058, 3068, 3088, 3108, 3112, 3121, 3134, 3148, 3203, 3227, 3237, 3256, 3266, 3287, 3302, 3310, 3321, 3343, 3366, 3376, 3390, 3409, 3432, 3458, 3486, 3511, 3519, 3562, 3589, 3622, 3672, 3732, 3772, 3803, 3826], \"yaxis\": \"y\"}, {\"marker\": {\"color\": \"blue\"}, \"name\": \"Daily Cases\", \"opacity\": 0.7, \"type\": \"bar\", \"x\": [\"26/02\", \"27/02\", \"28/02\", \"29/02\", \"01/03\", \"02/03\", \"03/03\", \"04/03\", \"05/03\", \"06/03\", \"07/03\", \"08/03\", \"09/03\", \"10/03\", \"11/03\", \"12/03\", \"13/03\", \"14/03\", \"15/03\", \"16/03\", \"17/03\", \"18/03\", \"19/03\", \"20/03\", \"21/03\", \"22/03\", \"23/03\", \"24/03\", \"25/03\", \"26/03\", \"27/03\", \"28/03\", \"29/03\", \"30/03\", \"31/03\", \"01/04\", \"02/04\", \"03/04\", \"04/04\", \"05/04\", \"06/04\", \"07/04\", \"08/04\", \"09/04\", \"10/04\", \"11/04\", \"12/04\", \"13/04\", \"14/04\", \"15/04\", \"16/04\", \"17/04\", \"18/04\", \"19/04\", \"20/04\", \"21/04\", \"22/04\", \"23/04\", \"24/04\", \"25/04\", \"26/04\", \"27/04\", \"28/04\", \"29/04\", \"30/04\", \"01/05\", \"02/05\", \"03/05\", \"04/05\", \"05/05\", \"06/05\", \"07/05\", \"08/05\", \"09/05\", \"10/05\", \"11/05\", \"12/05\", \"13/05\", \"14/05\", \"15/05\", \"16/05\", \"17/05\", \"18/05\", \"19/05\", \"20/05\", \"21/05\", \"22/05\", \"23/05\", \"24/05\", \"25/05\", \"26/05\", \"27/05\", \"28/05\", \"29/05\", \"30/05\", \"31/05\", \"01/06\", \"02/06\", \"03/06\", \"04/06\", \"05/06\", \"06/06\", \"07/06\", \"08/06\", \"09/06\", \"10/06\", \"11/06\", \"12/06\", \"13/06\", \"14/06\", \"15/06\", \"16/06\", \"17/06\", \"18/06\", \"19/06\", \"20/06\", \"21/06\", \"22/06\", \"23/06\", \"24/06\", \"25/06\", \"26/06\", \"27/06\", \"28/06\", \"29/06\", \"30/06\", \"01/07\", \"02/07\", \"03/07\", \"04/07\", \"05/07\", \"06/07\", \"07/07\", \"08/07\", \"09/07\", \"10/07\", \"11/07\", \"12/07\", \"13/07\"], \"xaxis\": \"x\", \"y\": [1, 2, 1, 3, 0, 0, 0, 2, 22, 14, 21, 7, 11, 5, 10, 18, 73, 38, 103, 21, 35, 31, 46, 31, 35, 94, 71, 48, 78, 71, 74, 95, 95, 56, 102, 101, 129, 69, 60, 62, 20, 77, 52, 71, 54, 72, 33, 31, 25, 22, 15, 17, 11, 0, 10, 156, 7, 55, 27, 16, 11, 17, 32, 10, 15, 21, 8, 6, 6, 10, 21, 15, 13, 19, 6, 10, 18, 16, 10, 40, 9, 15, 2, 4, 10, 3, 21, 3, 2, 4, 7, 18, 3, 5, 7, 2, 2, 19, 0, 15, 15, 13, 17, 52, 9, 11, 20, 20, 4, 9, 13, 15, 55, 24, 10, 19, 10, 21, 16, 8, 13, 22, 23, 10, 15, 20, 23, 28, 28, 25, 9, 43, 27, 33, 50, 60, 41, 31, 24], \"yaxis\": \"y2\"}],\n",
       "                        {\"hovermode\": \"x unified\", \"template\": {\"data\": {\"bar\": [{\"error_x\": {\"color\": \"#2a3f5f\"}, \"error_y\": {\"color\": \"#2a3f5f\"}, \"marker\": {\"line\": {\"color\": \"#E5ECF6\", \"width\": 0.5}}, \"type\": \"bar\"}], \"barpolar\": [{\"marker\": {\"line\": {\"color\": \"#E5ECF6\", \"width\": 0.5}}, \"type\": \"barpolar\"}], \"carpet\": [{\"aaxis\": {\"endlinecolor\": \"#2a3f5f\", \"gridcolor\": \"white\", \"linecolor\": \"white\", \"minorgridcolor\": \"white\", \"startlinecolor\": \"#2a3f5f\"}, \"baxis\": {\"endlinecolor\": \"#2a3f5f\", \"gridcolor\": \"white\", \"linecolor\": \"white\", \"minorgridcolor\": \"white\", \"startlinecolor\": \"#2a3f5f\"}, \"type\": \"carpet\"}], \"choropleth\": [{\"colorbar\": {\"outlinewidth\": 0, \"ticks\": \"\"}, \"type\": \"choropleth\"}], \"contour\": [{\"colorbar\": {\"outlinewidth\": 0, \"ticks\": \"\"}, \"colorscale\": [[0.0, \"#0d0887\"], [0.1111111111111111, \"#46039f\"], [0.2222222222222222, \"#7201a8\"], [0.3333333333333333, \"#9c179e\"], [0.4444444444444444, \"#bd3786\"], [0.5555555555555556, \"#d8576b\"], [0.6666666666666666, \"#ed7953\"], [0.7777777777777778, \"#fb9f3a\"], [0.8888888888888888, \"#fdca26\"], [1.0, \"#f0f921\"]], \"type\": \"contour\"}], \"contourcarpet\": [{\"colorbar\": {\"outlinewidth\": 0, \"ticks\": \"\"}, \"type\": \"contourcarpet\"}], \"heatmap\": [{\"colorbar\": {\"outlinewidth\": 0, \"ticks\": \"\"}, \"colorscale\": [[0.0, \"#0d0887\"], [0.1111111111111111, \"#46039f\"], [0.2222222222222222, \"#7201a8\"], [0.3333333333333333, \"#9c179e\"], [0.4444444444444444, \"#bd3786\"], [0.5555555555555556, \"#d8576b\"], [0.6666666666666666, \"#ed7953\"], [0.7777777777777778, \"#fb9f3a\"], [0.8888888888888888, \"#fdca26\"], [1.0, \"#f0f921\"]], \"type\": \"heatmap\"}], \"heatmapgl\": [{\"colorbar\": {\"outlinewidth\": 0, \"ticks\": \"\"}, \"colorscale\": [[0.0, \"#0d0887\"], [0.1111111111111111, \"#46039f\"], [0.2222222222222222, \"#7201a8\"], [0.3333333333333333, \"#9c179e\"], [0.4444444444444444, \"#bd3786\"], [0.5555555555555556, \"#d8576b\"], [0.6666666666666666, \"#ed7953\"], [0.7777777777777778, \"#fb9f3a\"], [0.8888888888888888, \"#fdca26\"], [1.0, \"#f0f921\"]], \"type\": \"heatmapgl\"}], \"histogram\": [{\"marker\": {\"colorbar\": {\"outlinewidth\": 0, \"ticks\": \"\"}}, \"type\": \"histogram\"}], \"histogram2d\": [{\"colorbar\": {\"outlinewidth\": 0, \"ticks\": \"\"}, \"colorscale\": [[0.0, \"#0d0887\"], [0.1111111111111111, \"#46039f\"], [0.2222222222222222, \"#7201a8\"], [0.3333333333333333, \"#9c179e\"], [0.4444444444444444, \"#bd3786\"], [0.5555555555555556, \"#d8576b\"], [0.6666666666666666, \"#ed7953\"], [0.7777777777777778, \"#fb9f3a\"], [0.8888888888888888, \"#fdca26\"], [1.0, \"#f0f921\"]], \"type\": \"histogram2d\"}], \"histogram2dcontour\": [{\"colorbar\": {\"outlinewidth\": 0, \"ticks\": \"\"}, \"colorscale\": [[0.0, \"#0d0887\"], [0.1111111111111111, \"#46039f\"], [0.2222222222222222, \"#7201a8\"], [0.3333333333333333, \"#9c179e\"], [0.4444444444444444, \"#bd3786\"], [0.5555555555555556, \"#d8576b\"], [0.6666666666666666, \"#ed7953\"], [0.7777777777777778, \"#fb9f3a\"], [0.8888888888888888, \"#fdca26\"], [1.0, \"#f0f921\"]], \"type\": \"histogram2dcontour\"}], \"mesh3d\": [{\"colorbar\": {\"outlinewidth\": 0, \"ticks\": \"\"}, \"type\": \"mesh3d\"}], \"parcoords\": [{\"line\": {\"colorbar\": {\"outlinewidth\": 0, \"ticks\": \"\"}}, \"type\": \"parcoords\"}], \"pie\": [{\"automargin\": true, \"type\": \"pie\"}], \"scatter\": [{\"marker\": {\"colorbar\": {\"outlinewidth\": 0, \"ticks\": \"\"}}, \"type\": \"scatter\"}], \"scatter3d\": [{\"line\": {\"colorbar\": {\"outlinewidth\": 0, \"ticks\": \"\"}}, \"marker\": {\"colorbar\": {\"outlinewidth\": 0, \"ticks\": \"\"}}, \"type\": \"scatter3d\"}], \"scattercarpet\": [{\"marker\": {\"colorbar\": {\"outlinewidth\": 0, \"ticks\": \"\"}}, \"type\": \"scattercarpet\"}], \"scattergeo\": [{\"marker\": {\"colorbar\": {\"outlinewidth\": 0, \"ticks\": \"\"}}, \"type\": \"scattergeo\"}], \"scattergl\": [{\"marker\": {\"colorbar\": {\"outlinewidth\": 0, \"ticks\": \"\"}}, \"type\": \"scattergl\"}], \"scattermapbox\": [{\"marker\": {\"colorbar\": {\"outlinewidth\": 0, \"ticks\": \"\"}}, \"type\": \"scattermapbox\"}], \"scatterpolar\": [{\"marker\": {\"colorbar\": {\"outlinewidth\": 0, \"ticks\": \"\"}}, \"type\": \"scatterpolar\"}], \"scatterpolargl\": [{\"marker\": {\"colorbar\": {\"outlinewidth\": 0, \"ticks\": \"\"}}, \"type\": \"scatterpolargl\"}], \"scatterternary\": [{\"marker\": {\"colorbar\": {\"outlinewidth\": 0, \"ticks\": \"\"}}, \"type\": \"scatterternary\"}], \"surface\": [{\"colorbar\": {\"outlinewidth\": 0, \"ticks\": \"\"}, \"colorscale\": [[0.0, \"#0d0887\"], [0.1111111111111111, \"#46039f\"], [0.2222222222222222, \"#7201a8\"], [0.3333333333333333, \"#9c179e\"], [0.4444444444444444, \"#bd3786\"], [0.5555555555555556, \"#d8576b\"], [0.6666666666666666, \"#ed7953\"], [0.7777777777777778, \"#fb9f3a\"], [0.8888888888888888, \"#fdca26\"], [1.0, \"#f0f921\"]], \"type\": \"surface\"}], \"table\": [{\"cells\": {\"fill\": {\"color\": \"#EBF0F8\"}, \"line\": {\"color\": \"white\"}}, \"header\": {\"fill\": {\"color\": \"#C8D4E3\"}, \"line\": {\"color\": \"white\"}}, \"type\": \"table\"}]}, \"layout\": {\"annotationdefaults\": {\"arrowcolor\": \"#2a3f5f\", \"arrowhead\": 0, \"arrowwidth\": 1}, \"coloraxis\": {\"colorbar\": {\"outlinewidth\": 0, \"ticks\": \"\"}}, \"colorscale\": {\"diverging\": [[0, \"#8e0152\"], [0.1, \"#c51b7d\"], [0.2, \"#de77ae\"], [0.3, \"#f1b6da\"], [0.4, \"#fde0ef\"], [0.5, \"#f7f7f7\"], [0.6, \"#e6f5d0\"], [0.7, \"#b8e186\"], [0.8, \"#7fbc41\"], [0.9, \"#4d9221\"], [1, \"#276419\"]], \"sequential\": [[0.0, \"#0d0887\"], [0.1111111111111111, \"#46039f\"], [0.2222222222222222, \"#7201a8\"], [0.3333333333333333, \"#9c179e\"], [0.4444444444444444, \"#bd3786\"], [0.5555555555555556, \"#d8576b\"], [0.6666666666666666, \"#ed7953\"], [0.7777777777777778, \"#fb9f3a\"], [0.8888888888888888, \"#fdca26\"], [1.0, \"#f0f921\"]], \"sequentialminus\": [[0.0, \"#0d0887\"], [0.1111111111111111, \"#46039f\"], [0.2222222222222222, \"#7201a8\"], [0.3333333333333333, \"#9c179e\"], [0.4444444444444444, \"#bd3786\"], [0.5555555555555556, \"#d8576b\"], [0.6666666666666666, \"#ed7953\"], [0.7777777777777778, \"#fb9f3a\"], [0.8888888888888888, \"#fdca26\"], [1.0, \"#f0f921\"]]}, \"colorway\": [\"#636efa\", \"#EF553B\", \"#00cc96\", \"#ab63fa\", \"#FFA15A\", \"#19d3f3\", \"#FF6692\", \"#B6E880\", \"#FF97FF\", \"#FECB52\"], \"font\": {\"color\": \"#2a3f5f\"}, \"geo\": {\"bgcolor\": \"white\", \"lakecolor\": \"white\", \"landcolor\": \"#E5ECF6\", \"showlakes\": true, \"showland\": true, \"subunitcolor\": \"white\"}, \"hoverlabel\": {\"align\": \"left\"}, \"hovermode\": \"closest\", \"mapbox\": {\"style\": \"light\"}, \"paper_bgcolor\": \"white\", \"plot_bgcolor\": \"#E5ECF6\", \"polar\": {\"angularaxis\": {\"gridcolor\": \"white\", \"linecolor\": \"white\", \"ticks\": \"\"}, \"bgcolor\": \"#E5ECF6\", \"radialaxis\": {\"gridcolor\": \"white\", \"linecolor\": \"white\", \"ticks\": \"\"}}, \"scene\": {\"xaxis\": {\"backgroundcolor\": \"#E5ECF6\", \"gridcolor\": \"white\", \"gridwidth\": 2, \"linecolor\": \"white\", \"showbackground\": true, \"ticks\": \"\", \"zerolinecolor\": \"white\"}, \"yaxis\": {\"backgroundcolor\": \"#E5ECF6\", \"gridcolor\": \"white\", \"gridwidth\": 2, \"linecolor\": \"white\", \"showbackground\": true, \"ticks\": \"\", \"zerolinecolor\": \"white\"}, \"zaxis\": {\"backgroundcolor\": \"#E5ECF6\", \"gridcolor\": \"white\", \"gridwidth\": 2, \"linecolor\": \"white\", \"showbackground\": true, \"ticks\": \"\", \"zerolinecolor\": \"white\"}}, \"shapedefaults\": {\"line\": {\"color\": \"#2a3f5f\"}}, \"ternary\": {\"aaxis\": {\"gridcolor\": \"white\", \"linecolor\": \"white\", \"ticks\": \"\"}, \"baxis\": {\"gridcolor\": \"white\", \"linecolor\": \"white\", \"ticks\": \"\"}, \"bgcolor\": \"#E5ECF6\", \"caxis\": {\"gridcolor\": \"white\", \"linecolor\": \"white\", \"ticks\": \"\"}}, \"title\": {\"x\": 0.05}, \"xaxis\": {\"automargin\": true, \"gridcolor\": \"white\", \"linecolor\": \"white\", \"ticks\": \"\", \"title\": {\"standoff\": 15}, \"zerolinecolor\": \"white\", \"zerolinewidth\": 2}, \"yaxis\": {\"automargin\": true, \"gridcolor\": \"white\", \"linecolor\": \"white\", \"ticks\": \"\", \"title\": {\"standoff\": 15}, \"zerolinecolor\": \"white\", \"zerolinewidth\": 2}}}, \"title\": {\"text\": \"<b>Total and Daily Cases of Covid_19 in Greece (139 days)</b>\"}, \"xaxis\": {\"anchor\": \"y\", \"domain\": [0.0, 0.94], \"title\": {\"text\": \"Dates\"}}, \"yaxis\": {\"anchor\": \"x\", \"domain\": [0.0, 1.0], \"title\": {\"text\": \"Number of Total Cases\"}}, \"yaxis2\": {\"anchor\": \"x\", \"overlaying\": \"y\", \"side\": \"right\", \"title\": {\"text\": \"Number of Daily Cases\"}}},\n",
       "                        {\"responsive\": true}\n",
       "                    ).then(function(){\n",
       "                            \n",
       "var gd = document.getElementById('c817ff3e-e9d7-4388-a041-aa80e00bb8a6');\n",
       "var x = new MutationObserver(function (mutations, observer) {{\n",
       "        var display = window.getComputedStyle(gd).display;\n",
       "        if (!display || display === 'none') {{\n",
       "            console.log([gd, 'removed!']);\n",
       "            Plotly.purge(gd);\n",
       "            observer.disconnect();\n",
       "        }}\n",
       "}});\n",
       "\n",
       "// Listen for the removal of the full notebook cells\n",
       "var notebookContainer = gd.closest('#notebook-container');\n",
       "if (notebookContainer) {{\n",
       "    x.observe(notebookContainer, {childList: true});\n",
       "}}\n",
       "\n",
       "// Listen for the clearing of the current output cell\n",
       "var outputEl = gd.closest('.output');\n",
       "if (outputEl) {{\n",
       "    x.observe(outputEl, {childList: true});\n",
       "}}\n",
       "\n",
       "                        })\n",
       "                };\n",
       "                });\n",
       "            </script>\n",
       "        </div>"
      ]
     },
     "metadata": {},
     "output_type": "display_data"
    }
   ],
   "source": [
    "# Figure with secondary y-axis\n",
    "fig = make_subplots(specs=[[{\"secondary_y\": True}]])\n",
    "\n",
    "# Traces - Bars and line\n",
    "fig.add_trace(\n",
    "    go.Scatter(x=df.index, y=df['Total Cases'], name='Total Cases', line_width=4, line_color='orange'),\n",
    "    secondary_y=False,\n",
    ")\n",
    "\n",
    "fig.add_trace(\n",
    "    go.Bar(x=df.index, y=df['Daily Cases'], name='Daily Cases', marker_color='blue', opacity = 0.7),\n",
    "    secondary_y=True,\n",
    ")\n",
    "\n",
    "# Figure Title\n",
    "fig.update_layout(\n",
    "    title_text='<b>Total and Daily Cases of Covid_19 in Greece ('+str(len(df['Total Cases']))+' days)</b>'\n",
    ")\n",
    "\n",
    "# x-axis and y-axes titles\n",
    "fig.update_xaxes(title_text='Dates')\n",
    "fig.update_yaxes(title_text='Number of Total Cases', secondary_y=False)\n",
    "fig.update_yaxes(title_text='Number of Daily Cases', secondary_y=True)\n",
    "\n",
    "fig.update_layout(hovermode='x unified')\n",
    "\n",
    "fig.show()"
   ]
  },
  {
   "cell_type": "markdown",
   "metadata": {},
   "source": [
    "## Max Temperatures per Day"
   ]
  },
  {
   "cell_type": "code",
   "execution_count": 18,
   "metadata": {},
   "outputs": [
    {
     "data": {
      "application/vnd.plotly.v1+json": {
       "config": {
        "plotlyServerURL": "https://plot.ly"
       },
       "data": [
        {
         "hovertemplate": "Max Temp : %{y:.2f} ℃",
         "line": {
          "color": "green"
         },
         "mode": "lines+markers",
         "name": "Max Temps",
         "type": "scatter",
         "x": [
          "26/02",
          "27/02",
          "28/02",
          "29/02",
          "01/03",
          "02/03",
          "03/03",
          "04/03",
          "05/03",
          "06/03",
          "07/03",
          "08/03",
          "09/03",
          "10/03",
          "11/03",
          "12/03",
          "13/03",
          "14/03",
          "15/03",
          "16/03",
          "17/03",
          "18/03",
          "19/03",
          "20/03",
          "21/03",
          "22/03",
          "23/03",
          "24/03",
          "25/03",
          "26/03",
          "27/03",
          "28/03",
          "29/03",
          "30/03",
          "31/03",
          "01/04",
          "02/04",
          "03/04",
          "04/04",
          "05/04",
          "06/04",
          "07/04",
          "08/04",
          "09/04",
          "10/04",
          "11/04",
          "12/04",
          "13/04",
          "14/04",
          "15/04",
          "16/04",
          "17/04",
          "18/04",
          "19/04",
          "20/04",
          "21/04",
          "22/04",
          "23/04",
          "24/04",
          "25/04",
          "26/04",
          "27/04",
          "28/04",
          "29/04",
          "30/04",
          "01/05",
          "02/05",
          "03/05",
          "04/05",
          "05/05",
          "06/05",
          "07/05",
          "08/05",
          "09/05",
          "10/05",
          "11/05",
          "12/05",
          "13/05",
          "14/05",
          "15/05",
          "16/05",
          "17/05",
          "18/05",
          "19/05",
          "20/05",
          "21/05",
          "22/05",
          "23/05",
          "24/05",
          "25/05",
          "26/05",
          "27/05",
          "28/05",
          "29/05",
          "30/05",
          "31/05",
          "01/06",
          "02/06",
          "03/06",
          "04/06",
          "05/06",
          "06/06",
          "07/06",
          "08/06",
          "09/06",
          "10/06",
          "11/06",
          "12/06",
          "13/06",
          "14/06",
          "15/06",
          "16/06",
          "17/06",
          "18/06",
          "19/06",
          "20/06",
          "21/06",
          "22/06",
          "23/06",
          "24/06",
          "25/06",
          "26/06",
          "27/06",
          "28/06",
          "29/06",
          "30/06",
          "01/07",
          "02/07",
          "03/07",
          "04/07",
          "05/07",
          "06/07",
          "07/07",
          "08/07",
          "09/07",
          "10/07",
          "11/07",
          "12/07",
          "13/07"
         ],
         "xaxis": "x",
         "y": [
          18.8,
          18.8,
          14.9,
          12.5,
          15.5,
          18.6,
          20.1,
          17.6,
          17.7,
          17.2,
          18.1,
          19.5,
          14.8,
          16.7,
          16.1,
          19.2,
          23.8,
          23.2,
          19.8,
          9.8,
          15.4,
          17.5,
          14.6,
          18.2,
          21.4,
          16.4,
          15.9,
          16.8,
          12.1,
          12,
          12.4,
          17.1,
          17.3,
          18.3,
          20,
          14.8,
          14.7,
          11.8,
          14.5,
          14.1,
          10.5,
          12.1,
          15.1,
          18.6,
          22,
          25.5,
          23,
          23.1,
          23.5,
          19.5,
          18.2,
          22.9,
          24.5,
          24.9,
          24.5,
          18.1,
          16.7,
          16.9,
          19.6,
          22.4,
          23,
          23.5,
          24.7,
          24.4,
          24.3,
          25.7,
          25.7,
          25.9,
          21.2,
          24.2,
          26.7,
          20,
          23.5,
          25.9,
          27.4,
          26.7,
          29.6,
          31.7,
          32.4,
          36.7,
          38.2,
          38.7,
          36.7,
          33.9,
          31.8,
          28.3,
          21.6,
          25.9,
          24.1,
          24.7,
          21,
          18,
          22,
          22.1,
          23.3,
          23.8,
          24.3,
          22.7,
          23.5,
          25.4,
          25.6,
          26.7,
          27.3,
          30.3,
          31.2,
          31.1,
          29.2,
          28.7,
          29.2,
          33.1,
          32.4,
          30.5,
          30.7,
          31.9,
          32.8,
          32.7,
          32.2,
          27.8,
          28.2,
          27.1,
          29.9,
          29.9,
          30.8,
          33,
          34,
          36.9,
          35.1,
          35.3,
          34.3,
          34.6,
          32.6,
          31.6,
          31,
          30,
          29.7,
          31.6,
          32.9,
          33,
          30.9
         ],
         "yaxis": "y"
        }
       ],
       "layout": {
        "template": {
         "data": {
          "bar": [
           {
            "error_x": {
             "color": "#2a3f5f"
            },
            "error_y": {
             "color": "#2a3f5f"
            },
            "marker": {
             "line": {
              "color": "#E5ECF6",
              "width": 0.5
             }
            },
            "type": "bar"
           }
          ],
          "barpolar": [
           {
            "marker": {
             "line": {
              "color": "#E5ECF6",
              "width": 0.5
             }
            },
            "type": "barpolar"
           }
          ],
          "carpet": [
           {
            "aaxis": {
             "endlinecolor": "#2a3f5f",
             "gridcolor": "white",
             "linecolor": "white",
             "minorgridcolor": "white",
             "startlinecolor": "#2a3f5f"
            },
            "baxis": {
             "endlinecolor": "#2a3f5f",
             "gridcolor": "white",
             "linecolor": "white",
             "minorgridcolor": "white",
             "startlinecolor": "#2a3f5f"
            },
            "type": "carpet"
           }
          ],
          "choropleth": [
           {
            "colorbar": {
             "outlinewidth": 0,
             "ticks": ""
            },
            "type": "choropleth"
           }
          ],
          "contour": [
           {
            "colorbar": {
             "outlinewidth": 0,
             "ticks": ""
            },
            "colorscale": [
             [
              0,
              "#0d0887"
             ],
             [
              0.1111111111111111,
              "#46039f"
             ],
             [
              0.2222222222222222,
              "#7201a8"
             ],
             [
              0.3333333333333333,
              "#9c179e"
             ],
             [
              0.4444444444444444,
              "#bd3786"
             ],
             [
              0.5555555555555556,
              "#d8576b"
             ],
             [
              0.6666666666666666,
              "#ed7953"
             ],
             [
              0.7777777777777778,
              "#fb9f3a"
             ],
             [
              0.8888888888888888,
              "#fdca26"
             ],
             [
              1,
              "#f0f921"
             ]
            ],
            "type": "contour"
           }
          ],
          "contourcarpet": [
           {
            "colorbar": {
             "outlinewidth": 0,
             "ticks": ""
            },
            "type": "contourcarpet"
           }
          ],
          "heatmap": [
           {
            "colorbar": {
             "outlinewidth": 0,
             "ticks": ""
            },
            "colorscale": [
             [
              0,
              "#0d0887"
             ],
             [
              0.1111111111111111,
              "#46039f"
             ],
             [
              0.2222222222222222,
              "#7201a8"
             ],
             [
              0.3333333333333333,
              "#9c179e"
             ],
             [
              0.4444444444444444,
              "#bd3786"
             ],
             [
              0.5555555555555556,
              "#d8576b"
             ],
             [
              0.6666666666666666,
              "#ed7953"
             ],
             [
              0.7777777777777778,
              "#fb9f3a"
             ],
             [
              0.8888888888888888,
              "#fdca26"
             ],
             [
              1,
              "#f0f921"
             ]
            ],
            "type": "heatmap"
           }
          ],
          "heatmapgl": [
           {
            "colorbar": {
             "outlinewidth": 0,
             "ticks": ""
            },
            "colorscale": [
             [
              0,
              "#0d0887"
             ],
             [
              0.1111111111111111,
              "#46039f"
             ],
             [
              0.2222222222222222,
              "#7201a8"
             ],
             [
              0.3333333333333333,
              "#9c179e"
             ],
             [
              0.4444444444444444,
              "#bd3786"
             ],
             [
              0.5555555555555556,
              "#d8576b"
             ],
             [
              0.6666666666666666,
              "#ed7953"
             ],
             [
              0.7777777777777778,
              "#fb9f3a"
             ],
             [
              0.8888888888888888,
              "#fdca26"
             ],
             [
              1,
              "#f0f921"
             ]
            ],
            "type": "heatmapgl"
           }
          ],
          "histogram": [
           {
            "marker": {
             "colorbar": {
              "outlinewidth": 0,
              "ticks": ""
             }
            },
            "type": "histogram"
           }
          ],
          "histogram2d": [
           {
            "colorbar": {
             "outlinewidth": 0,
             "ticks": ""
            },
            "colorscale": [
             [
              0,
              "#0d0887"
             ],
             [
              0.1111111111111111,
              "#46039f"
             ],
             [
              0.2222222222222222,
              "#7201a8"
             ],
             [
              0.3333333333333333,
              "#9c179e"
             ],
             [
              0.4444444444444444,
              "#bd3786"
             ],
             [
              0.5555555555555556,
              "#d8576b"
             ],
             [
              0.6666666666666666,
              "#ed7953"
             ],
             [
              0.7777777777777778,
              "#fb9f3a"
             ],
             [
              0.8888888888888888,
              "#fdca26"
             ],
             [
              1,
              "#f0f921"
             ]
            ],
            "type": "histogram2d"
           }
          ],
          "histogram2dcontour": [
           {
            "colorbar": {
             "outlinewidth": 0,
             "ticks": ""
            },
            "colorscale": [
             [
              0,
              "#0d0887"
             ],
             [
              0.1111111111111111,
              "#46039f"
             ],
             [
              0.2222222222222222,
              "#7201a8"
             ],
             [
              0.3333333333333333,
              "#9c179e"
             ],
             [
              0.4444444444444444,
              "#bd3786"
             ],
             [
              0.5555555555555556,
              "#d8576b"
             ],
             [
              0.6666666666666666,
              "#ed7953"
             ],
             [
              0.7777777777777778,
              "#fb9f3a"
             ],
             [
              0.8888888888888888,
              "#fdca26"
             ],
             [
              1,
              "#f0f921"
             ]
            ],
            "type": "histogram2dcontour"
           }
          ],
          "mesh3d": [
           {
            "colorbar": {
             "outlinewidth": 0,
             "ticks": ""
            },
            "type": "mesh3d"
           }
          ],
          "parcoords": [
           {
            "line": {
             "colorbar": {
              "outlinewidth": 0,
              "ticks": ""
             }
            },
            "type": "parcoords"
           }
          ],
          "pie": [
           {
            "automargin": true,
            "type": "pie"
           }
          ],
          "scatter": [
           {
            "marker": {
             "colorbar": {
              "outlinewidth": 0,
              "ticks": ""
             }
            },
            "type": "scatter"
           }
          ],
          "scatter3d": [
           {
            "line": {
             "colorbar": {
              "outlinewidth": 0,
              "ticks": ""
             }
            },
            "marker": {
             "colorbar": {
              "outlinewidth": 0,
              "ticks": ""
             }
            },
            "type": "scatter3d"
           }
          ],
          "scattercarpet": [
           {
            "marker": {
             "colorbar": {
              "outlinewidth": 0,
              "ticks": ""
             }
            },
            "type": "scattercarpet"
           }
          ],
          "scattergeo": [
           {
            "marker": {
             "colorbar": {
              "outlinewidth": 0,
              "ticks": ""
             }
            },
            "type": "scattergeo"
           }
          ],
          "scattergl": [
           {
            "marker": {
             "colorbar": {
              "outlinewidth": 0,
              "ticks": ""
             }
            },
            "type": "scattergl"
           }
          ],
          "scattermapbox": [
           {
            "marker": {
             "colorbar": {
              "outlinewidth": 0,
              "ticks": ""
             }
            },
            "type": "scattermapbox"
           }
          ],
          "scatterpolar": [
           {
            "marker": {
             "colorbar": {
              "outlinewidth": 0,
              "ticks": ""
             }
            },
            "type": "scatterpolar"
           }
          ],
          "scatterpolargl": [
           {
            "marker": {
             "colorbar": {
              "outlinewidth": 0,
              "ticks": ""
             }
            },
            "type": "scatterpolargl"
           }
          ],
          "scatterternary": [
           {
            "marker": {
             "colorbar": {
              "outlinewidth": 0,
              "ticks": ""
             }
            },
            "type": "scatterternary"
           }
          ],
          "surface": [
           {
            "colorbar": {
             "outlinewidth": 0,
             "ticks": ""
            },
            "colorscale": [
             [
              0,
              "#0d0887"
             ],
             [
              0.1111111111111111,
              "#46039f"
             ],
             [
              0.2222222222222222,
              "#7201a8"
             ],
             [
              0.3333333333333333,
              "#9c179e"
             ],
             [
              0.4444444444444444,
              "#bd3786"
             ],
             [
              0.5555555555555556,
              "#d8576b"
             ],
             [
              0.6666666666666666,
              "#ed7953"
             ],
             [
              0.7777777777777778,
              "#fb9f3a"
             ],
             [
              0.8888888888888888,
              "#fdca26"
             ],
             [
              1,
              "#f0f921"
             ]
            ],
            "type": "surface"
           }
          ],
          "table": [
           {
            "cells": {
             "fill": {
              "color": "#EBF0F8"
             },
             "line": {
              "color": "white"
             }
            },
            "header": {
             "fill": {
              "color": "#C8D4E3"
             },
             "line": {
              "color": "white"
             }
            },
            "type": "table"
           }
          ]
         },
         "layout": {
          "annotationdefaults": {
           "arrowcolor": "#2a3f5f",
           "arrowhead": 0,
           "arrowwidth": 1
          },
          "coloraxis": {
           "colorbar": {
            "outlinewidth": 0,
            "ticks": ""
           }
          },
          "colorscale": {
           "diverging": [
            [
             0,
             "#8e0152"
            ],
            [
             0.1,
             "#c51b7d"
            ],
            [
             0.2,
             "#de77ae"
            ],
            [
             0.3,
             "#f1b6da"
            ],
            [
             0.4,
             "#fde0ef"
            ],
            [
             0.5,
             "#f7f7f7"
            ],
            [
             0.6,
             "#e6f5d0"
            ],
            [
             0.7,
             "#b8e186"
            ],
            [
             0.8,
             "#7fbc41"
            ],
            [
             0.9,
             "#4d9221"
            ],
            [
             1,
             "#276419"
            ]
           ],
           "sequential": [
            [
             0,
             "#0d0887"
            ],
            [
             0.1111111111111111,
             "#46039f"
            ],
            [
             0.2222222222222222,
             "#7201a8"
            ],
            [
             0.3333333333333333,
             "#9c179e"
            ],
            [
             0.4444444444444444,
             "#bd3786"
            ],
            [
             0.5555555555555556,
             "#d8576b"
            ],
            [
             0.6666666666666666,
             "#ed7953"
            ],
            [
             0.7777777777777778,
             "#fb9f3a"
            ],
            [
             0.8888888888888888,
             "#fdca26"
            ],
            [
             1,
             "#f0f921"
            ]
           ],
           "sequentialminus": [
            [
             0,
             "#0d0887"
            ],
            [
             0.1111111111111111,
             "#46039f"
            ],
            [
             0.2222222222222222,
             "#7201a8"
            ],
            [
             0.3333333333333333,
             "#9c179e"
            ],
            [
             0.4444444444444444,
             "#bd3786"
            ],
            [
             0.5555555555555556,
             "#d8576b"
            ],
            [
             0.6666666666666666,
             "#ed7953"
            ],
            [
             0.7777777777777778,
             "#fb9f3a"
            ],
            [
             0.8888888888888888,
             "#fdca26"
            ],
            [
             1,
             "#f0f921"
            ]
           ]
          },
          "colorway": [
           "#636efa",
           "#EF553B",
           "#00cc96",
           "#ab63fa",
           "#FFA15A",
           "#19d3f3",
           "#FF6692",
           "#B6E880",
           "#FF97FF",
           "#FECB52"
          ],
          "font": {
           "color": "#2a3f5f"
          },
          "geo": {
           "bgcolor": "white",
           "lakecolor": "white",
           "landcolor": "#E5ECF6",
           "showlakes": true,
           "showland": true,
           "subunitcolor": "white"
          },
          "hoverlabel": {
           "align": "left"
          },
          "hovermode": "closest",
          "mapbox": {
           "style": "light"
          },
          "paper_bgcolor": "white",
          "plot_bgcolor": "#E5ECF6",
          "polar": {
           "angularaxis": {
            "gridcolor": "white",
            "linecolor": "white",
            "ticks": ""
           },
           "bgcolor": "#E5ECF6",
           "radialaxis": {
            "gridcolor": "white",
            "linecolor": "white",
            "ticks": ""
           }
          },
          "scene": {
           "xaxis": {
            "backgroundcolor": "#E5ECF6",
            "gridcolor": "white",
            "gridwidth": 2,
            "linecolor": "white",
            "showbackground": true,
            "ticks": "",
            "zerolinecolor": "white"
           },
           "yaxis": {
            "backgroundcolor": "#E5ECF6",
            "gridcolor": "white",
            "gridwidth": 2,
            "linecolor": "white",
            "showbackground": true,
            "ticks": "",
            "zerolinecolor": "white"
           },
           "zaxis": {
            "backgroundcolor": "#E5ECF6",
            "gridcolor": "white",
            "gridwidth": 2,
            "linecolor": "white",
            "showbackground": true,
            "ticks": "",
            "zerolinecolor": "white"
           }
          },
          "shapedefaults": {
           "line": {
            "color": "#2a3f5f"
           }
          },
          "ternary": {
           "aaxis": {
            "gridcolor": "white",
            "linecolor": "white",
            "ticks": ""
           },
           "baxis": {
            "gridcolor": "white",
            "linecolor": "white",
            "ticks": ""
           },
           "bgcolor": "#E5ECF6",
           "caxis": {
            "gridcolor": "white",
            "linecolor": "white",
            "ticks": ""
           }
          },
          "title": {
           "x": 0.05
          },
          "xaxis": {
           "automargin": true,
           "gridcolor": "white",
           "linecolor": "white",
           "ticks": "",
           "title": {
            "standoff": 15
           },
           "zerolinecolor": "white",
           "zerolinewidth": 2
          },
          "yaxis": {
           "automargin": true,
           "gridcolor": "white",
           "linecolor": "white",
           "ticks": "",
           "title": {
            "standoff": 15
           },
           "zerolinecolor": "white",
           "zerolinewidth": 2
          }
         }
        },
        "title": {
         "text": "<b>Max Temperatures per Day (139 days)</b>"
        },
        "xaxis": {
         "anchor": "y",
         "domain": [
          0,
          1
         ],
         "title": {
          "text": "Dates"
         }
        },
        "yaxis": {
         "anchor": "x",
         "domain": [
          0,
          1
         ],
         "title": {
          "text": "Max Temperatures"
         }
        }
       }
      },
      "text/html": [
       "<div>\n",
       "        \n",
       "        \n",
       "            <div id=\"c2abafe0-e5f0-4975-98c6-a54cef3dda84\" class=\"plotly-graph-div\" style=\"height:525px; width:100%;\"></div>\n",
       "            <script type=\"text/javascript\">\n",
       "                require([\"plotly\"], function(Plotly) {\n",
       "                    window.PLOTLYENV=window.PLOTLYENV || {};\n",
       "                    \n",
       "                if (document.getElementById(\"c2abafe0-e5f0-4975-98c6-a54cef3dda84\")) {\n",
       "                    Plotly.newPlot(\n",
       "                        'c2abafe0-e5f0-4975-98c6-a54cef3dda84',\n",
       "                        [{\"hovertemplate\": \"Max Temp : %{y:.2f} \\u2103\", \"line\": {\"color\": \"green\"}, \"mode\": \"lines+markers\", \"name\": \"Max Temps\", \"type\": \"scatter\", \"x\": [\"26/02\", \"27/02\", \"28/02\", \"29/02\", \"01/03\", \"02/03\", \"03/03\", \"04/03\", \"05/03\", \"06/03\", \"07/03\", \"08/03\", \"09/03\", \"10/03\", \"11/03\", \"12/03\", \"13/03\", \"14/03\", \"15/03\", \"16/03\", \"17/03\", \"18/03\", \"19/03\", \"20/03\", \"21/03\", \"22/03\", \"23/03\", \"24/03\", \"25/03\", \"26/03\", \"27/03\", \"28/03\", \"29/03\", \"30/03\", \"31/03\", \"01/04\", \"02/04\", \"03/04\", \"04/04\", \"05/04\", \"06/04\", \"07/04\", \"08/04\", \"09/04\", \"10/04\", \"11/04\", \"12/04\", \"13/04\", \"14/04\", \"15/04\", \"16/04\", \"17/04\", \"18/04\", \"19/04\", \"20/04\", \"21/04\", \"22/04\", \"23/04\", \"24/04\", \"25/04\", \"26/04\", \"27/04\", \"28/04\", \"29/04\", \"30/04\", \"01/05\", \"02/05\", \"03/05\", \"04/05\", \"05/05\", \"06/05\", \"07/05\", \"08/05\", \"09/05\", \"10/05\", \"11/05\", \"12/05\", \"13/05\", \"14/05\", \"15/05\", \"16/05\", \"17/05\", \"18/05\", \"19/05\", \"20/05\", \"21/05\", \"22/05\", \"23/05\", \"24/05\", \"25/05\", \"26/05\", \"27/05\", \"28/05\", \"29/05\", \"30/05\", \"31/05\", \"01/06\", \"02/06\", \"03/06\", \"04/06\", \"05/06\", \"06/06\", \"07/06\", \"08/06\", \"09/06\", \"10/06\", \"11/06\", \"12/06\", \"13/06\", \"14/06\", \"15/06\", \"16/06\", \"17/06\", \"18/06\", \"19/06\", \"20/06\", \"21/06\", \"22/06\", \"23/06\", \"24/06\", \"25/06\", \"26/06\", \"27/06\", \"28/06\", \"29/06\", \"30/06\", \"01/07\", \"02/07\", \"03/07\", \"04/07\", \"05/07\", \"06/07\", \"07/07\", \"08/07\", \"09/07\", \"10/07\", \"11/07\", \"12/07\", \"13/07\"], \"xaxis\": \"x\", \"y\": [18.8, 18.8, 14.9, 12.5, 15.5, 18.6, 20.1, 17.6, 17.7, 17.2, 18.1, 19.5, 14.8, 16.7, 16.1, 19.2, 23.8, 23.2, 19.8, 9.8, 15.4, 17.5, 14.6, 18.2, 21.4, 16.4, 15.9, 16.8, 12.1, 12.0, 12.4, 17.1, 17.3, 18.3, 20.0, 14.8, 14.7, 11.8, 14.5, 14.1, 10.5, 12.1, 15.1, 18.6, 22.0, 25.5, 23.0, 23.1, 23.5, 19.5, 18.2, 22.9, 24.5, 24.9, 24.5, 18.1, 16.7, 16.9, 19.6, 22.4, 23.0, 23.5, 24.7, 24.4, 24.3, 25.7, 25.7, 25.9, 21.2, 24.2, 26.7, 20.0, 23.5, 25.9, 27.4, 26.7, 29.6, 31.7, 32.4, 36.7, 38.2, 38.7, 36.7, 33.9, 31.8, 28.3, 21.6, 25.9, 24.1, 24.7, 21.0, 18.0, 22.0, 22.1, 23.3, 23.8, 24.3, 22.7, 23.5, 25.4, 25.6, 26.7, 27.3, 30.3, 31.2, 31.1, 29.2, 28.7, 29.2, 33.1, 32.4, 30.5, 30.7, 31.9, 32.8, 32.7, 32.2, 27.8, 28.2, 27.1, 29.9, 29.9, 30.8, 33.0, 34.0, 36.9, 35.1, 35.3, 34.3, 34.6, 32.6, 31.6, 31.0, 30.0, 29.7, 31.6, 32.9, 33.0, 30.9], \"yaxis\": \"y\"}],\n",
       "                        {\"template\": {\"data\": {\"bar\": [{\"error_x\": {\"color\": \"#2a3f5f\"}, \"error_y\": {\"color\": \"#2a3f5f\"}, \"marker\": {\"line\": {\"color\": \"#E5ECF6\", \"width\": 0.5}}, \"type\": \"bar\"}], \"barpolar\": [{\"marker\": {\"line\": {\"color\": \"#E5ECF6\", \"width\": 0.5}}, \"type\": \"barpolar\"}], \"carpet\": [{\"aaxis\": {\"endlinecolor\": \"#2a3f5f\", \"gridcolor\": \"white\", \"linecolor\": \"white\", \"minorgridcolor\": \"white\", \"startlinecolor\": \"#2a3f5f\"}, \"baxis\": {\"endlinecolor\": \"#2a3f5f\", \"gridcolor\": \"white\", \"linecolor\": \"white\", \"minorgridcolor\": \"white\", \"startlinecolor\": \"#2a3f5f\"}, \"type\": \"carpet\"}], \"choropleth\": [{\"colorbar\": {\"outlinewidth\": 0, \"ticks\": \"\"}, \"type\": \"choropleth\"}], \"contour\": [{\"colorbar\": {\"outlinewidth\": 0, \"ticks\": \"\"}, \"colorscale\": [[0.0, \"#0d0887\"], [0.1111111111111111, \"#46039f\"], [0.2222222222222222, \"#7201a8\"], [0.3333333333333333, \"#9c179e\"], [0.4444444444444444, \"#bd3786\"], [0.5555555555555556, \"#d8576b\"], [0.6666666666666666, \"#ed7953\"], [0.7777777777777778, \"#fb9f3a\"], [0.8888888888888888, \"#fdca26\"], [1.0, \"#f0f921\"]], \"type\": \"contour\"}], \"contourcarpet\": [{\"colorbar\": {\"outlinewidth\": 0, \"ticks\": \"\"}, \"type\": \"contourcarpet\"}], \"heatmap\": [{\"colorbar\": {\"outlinewidth\": 0, \"ticks\": \"\"}, \"colorscale\": [[0.0, \"#0d0887\"], [0.1111111111111111, \"#46039f\"], [0.2222222222222222, \"#7201a8\"], [0.3333333333333333, \"#9c179e\"], [0.4444444444444444, \"#bd3786\"], [0.5555555555555556, \"#d8576b\"], [0.6666666666666666, \"#ed7953\"], [0.7777777777777778, \"#fb9f3a\"], [0.8888888888888888, \"#fdca26\"], [1.0, \"#f0f921\"]], \"type\": \"heatmap\"}], \"heatmapgl\": [{\"colorbar\": {\"outlinewidth\": 0, \"ticks\": \"\"}, \"colorscale\": [[0.0, \"#0d0887\"], [0.1111111111111111, \"#46039f\"], [0.2222222222222222, \"#7201a8\"], [0.3333333333333333, \"#9c179e\"], [0.4444444444444444, \"#bd3786\"], [0.5555555555555556, \"#d8576b\"], [0.6666666666666666, \"#ed7953\"], [0.7777777777777778, \"#fb9f3a\"], [0.8888888888888888, \"#fdca26\"], [1.0, \"#f0f921\"]], \"type\": \"heatmapgl\"}], \"histogram\": [{\"marker\": {\"colorbar\": {\"outlinewidth\": 0, \"ticks\": \"\"}}, \"type\": \"histogram\"}], \"histogram2d\": [{\"colorbar\": {\"outlinewidth\": 0, \"ticks\": \"\"}, \"colorscale\": [[0.0, \"#0d0887\"], [0.1111111111111111, \"#46039f\"], [0.2222222222222222, \"#7201a8\"], [0.3333333333333333, \"#9c179e\"], [0.4444444444444444, \"#bd3786\"], [0.5555555555555556, \"#d8576b\"], [0.6666666666666666, \"#ed7953\"], [0.7777777777777778, \"#fb9f3a\"], [0.8888888888888888, \"#fdca26\"], [1.0, \"#f0f921\"]], \"type\": \"histogram2d\"}], \"histogram2dcontour\": [{\"colorbar\": {\"outlinewidth\": 0, \"ticks\": \"\"}, \"colorscale\": [[0.0, \"#0d0887\"], [0.1111111111111111, \"#46039f\"], [0.2222222222222222, \"#7201a8\"], [0.3333333333333333, \"#9c179e\"], [0.4444444444444444, \"#bd3786\"], [0.5555555555555556, \"#d8576b\"], [0.6666666666666666, \"#ed7953\"], [0.7777777777777778, \"#fb9f3a\"], [0.8888888888888888, \"#fdca26\"], [1.0, \"#f0f921\"]], \"type\": \"histogram2dcontour\"}], \"mesh3d\": [{\"colorbar\": {\"outlinewidth\": 0, \"ticks\": \"\"}, \"type\": \"mesh3d\"}], \"parcoords\": [{\"line\": {\"colorbar\": {\"outlinewidth\": 0, \"ticks\": \"\"}}, \"type\": \"parcoords\"}], \"pie\": [{\"automargin\": true, \"type\": \"pie\"}], \"scatter\": [{\"marker\": {\"colorbar\": {\"outlinewidth\": 0, \"ticks\": \"\"}}, \"type\": \"scatter\"}], \"scatter3d\": [{\"line\": {\"colorbar\": {\"outlinewidth\": 0, \"ticks\": \"\"}}, \"marker\": {\"colorbar\": {\"outlinewidth\": 0, \"ticks\": \"\"}}, \"type\": \"scatter3d\"}], \"scattercarpet\": [{\"marker\": {\"colorbar\": {\"outlinewidth\": 0, \"ticks\": \"\"}}, \"type\": \"scattercarpet\"}], \"scattergeo\": [{\"marker\": {\"colorbar\": {\"outlinewidth\": 0, \"ticks\": \"\"}}, \"type\": \"scattergeo\"}], \"scattergl\": [{\"marker\": {\"colorbar\": {\"outlinewidth\": 0, \"ticks\": \"\"}}, \"type\": \"scattergl\"}], \"scattermapbox\": [{\"marker\": {\"colorbar\": {\"outlinewidth\": 0, \"ticks\": \"\"}}, \"type\": \"scattermapbox\"}], \"scatterpolar\": [{\"marker\": {\"colorbar\": {\"outlinewidth\": 0, \"ticks\": \"\"}}, \"type\": \"scatterpolar\"}], \"scatterpolargl\": [{\"marker\": {\"colorbar\": {\"outlinewidth\": 0, \"ticks\": \"\"}}, \"type\": \"scatterpolargl\"}], \"scatterternary\": [{\"marker\": {\"colorbar\": {\"outlinewidth\": 0, \"ticks\": \"\"}}, \"type\": \"scatterternary\"}], \"surface\": [{\"colorbar\": {\"outlinewidth\": 0, \"ticks\": \"\"}, \"colorscale\": [[0.0, \"#0d0887\"], [0.1111111111111111, \"#46039f\"], [0.2222222222222222, \"#7201a8\"], [0.3333333333333333, \"#9c179e\"], [0.4444444444444444, \"#bd3786\"], [0.5555555555555556, \"#d8576b\"], [0.6666666666666666, \"#ed7953\"], [0.7777777777777778, \"#fb9f3a\"], [0.8888888888888888, \"#fdca26\"], [1.0, \"#f0f921\"]], \"type\": \"surface\"}], \"table\": [{\"cells\": {\"fill\": {\"color\": \"#EBF0F8\"}, \"line\": {\"color\": \"white\"}}, \"header\": {\"fill\": {\"color\": \"#C8D4E3\"}, \"line\": {\"color\": \"white\"}}, \"type\": \"table\"}]}, \"layout\": {\"annotationdefaults\": {\"arrowcolor\": \"#2a3f5f\", \"arrowhead\": 0, \"arrowwidth\": 1}, \"coloraxis\": {\"colorbar\": {\"outlinewidth\": 0, \"ticks\": \"\"}}, \"colorscale\": {\"diverging\": [[0, \"#8e0152\"], [0.1, \"#c51b7d\"], [0.2, \"#de77ae\"], [0.3, \"#f1b6da\"], [0.4, \"#fde0ef\"], [0.5, \"#f7f7f7\"], [0.6, \"#e6f5d0\"], [0.7, \"#b8e186\"], [0.8, \"#7fbc41\"], [0.9, \"#4d9221\"], [1, \"#276419\"]], \"sequential\": [[0.0, \"#0d0887\"], [0.1111111111111111, \"#46039f\"], [0.2222222222222222, \"#7201a8\"], [0.3333333333333333, \"#9c179e\"], [0.4444444444444444, \"#bd3786\"], [0.5555555555555556, \"#d8576b\"], [0.6666666666666666, \"#ed7953\"], [0.7777777777777778, \"#fb9f3a\"], [0.8888888888888888, \"#fdca26\"], [1.0, \"#f0f921\"]], \"sequentialminus\": [[0.0, \"#0d0887\"], [0.1111111111111111, \"#46039f\"], [0.2222222222222222, \"#7201a8\"], [0.3333333333333333, \"#9c179e\"], [0.4444444444444444, \"#bd3786\"], [0.5555555555555556, \"#d8576b\"], [0.6666666666666666, \"#ed7953\"], [0.7777777777777778, \"#fb9f3a\"], [0.8888888888888888, \"#fdca26\"], [1.0, \"#f0f921\"]]}, \"colorway\": [\"#636efa\", \"#EF553B\", \"#00cc96\", \"#ab63fa\", \"#FFA15A\", \"#19d3f3\", \"#FF6692\", \"#B6E880\", \"#FF97FF\", \"#FECB52\"], \"font\": {\"color\": \"#2a3f5f\"}, \"geo\": {\"bgcolor\": \"white\", \"lakecolor\": \"white\", \"landcolor\": \"#E5ECF6\", \"showlakes\": true, \"showland\": true, \"subunitcolor\": \"white\"}, \"hoverlabel\": {\"align\": \"left\"}, \"hovermode\": \"closest\", \"mapbox\": {\"style\": \"light\"}, \"paper_bgcolor\": \"white\", \"plot_bgcolor\": \"#E5ECF6\", \"polar\": {\"angularaxis\": {\"gridcolor\": \"white\", \"linecolor\": \"white\", \"ticks\": \"\"}, \"bgcolor\": \"#E5ECF6\", \"radialaxis\": {\"gridcolor\": \"white\", \"linecolor\": \"white\", \"ticks\": \"\"}}, \"scene\": {\"xaxis\": {\"backgroundcolor\": \"#E5ECF6\", \"gridcolor\": \"white\", \"gridwidth\": 2, \"linecolor\": \"white\", \"showbackground\": true, \"ticks\": \"\", \"zerolinecolor\": \"white\"}, \"yaxis\": {\"backgroundcolor\": \"#E5ECF6\", \"gridcolor\": \"white\", \"gridwidth\": 2, \"linecolor\": \"white\", \"showbackground\": true, \"ticks\": \"\", \"zerolinecolor\": \"white\"}, \"zaxis\": {\"backgroundcolor\": \"#E5ECF6\", \"gridcolor\": \"white\", \"gridwidth\": 2, \"linecolor\": \"white\", \"showbackground\": true, \"ticks\": \"\", \"zerolinecolor\": \"white\"}}, \"shapedefaults\": {\"line\": {\"color\": \"#2a3f5f\"}}, \"ternary\": {\"aaxis\": {\"gridcolor\": \"white\", \"linecolor\": \"white\", \"ticks\": \"\"}, \"baxis\": {\"gridcolor\": \"white\", \"linecolor\": \"white\", \"ticks\": \"\"}, \"bgcolor\": \"#E5ECF6\", \"caxis\": {\"gridcolor\": \"white\", \"linecolor\": \"white\", \"ticks\": \"\"}}, \"title\": {\"x\": 0.05}, \"xaxis\": {\"automargin\": true, \"gridcolor\": \"white\", \"linecolor\": \"white\", \"ticks\": \"\", \"title\": {\"standoff\": 15}, \"zerolinecolor\": \"white\", \"zerolinewidth\": 2}, \"yaxis\": {\"automargin\": true, \"gridcolor\": \"white\", \"linecolor\": \"white\", \"ticks\": \"\", \"title\": {\"standoff\": 15}, \"zerolinecolor\": \"white\", \"zerolinewidth\": 2}}}, \"title\": {\"text\": \"<b>Max Temperatures per Day (139 days)</b>\"}, \"xaxis\": {\"anchor\": \"y\", \"domain\": [0.0, 1.0], \"title\": {\"text\": \"Dates\"}}, \"yaxis\": {\"anchor\": \"x\", \"domain\": [0.0, 1.0], \"title\": {\"text\": \"Max Temperatures\"}}},\n",
       "                        {\"responsive\": true}\n",
       "                    ).then(function(){\n",
       "                            \n",
       "var gd = document.getElementById('c2abafe0-e5f0-4975-98c6-a54cef3dda84');\n",
       "var x = new MutationObserver(function (mutations, observer) {{\n",
       "        var display = window.getComputedStyle(gd).display;\n",
       "        if (!display || display === 'none') {{\n",
       "            console.log([gd, 'removed!']);\n",
       "            Plotly.purge(gd);\n",
       "            observer.disconnect();\n",
       "        }}\n",
       "}});\n",
       "\n",
       "// Listen for the removal of the full notebook cells\n",
       "var notebookContainer = gd.closest('#notebook-container');\n",
       "if (notebookContainer) {{\n",
       "    x.observe(notebookContainer, {childList: true});\n",
       "}}\n",
       "\n",
       "// Listen for the clearing of the current output cell\n",
       "var outputEl = gd.closest('.output');\n",
       "if (outputEl) {{\n",
       "    x.observe(outputEl, {childList: true});\n",
       "}}\n",
       "\n",
       "                        })\n",
       "                };\n",
       "                });\n",
       "            </script>\n",
       "        </div>"
      ]
     },
     "metadata": {},
     "output_type": "display_data"
    }
   ],
   "source": [
    "fig = make_subplots()\n",
    "fig.add_trace(\n",
    "    go.Scatter(x=df.index, y=df['Max Temperatures'], mode='lines+markers', line_color = 'green',\n",
    "               hovertemplate = 'Max Temp : %{y:.2f} ℃',name = 'Max Temps'),\n",
    "    secondary_y=False,\n",
    ")\n",
    "\n",
    "# Title of figure, x-axis and y-axis titles\n",
    "fig.update_layout(\n",
    "    title_text='<b>Max Temperatures per Day (' +str(len(df['Total Cases']))+' days)</b>'\n",
    ")\n",
    "fig.update_xaxes(title_text='Dates')\n",
    "fig.update_yaxes(title_text='Max Temperatures', secondary_y=False)\n",
    "\n",
    "fig.show()"
   ]
  },
  {
   "cell_type": "markdown",
   "metadata": {},
   "source": [
    "## Daily Cases and Max Temperature per day"
   ]
  },
  {
   "cell_type": "code",
   "execution_count": 19,
   "metadata": {},
   "outputs": [
    {
     "data": {
      "application/vnd.plotly.v1+json": {
       "config": {
        "plotlyServerURL": "https://plot.ly"
       },
       "data": [
        {
         "line": {
          "width": 2
         },
         "mode": "lines+markers",
         "name": "Daily Cases",
         "type": "scatter",
         "x": [
          "26/02",
          "27/02",
          "28/02",
          "29/02",
          "01/03",
          "02/03",
          "03/03",
          "04/03",
          "05/03",
          "06/03",
          "07/03",
          "08/03",
          "09/03",
          "10/03",
          "11/03",
          "12/03",
          "13/03",
          "14/03",
          "15/03",
          "16/03",
          "17/03",
          "18/03",
          "19/03",
          "20/03",
          "21/03",
          "22/03",
          "23/03",
          "24/03",
          "25/03",
          "26/03",
          "27/03",
          "28/03",
          "29/03",
          "30/03",
          "31/03",
          "01/04",
          "02/04",
          "03/04",
          "04/04",
          "05/04",
          "06/04",
          "07/04",
          "08/04",
          "09/04",
          "10/04",
          "11/04",
          "12/04",
          "13/04",
          "14/04",
          "15/04",
          "16/04",
          "17/04",
          "18/04",
          "19/04",
          "20/04",
          "21/04",
          "22/04",
          "23/04",
          "24/04",
          "25/04",
          "26/04",
          "27/04",
          "28/04",
          "29/04",
          "30/04",
          "01/05",
          "02/05",
          "03/05",
          "04/05",
          "05/05",
          "06/05",
          "07/05",
          "08/05",
          "09/05",
          "10/05",
          "11/05",
          "12/05",
          "13/05",
          "14/05",
          "15/05",
          "16/05",
          "17/05",
          "18/05",
          "19/05",
          "20/05",
          "21/05",
          "22/05",
          "23/05",
          "24/05",
          "25/05",
          "26/05",
          "27/05",
          "28/05",
          "29/05",
          "30/05",
          "31/05",
          "01/06",
          "02/06",
          "03/06",
          "04/06",
          "05/06",
          "06/06",
          "07/06",
          "08/06",
          "09/06",
          "10/06",
          "11/06",
          "12/06",
          "13/06",
          "14/06",
          "15/06",
          "16/06",
          "17/06",
          "18/06",
          "19/06",
          "20/06",
          "21/06",
          "22/06",
          "23/06",
          "24/06",
          "25/06",
          "26/06",
          "27/06",
          "28/06",
          "29/06",
          "30/06",
          "01/07",
          "02/07",
          "03/07",
          "04/07",
          "05/07",
          "06/07",
          "07/07",
          "08/07",
          "09/07",
          "10/07",
          "11/07",
          "12/07",
          "13/07"
         ],
         "xaxis": "x",
         "y": [
          1,
          2,
          1,
          3,
          0,
          0,
          0,
          2,
          22,
          14,
          21,
          7,
          11,
          5,
          10,
          18,
          73,
          38,
          103,
          21,
          35,
          31,
          46,
          31,
          35,
          94,
          71,
          48,
          78,
          71,
          74,
          95,
          95,
          56,
          102,
          101,
          129,
          69,
          60,
          62,
          20,
          77,
          52,
          71,
          54,
          72,
          33,
          31,
          25,
          22,
          15,
          17,
          11,
          0,
          10,
          156,
          7,
          55,
          27,
          16,
          11,
          17,
          32,
          10,
          15,
          21,
          8,
          6,
          6,
          10,
          21,
          15,
          13,
          19,
          6,
          10,
          18,
          16,
          10,
          40,
          9,
          15,
          2,
          4,
          10,
          3,
          21,
          3,
          2,
          4,
          7,
          18,
          3,
          5,
          7,
          2,
          2,
          19,
          0,
          15,
          15,
          13,
          17,
          52,
          9,
          11,
          20,
          20,
          4,
          9,
          13,
          15,
          55,
          24,
          10,
          19,
          10,
          21,
          16,
          8,
          13,
          22,
          23,
          10,
          15,
          20,
          23,
          28,
          28,
          25,
          9,
          43,
          27,
          33,
          50,
          60,
          41,
          31,
          24
         ],
         "yaxis": "y"
        },
        {
         "line": {
          "width": 2
         },
         "mode": "lines+markers",
         "name": "Max Temp",
         "opacity": 0.5,
         "type": "scatter",
         "x": [
          "26/02",
          "27/02",
          "28/02",
          "29/02",
          "01/03",
          "02/03",
          "03/03",
          "04/03",
          "05/03",
          "06/03",
          "07/03",
          "08/03",
          "09/03",
          "10/03",
          "11/03",
          "12/03",
          "13/03",
          "14/03",
          "15/03",
          "16/03",
          "17/03",
          "18/03",
          "19/03",
          "20/03",
          "21/03",
          "22/03",
          "23/03",
          "24/03",
          "25/03",
          "26/03",
          "27/03",
          "28/03",
          "29/03",
          "30/03",
          "31/03",
          "01/04",
          "02/04",
          "03/04",
          "04/04",
          "05/04",
          "06/04",
          "07/04",
          "08/04",
          "09/04",
          "10/04",
          "11/04",
          "12/04",
          "13/04",
          "14/04",
          "15/04",
          "16/04",
          "17/04",
          "18/04",
          "19/04",
          "20/04",
          "21/04",
          "22/04",
          "23/04",
          "24/04",
          "25/04",
          "26/04",
          "27/04",
          "28/04",
          "29/04",
          "30/04",
          "01/05",
          "02/05",
          "03/05",
          "04/05",
          "05/05",
          "06/05",
          "07/05",
          "08/05",
          "09/05",
          "10/05",
          "11/05",
          "12/05",
          "13/05",
          "14/05",
          "15/05",
          "16/05",
          "17/05",
          "18/05",
          "19/05",
          "20/05",
          "21/05",
          "22/05",
          "23/05",
          "24/05",
          "25/05",
          "26/05",
          "27/05",
          "28/05",
          "29/05",
          "30/05",
          "31/05",
          "01/06",
          "02/06",
          "03/06",
          "04/06",
          "05/06",
          "06/06",
          "07/06",
          "08/06",
          "09/06",
          "10/06",
          "11/06",
          "12/06",
          "13/06",
          "14/06",
          "15/06",
          "16/06",
          "17/06",
          "18/06",
          "19/06",
          "20/06",
          "21/06",
          "22/06",
          "23/06",
          "24/06",
          "25/06",
          "26/06",
          "27/06",
          "28/06",
          "29/06",
          "30/06",
          "01/07",
          "02/07",
          "03/07",
          "04/07",
          "05/07",
          "06/07",
          "07/07",
          "08/07",
          "09/07",
          "10/07",
          "11/07",
          "12/07",
          "13/07"
         ],
         "xaxis": "x",
         "y": [
          18.8,
          18.8,
          14.9,
          12.5,
          15.5,
          18.6,
          20.1,
          17.6,
          17.7,
          17.2,
          18.1,
          19.5,
          14.8,
          16.7,
          16.1,
          19.2,
          23.8,
          23.2,
          19.8,
          9.8,
          15.4,
          17.5,
          14.6,
          18.2,
          21.4,
          16.4,
          15.9,
          16.8,
          12.1,
          12,
          12.4,
          17.1,
          17.3,
          18.3,
          20,
          14.8,
          14.7,
          11.8,
          14.5,
          14.1,
          10.5,
          12.1,
          15.1,
          18.6,
          22,
          25.5,
          23,
          23.1,
          23.5,
          19.5,
          18.2,
          22.9,
          24.5,
          24.9,
          24.5,
          18.1,
          16.7,
          16.9,
          19.6,
          22.4,
          23,
          23.5,
          24.7,
          24.4,
          24.3,
          25.7,
          25.7,
          25.9,
          21.2,
          24.2,
          26.7,
          20,
          23.5,
          25.9,
          27.4,
          26.7,
          29.6,
          31.7,
          32.4,
          36.7,
          38.2,
          38.7,
          36.7,
          33.9,
          31.8,
          28.3,
          21.6,
          25.9,
          24.1,
          24.7,
          21,
          18,
          22,
          22.1,
          23.3,
          23.8,
          24.3,
          22.7,
          23.5,
          25.4,
          25.6,
          26.7,
          27.3,
          30.3,
          31.2,
          31.1,
          29.2,
          28.7,
          29.2,
          33.1,
          32.4,
          30.5,
          30.7,
          31.9,
          32.8,
          32.7,
          32.2,
          27.8,
          28.2,
          27.1,
          29.9,
          29.9,
          30.8,
          33,
          34,
          36.9,
          35.1,
          35.3,
          34.3,
          34.6,
          32.6,
          31.6,
          31,
          30,
          29.7,
          31.6,
          32.9,
          33,
          30.9
         ],
         "yaxis": "y2"
        }
       ],
       "layout": {
        "hovermode": "x unified",
        "template": {
         "data": {
          "bar": [
           {
            "error_x": {
             "color": "#2a3f5f"
            },
            "error_y": {
             "color": "#2a3f5f"
            },
            "marker": {
             "line": {
              "color": "#E5ECF6",
              "width": 0.5
             }
            },
            "type": "bar"
           }
          ],
          "barpolar": [
           {
            "marker": {
             "line": {
              "color": "#E5ECF6",
              "width": 0.5
             }
            },
            "type": "barpolar"
           }
          ],
          "carpet": [
           {
            "aaxis": {
             "endlinecolor": "#2a3f5f",
             "gridcolor": "white",
             "linecolor": "white",
             "minorgridcolor": "white",
             "startlinecolor": "#2a3f5f"
            },
            "baxis": {
             "endlinecolor": "#2a3f5f",
             "gridcolor": "white",
             "linecolor": "white",
             "minorgridcolor": "white",
             "startlinecolor": "#2a3f5f"
            },
            "type": "carpet"
           }
          ],
          "choropleth": [
           {
            "colorbar": {
             "outlinewidth": 0,
             "ticks": ""
            },
            "type": "choropleth"
           }
          ],
          "contour": [
           {
            "colorbar": {
             "outlinewidth": 0,
             "ticks": ""
            },
            "colorscale": [
             [
              0,
              "#0d0887"
             ],
             [
              0.1111111111111111,
              "#46039f"
             ],
             [
              0.2222222222222222,
              "#7201a8"
             ],
             [
              0.3333333333333333,
              "#9c179e"
             ],
             [
              0.4444444444444444,
              "#bd3786"
             ],
             [
              0.5555555555555556,
              "#d8576b"
             ],
             [
              0.6666666666666666,
              "#ed7953"
             ],
             [
              0.7777777777777778,
              "#fb9f3a"
             ],
             [
              0.8888888888888888,
              "#fdca26"
             ],
             [
              1,
              "#f0f921"
             ]
            ],
            "type": "contour"
           }
          ],
          "contourcarpet": [
           {
            "colorbar": {
             "outlinewidth": 0,
             "ticks": ""
            },
            "type": "contourcarpet"
           }
          ],
          "heatmap": [
           {
            "colorbar": {
             "outlinewidth": 0,
             "ticks": ""
            },
            "colorscale": [
             [
              0,
              "#0d0887"
             ],
             [
              0.1111111111111111,
              "#46039f"
             ],
             [
              0.2222222222222222,
              "#7201a8"
             ],
             [
              0.3333333333333333,
              "#9c179e"
             ],
             [
              0.4444444444444444,
              "#bd3786"
             ],
             [
              0.5555555555555556,
              "#d8576b"
             ],
             [
              0.6666666666666666,
              "#ed7953"
             ],
             [
              0.7777777777777778,
              "#fb9f3a"
             ],
             [
              0.8888888888888888,
              "#fdca26"
             ],
             [
              1,
              "#f0f921"
             ]
            ],
            "type": "heatmap"
           }
          ],
          "heatmapgl": [
           {
            "colorbar": {
             "outlinewidth": 0,
             "ticks": ""
            },
            "colorscale": [
             [
              0,
              "#0d0887"
             ],
             [
              0.1111111111111111,
              "#46039f"
             ],
             [
              0.2222222222222222,
              "#7201a8"
             ],
             [
              0.3333333333333333,
              "#9c179e"
             ],
             [
              0.4444444444444444,
              "#bd3786"
             ],
             [
              0.5555555555555556,
              "#d8576b"
             ],
             [
              0.6666666666666666,
              "#ed7953"
             ],
             [
              0.7777777777777778,
              "#fb9f3a"
             ],
             [
              0.8888888888888888,
              "#fdca26"
             ],
             [
              1,
              "#f0f921"
             ]
            ],
            "type": "heatmapgl"
           }
          ],
          "histogram": [
           {
            "marker": {
             "colorbar": {
              "outlinewidth": 0,
              "ticks": ""
             }
            },
            "type": "histogram"
           }
          ],
          "histogram2d": [
           {
            "colorbar": {
             "outlinewidth": 0,
             "ticks": ""
            },
            "colorscale": [
             [
              0,
              "#0d0887"
             ],
             [
              0.1111111111111111,
              "#46039f"
             ],
             [
              0.2222222222222222,
              "#7201a8"
             ],
             [
              0.3333333333333333,
              "#9c179e"
             ],
             [
              0.4444444444444444,
              "#bd3786"
             ],
             [
              0.5555555555555556,
              "#d8576b"
             ],
             [
              0.6666666666666666,
              "#ed7953"
             ],
             [
              0.7777777777777778,
              "#fb9f3a"
             ],
             [
              0.8888888888888888,
              "#fdca26"
             ],
             [
              1,
              "#f0f921"
             ]
            ],
            "type": "histogram2d"
           }
          ],
          "histogram2dcontour": [
           {
            "colorbar": {
             "outlinewidth": 0,
             "ticks": ""
            },
            "colorscale": [
             [
              0,
              "#0d0887"
             ],
             [
              0.1111111111111111,
              "#46039f"
             ],
             [
              0.2222222222222222,
              "#7201a8"
             ],
             [
              0.3333333333333333,
              "#9c179e"
             ],
             [
              0.4444444444444444,
              "#bd3786"
             ],
             [
              0.5555555555555556,
              "#d8576b"
             ],
             [
              0.6666666666666666,
              "#ed7953"
             ],
             [
              0.7777777777777778,
              "#fb9f3a"
             ],
             [
              0.8888888888888888,
              "#fdca26"
             ],
             [
              1,
              "#f0f921"
             ]
            ],
            "type": "histogram2dcontour"
           }
          ],
          "mesh3d": [
           {
            "colorbar": {
             "outlinewidth": 0,
             "ticks": ""
            },
            "type": "mesh3d"
           }
          ],
          "parcoords": [
           {
            "line": {
             "colorbar": {
              "outlinewidth": 0,
              "ticks": ""
             }
            },
            "type": "parcoords"
           }
          ],
          "pie": [
           {
            "automargin": true,
            "type": "pie"
           }
          ],
          "scatter": [
           {
            "marker": {
             "colorbar": {
              "outlinewidth": 0,
              "ticks": ""
             }
            },
            "type": "scatter"
           }
          ],
          "scatter3d": [
           {
            "line": {
             "colorbar": {
              "outlinewidth": 0,
              "ticks": ""
             }
            },
            "marker": {
             "colorbar": {
              "outlinewidth": 0,
              "ticks": ""
             }
            },
            "type": "scatter3d"
           }
          ],
          "scattercarpet": [
           {
            "marker": {
             "colorbar": {
              "outlinewidth": 0,
              "ticks": ""
             }
            },
            "type": "scattercarpet"
           }
          ],
          "scattergeo": [
           {
            "marker": {
             "colorbar": {
              "outlinewidth": 0,
              "ticks": ""
             }
            },
            "type": "scattergeo"
           }
          ],
          "scattergl": [
           {
            "marker": {
             "colorbar": {
              "outlinewidth": 0,
              "ticks": ""
             }
            },
            "type": "scattergl"
           }
          ],
          "scattermapbox": [
           {
            "marker": {
             "colorbar": {
              "outlinewidth": 0,
              "ticks": ""
             }
            },
            "type": "scattermapbox"
           }
          ],
          "scatterpolar": [
           {
            "marker": {
             "colorbar": {
              "outlinewidth": 0,
              "ticks": ""
             }
            },
            "type": "scatterpolar"
           }
          ],
          "scatterpolargl": [
           {
            "marker": {
             "colorbar": {
              "outlinewidth": 0,
              "ticks": ""
             }
            },
            "type": "scatterpolargl"
           }
          ],
          "scatterternary": [
           {
            "marker": {
             "colorbar": {
              "outlinewidth": 0,
              "ticks": ""
             }
            },
            "type": "scatterternary"
           }
          ],
          "surface": [
           {
            "colorbar": {
             "outlinewidth": 0,
             "ticks": ""
            },
            "colorscale": [
             [
              0,
              "#0d0887"
             ],
             [
              0.1111111111111111,
              "#46039f"
             ],
             [
              0.2222222222222222,
              "#7201a8"
             ],
             [
              0.3333333333333333,
              "#9c179e"
             ],
             [
              0.4444444444444444,
              "#bd3786"
             ],
             [
              0.5555555555555556,
              "#d8576b"
             ],
             [
              0.6666666666666666,
              "#ed7953"
             ],
             [
              0.7777777777777778,
              "#fb9f3a"
             ],
             [
              0.8888888888888888,
              "#fdca26"
             ],
             [
              1,
              "#f0f921"
             ]
            ],
            "type": "surface"
           }
          ],
          "table": [
           {
            "cells": {
             "fill": {
              "color": "#EBF0F8"
             },
             "line": {
              "color": "white"
             }
            },
            "header": {
             "fill": {
              "color": "#C8D4E3"
             },
             "line": {
              "color": "white"
             }
            },
            "type": "table"
           }
          ]
         },
         "layout": {
          "annotationdefaults": {
           "arrowcolor": "#2a3f5f",
           "arrowhead": 0,
           "arrowwidth": 1
          },
          "coloraxis": {
           "colorbar": {
            "outlinewidth": 0,
            "ticks": ""
           }
          },
          "colorscale": {
           "diverging": [
            [
             0,
             "#8e0152"
            ],
            [
             0.1,
             "#c51b7d"
            ],
            [
             0.2,
             "#de77ae"
            ],
            [
             0.3,
             "#f1b6da"
            ],
            [
             0.4,
             "#fde0ef"
            ],
            [
             0.5,
             "#f7f7f7"
            ],
            [
             0.6,
             "#e6f5d0"
            ],
            [
             0.7,
             "#b8e186"
            ],
            [
             0.8,
             "#7fbc41"
            ],
            [
             0.9,
             "#4d9221"
            ],
            [
             1,
             "#276419"
            ]
           ],
           "sequential": [
            [
             0,
             "#0d0887"
            ],
            [
             0.1111111111111111,
             "#46039f"
            ],
            [
             0.2222222222222222,
             "#7201a8"
            ],
            [
             0.3333333333333333,
             "#9c179e"
            ],
            [
             0.4444444444444444,
             "#bd3786"
            ],
            [
             0.5555555555555556,
             "#d8576b"
            ],
            [
             0.6666666666666666,
             "#ed7953"
            ],
            [
             0.7777777777777778,
             "#fb9f3a"
            ],
            [
             0.8888888888888888,
             "#fdca26"
            ],
            [
             1,
             "#f0f921"
            ]
           ],
           "sequentialminus": [
            [
             0,
             "#0d0887"
            ],
            [
             0.1111111111111111,
             "#46039f"
            ],
            [
             0.2222222222222222,
             "#7201a8"
            ],
            [
             0.3333333333333333,
             "#9c179e"
            ],
            [
             0.4444444444444444,
             "#bd3786"
            ],
            [
             0.5555555555555556,
             "#d8576b"
            ],
            [
             0.6666666666666666,
             "#ed7953"
            ],
            [
             0.7777777777777778,
             "#fb9f3a"
            ],
            [
             0.8888888888888888,
             "#fdca26"
            ],
            [
             1,
             "#f0f921"
            ]
           ]
          },
          "colorway": [
           "#636efa",
           "#EF553B",
           "#00cc96",
           "#ab63fa",
           "#FFA15A",
           "#19d3f3",
           "#FF6692",
           "#B6E880",
           "#FF97FF",
           "#FECB52"
          ],
          "font": {
           "color": "#2a3f5f"
          },
          "geo": {
           "bgcolor": "white",
           "lakecolor": "white",
           "landcolor": "#E5ECF6",
           "showlakes": true,
           "showland": true,
           "subunitcolor": "white"
          },
          "hoverlabel": {
           "align": "left"
          },
          "hovermode": "closest",
          "mapbox": {
           "style": "light"
          },
          "paper_bgcolor": "white",
          "plot_bgcolor": "#E5ECF6",
          "polar": {
           "angularaxis": {
            "gridcolor": "white",
            "linecolor": "white",
            "ticks": ""
           },
           "bgcolor": "#E5ECF6",
           "radialaxis": {
            "gridcolor": "white",
            "linecolor": "white",
            "ticks": ""
           }
          },
          "scene": {
           "xaxis": {
            "backgroundcolor": "#E5ECF6",
            "gridcolor": "white",
            "gridwidth": 2,
            "linecolor": "white",
            "showbackground": true,
            "ticks": "",
            "zerolinecolor": "white"
           },
           "yaxis": {
            "backgroundcolor": "#E5ECF6",
            "gridcolor": "white",
            "gridwidth": 2,
            "linecolor": "white",
            "showbackground": true,
            "ticks": "",
            "zerolinecolor": "white"
           },
           "zaxis": {
            "backgroundcolor": "#E5ECF6",
            "gridcolor": "white",
            "gridwidth": 2,
            "linecolor": "white",
            "showbackground": true,
            "ticks": "",
            "zerolinecolor": "white"
           }
          },
          "shapedefaults": {
           "line": {
            "color": "#2a3f5f"
           }
          },
          "ternary": {
           "aaxis": {
            "gridcolor": "white",
            "linecolor": "white",
            "ticks": ""
           },
           "baxis": {
            "gridcolor": "white",
            "linecolor": "white",
            "ticks": ""
           },
           "bgcolor": "#E5ECF6",
           "caxis": {
            "gridcolor": "white",
            "linecolor": "white",
            "ticks": ""
           }
          },
          "title": {
           "x": 0.05
          },
          "xaxis": {
           "automargin": true,
           "gridcolor": "white",
           "linecolor": "white",
           "ticks": "",
           "title": {
            "standoff": 15
           },
           "zerolinecolor": "white",
           "zerolinewidth": 2
          },
          "yaxis": {
           "automargin": true,
           "gridcolor": "white",
           "linecolor": "white",
           "ticks": "",
           "title": {
            "standoff": 15
           },
           "zerolinecolor": "white",
           "zerolinewidth": 2
          }
         }
        },
        "title": {
         "text": "<b>Daily Cases of Covid_19 and Max Temperatures in Greece (139 days)</b>"
        },
        "xaxis": {
         "anchor": "y",
         "domain": [
          0,
          0.94
         ],
         "title": {
          "text": "Dates"
         }
        },
        "yaxis": {
         "anchor": "x",
         "domain": [
          0,
          1
         ],
         "title": {
          "text": "Number of Daily Cases"
         }
        },
        "yaxis2": {
         "anchor": "x",
         "overlaying": "y",
         "side": "right",
         "title": {
          "text": "Max Temperatures"
         }
        }
       }
      },
      "text/html": [
       "<div>\n",
       "        \n",
       "        \n",
       "            <div id=\"3cfe4c34-5294-4a5f-9e21-d3a8f7bceddb\" class=\"plotly-graph-div\" style=\"height:525px; width:100%;\"></div>\n",
       "            <script type=\"text/javascript\">\n",
       "                require([\"plotly\"], function(Plotly) {\n",
       "                    window.PLOTLYENV=window.PLOTLYENV || {};\n",
       "                    \n",
       "                if (document.getElementById(\"3cfe4c34-5294-4a5f-9e21-d3a8f7bceddb\")) {\n",
       "                    Plotly.newPlot(\n",
       "                        '3cfe4c34-5294-4a5f-9e21-d3a8f7bceddb',\n",
       "                        [{\"line\": {\"width\": 2}, \"mode\": \"lines+markers\", \"name\": \"Daily Cases\", \"type\": \"scatter\", \"x\": [\"26/02\", \"27/02\", \"28/02\", \"29/02\", \"01/03\", \"02/03\", \"03/03\", \"04/03\", \"05/03\", \"06/03\", \"07/03\", \"08/03\", \"09/03\", \"10/03\", \"11/03\", \"12/03\", \"13/03\", \"14/03\", \"15/03\", \"16/03\", \"17/03\", \"18/03\", \"19/03\", \"20/03\", \"21/03\", \"22/03\", \"23/03\", \"24/03\", \"25/03\", \"26/03\", \"27/03\", \"28/03\", \"29/03\", \"30/03\", \"31/03\", \"01/04\", \"02/04\", \"03/04\", \"04/04\", \"05/04\", \"06/04\", \"07/04\", \"08/04\", \"09/04\", \"10/04\", \"11/04\", \"12/04\", \"13/04\", \"14/04\", \"15/04\", \"16/04\", \"17/04\", \"18/04\", \"19/04\", \"20/04\", \"21/04\", \"22/04\", \"23/04\", \"24/04\", \"25/04\", \"26/04\", \"27/04\", \"28/04\", \"29/04\", \"30/04\", \"01/05\", \"02/05\", \"03/05\", \"04/05\", \"05/05\", \"06/05\", \"07/05\", \"08/05\", \"09/05\", \"10/05\", \"11/05\", \"12/05\", \"13/05\", \"14/05\", \"15/05\", \"16/05\", \"17/05\", \"18/05\", \"19/05\", \"20/05\", \"21/05\", \"22/05\", \"23/05\", \"24/05\", \"25/05\", \"26/05\", \"27/05\", \"28/05\", \"29/05\", \"30/05\", \"31/05\", \"01/06\", \"02/06\", \"03/06\", \"04/06\", \"05/06\", \"06/06\", \"07/06\", \"08/06\", \"09/06\", \"10/06\", \"11/06\", \"12/06\", \"13/06\", \"14/06\", \"15/06\", \"16/06\", \"17/06\", \"18/06\", \"19/06\", \"20/06\", \"21/06\", \"22/06\", \"23/06\", \"24/06\", \"25/06\", \"26/06\", \"27/06\", \"28/06\", \"29/06\", \"30/06\", \"01/07\", \"02/07\", \"03/07\", \"04/07\", \"05/07\", \"06/07\", \"07/07\", \"08/07\", \"09/07\", \"10/07\", \"11/07\", \"12/07\", \"13/07\"], \"xaxis\": \"x\", \"y\": [1, 2, 1, 3, 0, 0, 0, 2, 22, 14, 21, 7, 11, 5, 10, 18, 73, 38, 103, 21, 35, 31, 46, 31, 35, 94, 71, 48, 78, 71, 74, 95, 95, 56, 102, 101, 129, 69, 60, 62, 20, 77, 52, 71, 54, 72, 33, 31, 25, 22, 15, 17, 11, 0, 10, 156, 7, 55, 27, 16, 11, 17, 32, 10, 15, 21, 8, 6, 6, 10, 21, 15, 13, 19, 6, 10, 18, 16, 10, 40, 9, 15, 2, 4, 10, 3, 21, 3, 2, 4, 7, 18, 3, 5, 7, 2, 2, 19, 0, 15, 15, 13, 17, 52, 9, 11, 20, 20, 4, 9, 13, 15, 55, 24, 10, 19, 10, 21, 16, 8, 13, 22, 23, 10, 15, 20, 23, 28, 28, 25, 9, 43, 27, 33, 50, 60, 41, 31, 24], \"yaxis\": \"y\"}, {\"line\": {\"width\": 2}, \"mode\": \"lines+markers\", \"name\": \"Max Temp\", \"opacity\": 0.5, \"type\": \"scatter\", \"x\": [\"26/02\", \"27/02\", \"28/02\", \"29/02\", \"01/03\", \"02/03\", \"03/03\", \"04/03\", \"05/03\", \"06/03\", \"07/03\", \"08/03\", \"09/03\", \"10/03\", \"11/03\", \"12/03\", \"13/03\", \"14/03\", \"15/03\", \"16/03\", \"17/03\", \"18/03\", \"19/03\", \"20/03\", \"21/03\", \"22/03\", \"23/03\", \"24/03\", \"25/03\", \"26/03\", \"27/03\", \"28/03\", \"29/03\", \"30/03\", \"31/03\", \"01/04\", \"02/04\", \"03/04\", \"04/04\", \"05/04\", \"06/04\", \"07/04\", \"08/04\", \"09/04\", \"10/04\", \"11/04\", \"12/04\", \"13/04\", \"14/04\", \"15/04\", \"16/04\", \"17/04\", \"18/04\", \"19/04\", \"20/04\", \"21/04\", \"22/04\", \"23/04\", \"24/04\", \"25/04\", \"26/04\", \"27/04\", \"28/04\", \"29/04\", \"30/04\", \"01/05\", \"02/05\", \"03/05\", \"04/05\", \"05/05\", \"06/05\", \"07/05\", \"08/05\", \"09/05\", \"10/05\", \"11/05\", \"12/05\", \"13/05\", \"14/05\", \"15/05\", \"16/05\", \"17/05\", \"18/05\", \"19/05\", \"20/05\", \"21/05\", \"22/05\", \"23/05\", \"24/05\", \"25/05\", \"26/05\", \"27/05\", \"28/05\", \"29/05\", \"30/05\", \"31/05\", \"01/06\", \"02/06\", \"03/06\", \"04/06\", \"05/06\", \"06/06\", \"07/06\", \"08/06\", \"09/06\", \"10/06\", \"11/06\", \"12/06\", \"13/06\", \"14/06\", \"15/06\", \"16/06\", \"17/06\", \"18/06\", \"19/06\", \"20/06\", \"21/06\", \"22/06\", \"23/06\", \"24/06\", \"25/06\", \"26/06\", \"27/06\", \"28/06\", \"29/06\", \"30/06\", \"01/07\", \"02/07\", \"03/07\", \"04/07\", \"05/07\", \"06/07\", \"07/07\", \"08/07\", \"09/07\", \"10/07\", \"11/07\", \"12/07\", \"13/07\"], \"xaxis\": \"x\", \"y\": [18.8, 18.8, 14.9, 12.5, 15.5, 18.6, 20.1, 17.6, 17.7, 17.2, 18.1, 19.5, 14.8, 16.7, 16.1, 19.2, 23.8, 23.2, 19.8, 9.8, 15.4, 17.5, 14.6, 18.2, 21.4, 16.4, 15.9, 16.8, 12.1, 12.0, 12.4, 17.1, 17.3, 18.3, 20.0, 14.8, 14.7, 11.8, 14.5, 14.1, 10.5, 12.1, 15.1, 18.6, 22.0, 25.5, 23.0, 23.1, 23.5, 19.5, 18.2, 22.9, 24.5, 24.9, 24.5, 18.1, 16.7, 16.9, 19.6, 22.4, 23.0, 23.5, 24.7, 24.4, 24.3, 25.7, 25.7, 25.9, 21.2, 24.2, 26.7, 20.0, 23.5, 25.9, 27.4, 26.7, 29.6, 31.7, 32.4, 36.7, 38.2, 38.7, 36.7, 33.9, 31.8, 28.3, 21.6, 25.9, 24.1, 24.7, 21.0, 18.0, 22.0, 22.1, 23.3, 23.8, 24.3, 22.7, 23.5, 25.4, 25.6, 26.7, 27.3, 30.3, 31.2, 31.1, 29.2, 28.7, 29.2, 33.1, 32.4, 30.5, 30.7, 31.9, 32.8, 32.7, 32.2, 27.8, 28.2, 27.1, 29.9, 29.9, 30.8, 33.0, 34.0, 36.9, 35.1, 35.3, 34.3, 34.6, 32.6, 31.6, 31.0, 30.0, 29.7, 31.6, 32.9, 33.0, 30.9], \"yaxis\": \"y2\"}],\n",
       "                        {\"hovermode\": \"x unified\", \"template\": {\"data\": {\"bar\": [{\"error_x\": {\"color\": \"#2a3f5f\"}, \"error_y\": {\"color\": \"#2a3f5f\"}, \"marker\": {\"line\": {\"color\": \"#E5ECF6\", \"width\": 0.5}}, \"type\": \"bar\"}], \"barpolar\": [{\"marker\": {\"line\": {\"color\": \"#E5ECF6\", \"width\": 0.5}}, \"type\": \"barpolar\"}], \"carpet\": [{\"aaxis\": {\"endlinecolor\": \"#2a3f5f\", \"gridcolor\": \"white\", \"linecolor\": \"white\", \"minorgridcolor\": \"white\", \"startlinecolor\": \"#2a3f5f\"}, \"baxis\": {\"endlinecolor\": \"#2a3f5f\", \"gridcolor\": \"white\", \"linecolor\": \"white\", \"minorgridcolor\": \"white\", \"startlinecolor\": \"#2a3f5f\"}, \"type\": \"carpet\"}], \"choropleth\": [{\"colorbar\": {\"outlinewidth\": 0, \"ticks\": \"\"}, \"type\": \"choropleth\"}], \"contour\": [{\"colorbar\": {\"outlinewidth\": 0, \"ticks\": \"\"}, \"colorscale\": [[0.0, \"#0d0887\"], [0.1111111111111111, \"#46039f\"], [0.2222222222222222, \"#7201a8\"], [0.3333333333333333, \"#9c179e\"], [0.4444444444444444, \"#bd3786\"], [0.5555555555555556, \"#d8576b\"], [0.6666666666666666, \"#ed7953\"], [0.7777777777777778, \"#fb9f3a\"], [0.8888888888888888, \"#fdca26\"], [1.0, \"#f0f921\"]], \"type\": \"contour\"}], \"contourcarpet\": [{\"colorbar\": {\"outlinewidth\": 0, \"ticks\": \"\"}, \"type\": \"contourcarpet\"}], \"heatmap\": [{\"colorbar\": {\"outlinewidth\": 0, \"ticks\": \"\"}, \"colorscale\": [[0.0, \"#0d0887\"], [0.1111111111111111, \"#46039f\"], [0.2222222222222222, \"#7201a8\"], [0.3333333333333333, \"#9c179e\"], [0.4444444444444444, \"#bd3786\"], [0.5555555555555556, \"#d8576b\"], [0.6666666666666666, \"#ed7953\"], [0.7777777777777778, \"#fb9f3a\"], [0.8888888888888888, \"#fdca26\"], [1.0, \"#f0f921\"]], \"type\": \"heatmap\"}], \"heatmapgl\": [{\"colorbar\": {\"outlinewidth\": 0, \"ticks\": \"\"}, \"colorscale\": [[0.0, \"#0d0887\"], [0.1111111111111111, \"#46039f\"], [0.2222222222222222, \"#7201a8\"], [0.3333333333333333, \"#9c179e\"], [0.4444444444444444, \"#bd3786\"], [0.5555555555555556, \"#d8576b\"], [0.6666666666666666, \"#ed7953\"], [0.7777777777777778, \"#fb9f3a\"], [0.8888888888888888, \"#fdca26\"], [1.0, \"#f0f921\"]], \"type\": \"heatmapgl\"}], \"histogram\": [{\"marker\": {\"colorbar\": {\"outlinewidth\": 0, \"ticks\": \"\"}}, \"type\": \"histogram\"}], \"histogram2d\": [{\"colorbar\": {\"outlinewidth\": 0, \"ticks\": \"\"}, \"colorscale\": [[0.0, \"#0d0887\"], [0.1111111111111111, \"#46039f\"], [0.2222222222222222, \"#7201a8\"], [0.3333333333333333, \"#9c179e\"], [0.4444444444444444, \"#bd3786\"], [0.5555555555555556, \"#d8576b\"], [0.6666666666666666, \"#ed7953\"], [0.7777777777777778, \"#fb9f3a\"], [0.8888888888888888, \"#fdca26\"], [1.0, \"#f0f921\"]], \"type\": \"histogram2d\"}], \"histogram2dcontour\": [{\"colorbar\": {\"outlinewidth\": 0, \"ticks\": \"\"}, \"colorscale\": [[0.0, \"#0d0887\"], [0.1111111111111111, \"#46039f\"], [0.2222222222222222, \"#7201a8\"], [0.3333333333333333, \"#9c179e\"], [0.4444444444444444, \"#bd3786\"], [0.5555555555555556, \"#d8576b\"], [0.6666666666666666, \"#ed7953\"], [0.7777777777777778, \"#fb9f3a\"], [0.8888888888888888, \"#fdca26\"], [1.0, \"#f0f921\"]], \"type\": \"histogram2dcontour\"}], \"mesh3d\": [{\"colorbar\": {\"outlinewidth\": 0, \"ticks\": \"\"}, \"type\": \"mesh3d\"}], \"parcoords\": [{\"line\": {\"colorbar\": {\"outlinewidth\": 0, \"ticks\": \"\"}}, \"type\": \"parcoords\"}], \"pie\": [{\"automargin\": true, \"type\": \"pie\"}], \"scatter\": [{\"marker\": {\"colorbar\": {\"outlinewidth\": 0, \"ticks\": \"\"}}, \"type\": \"scatter\"}], \"scatter3d\": [{\"line\": {\"colorbar\": {\"outlinewidth\": 0, \"ticks\": \"\"}}, \"marker\": {\"colorbar\": {\"outlinewidth\": 0, \"ticks\": \"\"}}, \"type\": \"scatter3d\"}], \"scattercarpet\": [{\"marker\": {\"colorbar\": {\"outlinewidth\": 0, \"ticks\": \"\"}}, \"type\": \"scattercarpet\"}], \"scattergeo\": [{\"marker\": {\"colorbar\": {\"outlinewidth\": 0, \"ticks\": \"\"}}, \"type\": \"scattergeo\"}], \"scattergl\": [{\"marker\": {\"colorbar\": {\"outlinewidth\": 0, \"ticks\": \"\"}}, \"type\": \"scattergl\"}], \"scattermapbox\": [{\"marker\": {\"colorbar\": {\"outlinewidth\": 0, \"ticks\": \"\"}}, \"type\": \"scattermapbox\"}], \"scatterpolar\": [{\"marker\": {\"colorbar\": {\"outlinewidth\": 0, \"ticks\": \"\"}}, \"type\": \"scatterpolar\"}], \"scatterpolargl\": [{\"marker\": {\"colorbar\": {\"outlinewidth\": 0, \"ticks\": \"\"}}, \"type\": \"scatterpolargl\"}], \"scatterternary\": [{\"marker\": {\"colorbar\": {\"outlinewidth\": 0, \"ticks\": \"\"}}, \"type\": \"scatterternary\"}], \"surface\": [{\"colorbar\": {\"outlinewidth\": 0, \"ticks\": \"\"}, \"colorscale\": [[0.0, \"#0d0887\"], [0.1111111111111111, \"#46039f\"], [0.2222222222222222, \"#7201a8\"], [0.3333333333333333, \"#9c179e\"], [0.4444444444444444, \"#bd3786\"], [0.5555555555555556, \"#d8576b\"], [0.6666666666666666, \"#ed7953\"], [0.7777777777777778, \"#fb9f3a\"], [0.8888888888888888, \"#fdca26\"], [1.0, \"#f0f921\"]], \"type\": \"surface\"}], \"table\": [{\"cells\": {\"fill\": {\"color\": \"#EBF0F8\"}, \"line\": {\"color\": \"white\"}}, \"header\": {\"fill\": {\"color\": \"#C8D4E3\"}, \"line\": {\"color\": \"white\"}}, \"type\": \"table\"}]}, \"layout\": {\"annotationdefaults\": {\"arrowcolor\": \"#2a3f5f\", \"arrowhead\": 0, \"arrowwidth\": 1}, \"coloraxis\": {\"colorbar\": {\"outlinewidth\": 0, \"ticks\": \"\"}}, \"colorscale\": {\"diverging\": [[0, \"#8e0152\"], [0.1, \"#c51b7d\"], [0.2, \"#de77ae\"], [0.3, \"#f1b6da\"], [0.4, \"#fde0ef\"], [0.5, \"#f7f7f7\"], [0.6, \"#e6f5d0\"], [0.7, \"#b8e186\"], [0.8, \"#7fbc41\"], [0.9, \"#4d9221\"], [1, \"#276419\"]], \"sequential\": [[0.0, \"#0d0887\"], [0.1111111111111111, \"#46039f\"], [0.2222222222222222, \"#7201a8\"], [0.3333333333333333, \"#9c179e\"], [0.4444444444444444, \"#bd3786\"], [0.5555555555555556, \"#d8576b\"], [0.6666666666666666, \"#ed7953\"], [0.7777777777777778, \"#fb9f3a\"], [0.8888888888888888, \"#fdca26\"], [1.0, \"#f0f921\"]], \"sequentialminus\": [[0.0, \"#0d0887\"], [0.1111111111111111, \"#46039f\"], [0.2222222222222222, \"#7201a8\"], [0.3333333333333333, \"#9c179e\"], [0.4444444444444444, \"#bd3786\"], [0.5555555555555556, \"#d8576b\"], [0.6666666666666666, \"#ed7953\"], [0.7777777777777778, \"#fb9f3a\"], [0.8888888888888888, \"#fdca26\"], [1.0, \"#f0f921\"]]}, \"colorway\": [\"#636efa\", \"#EF553B\", \"#00cc96\", \"#ab63fa\", \"#FFA15A\", \"#19d3f3\", \"#FF6692\", \"#B6E880\", \"#FF97FF\", \"#FECB52\"], \"font\": {\"color\": \"#2a3f5f\"}, \"geo\": {\"bgcolor\": \"white\", \"lakecolor\": \"white\", \"landcolor\": \"#E5ECF6\", \"showlakes\": true, \"showland\": true, \"subunitcolor\": \"white\"}, \"hoverlabel\": {\"align\": \"left\"}, \"hovermode\": \"closest\", \"mapbox\": {\"style\": \"light\"}, \"paper_bgcolor\": \"white\", \"plot_bgcolor\": \"#E5ECF6\", \"polar\": {\"angularaxis\": {\"gridcolor\": \"white\", \"linecolor\": \"white\", \"ticks\": \"\"}, \"bgcolor\": \"#E5ECF6\", \"radialaxis\": {\"gridcolor\": \"white\", \"linecolor\": \"white\", \"ticks\": \"\"}}, \"scene\": {\"xaxis\": {\"backgroundcolor\": \"#E5ECF6\", \"gridcolor\": \"white\", \"gridwidth\": 2, \"linecolor\": \"white\", \"showbackground\": true, \"ticks\": \"\", \"zerolinecolor\": \"white\"}, \"yaxis\": {\"backgroundcolor\": \"#E5ECF6\", \"gridcolor\": \"white\", \"gridwidth\": 2, \"linecolor\": \"white\", \"showbackground\": true, \"ticks\": \"\", \"zerolinecolor\": \"white\"}, \"zaxis\": {\"backgroundcolor\": \"#E5ECF6\", \"gridcolor\": \"white\", \"gridwidth\": 2, \"linecolor\": \"white\", \"showbackground\": true, \"ticks\": \"\", \"zerolinecolor\": \"white\"}}, \"shapedefaults\": {\"line\": {\"color\": \"#2a3f5f\"}}, \"ternary\": {\"aaxis\": {\"gridcolor\": \"white\", \"linecolor\": \"white\", \"ticks\": \"\"}, \"baxis\": {\"gridcolor\": \"white\", \"linecolor\": \"white\", \"ticks\": \"\"}, \"bgcolor\": \"#E5ECF6\", \"caxis\": {\"gridcolor\": \"white\", \"linecolor\": \"white\", \"ticks\": \"\"}}, \"title\": {\"x\": 0.05}, \"xaxis\": {\"automargin\": true, \"gridcolor\": \"white\", \"linecolor\": \"white\", \"ticks\": \"\", \"title\": {\"standoff\": 15}, \"zerolinecolor\": \"white\", \"zerolinewidth\": 2}, \"yaxis\": {\"automargin\": true, \"gridcolor\": \"white\", \"linecolor\": \"white\", \"ticks\": \"\", \"title\": {\"standoff\": 15}, \"zerolinecolor\": \"white\", \"zerolinewidth\": 2}}}, \"title\": {\"text\": \"<b>Daily Cases of Covid_19 and Max Temperatures in Greece (139 days)</b>\"}, \"xaxis\": {\"anchor\": \"y\", \"domain\": [0.0, 0.94], \"title\": {\"text\": \"Dates\"}}, \"yaxis\": {\"anchor\": \"x\", \"domain\": [0.0, 1.0], \"title\": {\"text\": \"Number of Daily Cases\"}}, \"yaxis2\": {\"anchor\": \"x\", \"overlaying\": \"y\", \"side\": \"right\", \"title\": {\"text\": \"Max Temperatures\"}}},\n",
       "                        {\"responsive\": true}\n",
       "                    ).then(function(){\n",
       "                            \n",
       "var gd = document.getElementById('3cfe4c34-5294-4a5f-9e21-d3a8f7bceddb');\n",
       "var x = new MutationObserver(function (mutations, observer) {{\n",
       "        var display = window.getComputedStyle(gd).display;\n",
       "        if (!display || display === 'none') {{\n",
       "            console.log([gd, 'removed!']);\n",
       "            Plotly.purge(gd);\n",
       "            observer.disconnect();\n",
       "        }}\n",
       "}});\n",
       "\n",
       "// Listen for the removal of the full notebook cells\n",
       "var notebookContainer = gd.closest('#notebook-container');\n",
       "if (notebookContainer) {{\n",
       "    x.observe(notebookContainer, {childList: true});\n",
       "}}\n",
       "\n",
       "// Listen for the clearing of the current output cell\n",
       "var outputEl = gd.closest('.output');\n",
       "if (outputEl) {{\n",
       "    x.observe(outputEl, {childList: true});\n",
       "}}\n",
       "\n",
       "                        })\n",
       "                };\n",
       "                });\n",
       "            </script>\n",
       "        </div>"
      ]
     },
     "metadata": {},
     "output_type": "display_data"
    }
   ],
   "source": [
    "# Figure with secondary y-axis\n",
    "fig = make_subplots(specs=[[{\"secondary_y\": True}]])\n",
    "\n",
    "# Traces - Bars and line\n",
    "fig.add_trace(\n",
    "    go.Scatter(x=df.index, y=df['Daily Cases'], mode='lines+markers', name='Daily Cases', line_width=2),\n",
    "    secondary_y=False,\n",
    ")\n",
    "\n",
    "fig.add_trace(\n",
    "    go.Scatter(x=df.index, y=df['Max Temperatures'], opacity=0.5,\n",
    "               mode='lines+markers', name='Max Temp', line_width=2),\n",
    "    secondary_y=True,\n",
    ")\n",
    "\n",
    "# Figure Title\n",
    "fig.update_layout(\n",
    "    title_text='<b>Daily Cases of Covid_19 and Max Temperatures in Greece ('+str(len(df['Total Cases']))+' days)</b>'\n",
    ")\n",
    "\n",
    "# x-axis and y-axes titles\n",
    "fig.update_xaxes(title_text='Dates')\n",
    "fig.update_yaxes(title_text='Number of Daily Cases', secondary_y=False)\n",
    "fig.update_yaxes(title_text='Max Temperatures', secondary_y=True)\n",
    "\n",
    "fig.update_layout(hovermode='x unified')\n",
    "fig.show()"
   ]
  },
  {
   "cell_type": "markdown",
   "metadata": {},
   "source": [
    "# Sources -Values taken from  :  \n",
    "### Covid19.gov.gr : https://covid19.gov.gr/covid19-live-analytics/\n",
    "### Acharnes weather station statistics : http://www.meteoacharnes.gr/statistika/datasummary.htm\n",
    "### Worldometers : https://www.worldometers.info/coronavirus/country/greece/ "
   ]
  }
 ],
 "metadata": {
  "kernelspec": {
   "display_name": "Python 3",
   "language": "python",
   "name": "python3"
  },
  "language_info": {
   "codemirror_mode": {
    "name": "ipython",
    "version": 3
   },
   "file_extension": ".py",
   "mimetype": "text/x-python",
   "name": "python",
   "nbconvert_exporter": "python",
   "pygments_lexer": "ipython3",
   "version": "3.6.9"
  }
 },
 "nbformat": 4,
 "nbformat_minor": 2
}
